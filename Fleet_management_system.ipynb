{
  "cells": [
    {
      "cell_type": "markdown",
      "metadata": {
        "id": "mP-q7YSoIFpX"
      },
      "source": [
        "**Introduction**\n",
        "\n",
        "In this project, I explored algorithms to optimize delivery routes for a courier service, aiming to minimize travel distance while considering delivery time windows. I tested three datasets:\n",
        "\n",
        "Distinct Towns: Locations split into regions with specific delivery windows.\n",
        "\n",
        "Sparse Locations: Widely spread-out locations with varying time windows.\n",
        "\n",
        "Congested Locations: Densely packed urban deliveries.\n",
        "I compared the performance of Genetic Algorithm (GA) and Ant Colony Optimization (ACO) across these scenarios to identify the most effective approach for different environments."
      ]
    },
    {
      "cell_type": "code",
      "execution_count": 2,
      "metadata": {},
      "outputs": [
        {
          "name": "stdout",
          "output_type": "stream",
          "text": [
            "Collecting geopy\n",
            "  Downloading geopy-2.4.1-py3-none-any.whl.metadata (6.8 kB)\n",
            "Collecting geographiclib<3,>=1.52 (from geopy)\n",
            "  Downloading geographiclib-2.0-py3-none-any.whl.metadata (1.4 kB)\n",
            "Downloading geopy-2.4.1-py3-none-any.whl (125 kB)\n",
            "   ---------------------------------------- 0.0/125.4 kB ? eta -:--:--\n",
            "   --- ------------------------------------ 10.2/125.4 kB ? eta -:--:--\n",
            "   --- ------------------------------------ 10.2/125.4 kB ? eta -:--:--\n",
            "   --- ------------------------------------ 10.2/125.4 kB ? eta -:--:--\n",
            "   --- ------------------------------------ 10.2/125.4 kB ? eta -:--:--\n",
            "   --- ------------------------------------ 10.2/125.4 kB ? eta -:--:--\n",
            "   --- ------------------------------------ 10.2/125.4 kB ? eta -:--:--\n",
            "   --- ------------------------------------ 10.2/125.4 kB ? eta -:--:--\n",
            "   --- ------------------------------------ 10.2/125.4 kB ? eta -:--:--\n",
            "   --- ------------------------------------ 10.2/125.4 kB ? eta -:--:--\n",
            "   --- ------------------------------------ 10.2/125.4 kB ? eta -:--:--\n",
            "   --- ------------------------------------ 10.2/125.4 kB ? eta -:--:--\n",
            "   --- ------------------------------------ 10.2/125.4 kB ? eta -:--:--\n",
            "   --- ------------------------------------ 10.2/125.4 kB ? eta -:--:--\n",
            "   --- ------------------------------------ 10.2/125.4 kB ? eta -:--:--\n",
            "   --- ------------------------------------ 10.2/125.4 kB ? eta -:--:--\n",
            "   --- ------------------------------------ 10.2/125.4 kB ? eta -:--:--\n",
            "   --- ------------------------------------ 10.2/125.4 kB ? eta -:--:--\n",
            "   --- ------------------------------------ 10.2/125.4 kB ? eta -:--:--\n",
            "   --- ------------------------------------ 10.2/125.4 kB ? eta -:--:--\n",
            "   --- ------------------------------------ 10.2/125.4 kB ? eta -:--:--\n",
            "   --- ------------------------------------ 10.2/125.4 kB ? eta -:--:--\n",
            "   --- ------------------------------------ 10.2/125.4 kB ? eta -:--:--\n",
            "   --- ------------------------------------ 10.2/125.4 kB ? eta -:--:--\n",
            "   ------------------- -------------------- 61.4/125.4 kB 48.2 kB/s eta 0:00:02\n",
            "   ------------------- -------------------- 61.4/125.4 kB 48.2 kB/s eta 0:00:02\n",
            "   ---------------------- ----------------- 71.7/125.4 kB 51.8 kB/s eta 0:00:02\n",
            "   ---------------------- ----------------- 71.7/125.4 kB 51.8 kB/s eta 0:00:02\n",
            "   ---------------------- ----------------- 71.7/125.4 kB 51.8 kB/s eta 0:00:02\n",
            "   ---------------------- ----------------- 71.7/125.4 kB 51.8 kB/s eta 0:00:02\n",
            "   ---------------------- ----------------- 71.7/125.4 kB 51.8 kB/s eta 0:00:02\n",
            "   ---------------------- ----------------- 71.7/125.4 kB 51.8 kB/s eta 0:00:02\n",
            "   ---------------------- ----------------- 71.7/125.4 kB 51.8 kB/s eta 0:00:02\n",
            "   ---------------------- ----------------- 71.7/125.4 kB 51.8 kB/s eta 0:00:02\n",
            "   ---------------------- ----------------- 71.7/125.4 kB 51.8 kB/s eta 0:00:02\n",
            "   ---------------------- ----------------- 71.7/125.4 kB 51.8 kB/s eta 0:00:02\n",
            "   ---------------------- ----------------- 71.7/125.4 kB 51.8 kB/s eta 0:00:02\n",
            "   ---------------------- ----------------- 71.7/125.4 kB 51.8 kB/s eta 0:00:02\n",
            "   ---------------------- ----------------- 71.7/125.4 kB 51.8 kB/s eta 0:00:02\n",
            "   ---------------------- ----------------- 71.7/125.4 kB 51.8 kB/s eta 0:00:02\n",
            "   ----------------------------- ---------- 92.2/125.4 kB 44.8 kB/s eta 0:00:01\n",
            "   ----------------------------- ---------- 92.2/125.4 kB 44.8 kB/s eta 0:00:01\n",
            "   ----------------------------- ---------- 92.2/125.4 kB 44.8 kB/s eta 0:00:01\n",
            "   ----------------------------- ---------- 92.2/125.4 kB 44.8 kB/s eta 0:00:01\n",
            "   ----------------------------- ---------- 92.2/125.4 kB 44.8 kB/s eta 0:00:01\n",
            "   ----------------------------- ---------- 92.2/125.4 kB 44.8 kB/s eta 0:00:01\n",
            "   ----------------------------------- --- 112.6/125.4 kB 48.9 kB/s eta 0:00:01\n",
            "   ----------------------------------- --- 112.6/125.4 kB 48.9 kB/s eta 0:00:01\n",
            "   ----------------------------------- --- 112.6/125.4 kB 48.9 kB/s eta 0:00:01\n",
            "   ----------------------------------- --- 112.6/125.4 kB 48.9 kB/s eta 0:00:01\n",
            "   ----------------------------------- --- 112.6/125.4 kB 48.9 kB/s eta 0:00:01\n",
            "   ----------------------------------- --- 112.6/125.4 kB 48.9 kB/s eta 0:00:01\n",
            "   ----------------------------------- --- 112.6/125.4 kB 48.9 kB/s eta 0:00:01\n",
            "   ----------------------------------- --- 112.6/125.4 kB 48.9 kB/s eta 0:00:01\n",
            "   ----------------------------------- --- 112.6/125.4 kB 48.9 kB/s eta 0:00:01\n",
            "   ----------------------------------- --- 112.6/125.4 kB 48.9 kB/s eta 0:00:01\n",
            "   ----------------------------------- --- 112.6/125.4 kB 48.9 kB/s eta 0:00:01\n",
            "   ----------------------------------- --- 112.6/125.4 kB 48.9 kB/s eta 0:00:01\n",
            "   ----------------------------------- --- 112.6/125.4 kB 48.9 kB/s eta 0:00:01\n",
            "   ----------------------------------- --- 112.6/125.4 kB 48.9 kB/s eta 0:00:01\n",
            "   ----------------------------------- --- 112.6/125.4 kB 48.9 kB/s eta 0:00:01\n",
            "   --------------------------------------- 125.4/125.4 kB 41.0 kB/s eta 0:00:00\n",
            "Downloading geographiclib-2.0-py3-none-any.whl (40 kB)\n",
            "   ---------------------------------------- 0.0/40.3 kB ? eta -:--:--\n",
            "   ------------------------------ --------- 30.7/40.3 kB 1.3 MB/s eta 0:00:01\n",
            "   ------------------------------ --------- 30.7/40.3 kB 1.3 MB/s eta 0:00:01\n",
            "   ------------------------------ --------- 30.7/40.3 kB 1.3 MB/s eta 0:00:01\n",
            "   ------------------------------ --------- 30.7/40.3 kB 1.3 MB/s eta 0:00:01\n",
            "   ------------------------------ --------- 30.7/40.3 kB 1.3 MB/s eta 0:00:01\n",
            "   ---------------------------------------- 40.3/40.3 kB 128.6 kB/s eta 0:00:00\n",
            "Installing collected packages: geographiclib, geopy\n",
            "Successfully installed geographiclib-2.0 geopy-2.4.1\n"
          ]
        }
      ],
      "source": [
        "# Installing necessary libraries\n",
        "!pip install pandas numpy plotly matplotlib seaborn scikit-learn geopy\n"
      ]
    },
    {
      "cell_type": "code",
      "execution_count": 3,
      "metadata": {
        "id": "eNMuiTy_EnK0"
      },
      "outputs": [],
      "source": [
        "# importing necessary libraries\n",
        "import random\n",
        "import pandas as pd\n",
        "import numpy as np\n",
        "import time\n",
        "from math import radians, sin, cos, sqrt, atan2\n",
        "import plotly.graph_objects as go\n",
        "import matplotlib.pyplot as plt\n",
        "import seaborn as sns\n",
        "from sklearn.cluster import KMeans\n",
        "from geopy.distance import geodesic"
      ]
    },
    {
      "cell_type": "code",
      "execution_count": 4,
      "metadata": {
        "id": "OGH1SA9kEvwd"
      },
      "outputs": [],
      "source": [
        "# Set random seeds for reproducibility\n",
        "np.random.seed(42)\n",
        "random.seed(42)\n",
        "\n",
        "# Define color palette for plots\n",
        "palette = sns.color_palette(\"coolwarm\", as_cmap=True)"
      ]
    },
    {
      "cell_type": "markdown",
      "metadata": {
        "id": "NMCQG8lIKNS1"
      },
      "source": [
        "I generated synthetic datasets to evaluate the performance of various route optimization algorithms for different delivery scenarios, including distinct towns, sparse locations, and congested urban areas. Each dataset replicated real-world conditions with different geographic spreads and delivery time slots to simulate the challenges of urban, rural, and neighborhood deliveries."
      ]
    },
    {
      "cell_type": "code",
      "execution_count": 5,
      "metadata": {
        "id": "MU5CkXtnFhZJ"
      },
      "outputs": [],
      "source": [
        "# Function to generate synthetic data for different types of areas\n",
        "def generate_synthetic_data(regions, num_locations_per_region):\n",
        "    data = {\n",
        "        'location_id': [],\n",
        "        'latitude': [],\n",
        "        'longitude': [],\n",
        "        'delivery_start': [],\n",
        "        'delivery_end': []\n",
        "    }\n",
        "\n",
        "    for region, details in regions.items():\n",
        "        for i in range(num_locations_per_region):\n",
        "            lat = np.random.uniform(details['lat_range'][0], details['lat_range'][1])\n",
        "            lon = np.random.uniform(details['lon_range'][0], details['lon_range'][1])\n",
        "\n",
        "            # Add some noise to the latitude and longitude values\n",
        "            lat += np.random.uniform(-0.5, 0.5)\n",
        "            lon += np.random.uniform(-0.5, 0.5)\n",
        "\n",
        "            data['location_id'].append(len(data['location_id']))\n",
        "            data['latitude'].append(lat)\n",
        "            data['longitude'].append(lon)\n",
        "\n",
        "            # Generate delivery_start and delivery_end based on the region's start_time and end_time ranges\n",
        "            start_time = random.randint(details['start_time'][0], details['start_time'][1])\n",
        "            end_time = random.randint(details['end_time'][0], details['end_time'][1])\n",
        "            data['delivery_start'].append(start_time)\n",
        "            data['delivery_end'].append(end_time)\n",
        "\n",
        "    return pd.DataFrame(data)\n",
        "\n",
        "# Original data with distinct towns\n",
        "regions_distinct_towns = {\n",
        "    'Region A': {'lat_range': (-10, -5), 'lon_range': (-10, -5), 'start_time': (480, 540), 'end_time': (720, 780)},\n",
        "    'Region B': {'lat_range': (-5, 0), 'lon_range': (-5, 0), 'start_time': (600, 660), 'end_time': (840, 900)},\n",
        "    'Region C': {'lat_range': (0, 5), 'lon_range': (0, 5), 'start_time': (420, 480), 'end_time': (900, 960)},\n",
        "}\n",
        "\n",
        "# Sparse locations with wider range\n",
        "regions_sparse = {\n",
        "    'Region A': {'lat_range': (-10, 10), 'lon_range': (-10, 10), 'start_time': (480, 540), 'end_time': (720, 780)},\n",
        "}\n",
        "\n",
        "# Congested locations with smaller range\n",
        "regions_congested = {\n",
        "    'Region A': {'lat_range': (-2, 2), 'lon_range': (-2, 2), 'start_time': (480, 540), 'end_time': (720, 780)},\n",
        "}\n",
        "\n",
        "# Number of locations per region\n",
        "num_locations_per_region = 15\n",
        "\n",
        "# Generate data\n",
        "df_distinct_towns = generate_synthetic_data(regions_distinct_towns, num_locations_per_region)\n",
        "df_sparse = generate_synthetic_data(regions_sparse, 45)  # All locations in one large region\n",
        "df_congested = generate_synthetic_data(regions_congested, 45)  # All locations in one small region\n",
        "\n"
      ]
    },
    {
      "cell_type": "code",
      "execution_count": 6,
      "metadata": {
        "colab": {
          "base_uri": "https://localhost:8080/",
          "height": 412
        },
        "id": "h0VhflxrFv_A",
        "outputId": "9b133e32-8ca7-47df-9ce8-ea2fdfacbea1"
      },
      "outputs": [
        {
          "data": {
            "image/png": "[encoded data removed]",
            "text/plain": [
              "<Figure size 1800x600 with 3 Axes>"
            ]
          },
          "metadata": {},
          "output_type": "display_data"
        }
      ],
      "source": [
        "# Create subplots with 1 row and 3 columns\n",
        "fig, axes = plt.subplots(1, 3, figsize=(18, 6))\n",
        "\n",
        "# Plot distinct towns\n",
        "axes[0].scatter(df_distinct_towns['latitude'], df_distinct_towns['longitude'], c='red', marker='o')\n",
        "axes[0].set_title('Distinct Towns Delivery Locations')\n",
        "axes[0].set_xlabel('Latitude')\n",
        "axes[0].set_ylabel('Longitude')\n",
        "axes[0].grid(True)\n",
        "\n",
        "# Plot sparse locations\n",
        "axes[1].scatter(df_sparse['latitude'], df_sparse['longitude'], c='green', marker='o')\n",
        "axes[1].set_title('Sparse Locations Delivery Locations')\n",
        "axes[1].set_xlabel('Latitude')\n",
        "axes[1].set_ylabel('Longitude')\n",
        "axes[1].grid(True)\n",
        "\n",
        "# Plot congested locations\n",
        "axes[2].scatter(df_congested['latitude'], df_congested['longitude'], c='blue', marker='o')\n",
        "axes[2].set_title('Congested Delivery Locations')\n",
        "axes[2].set_xlabel('Latitude')\n",
        "axes[2].set_ylabel('Longitude')\n",
        "axes[2].grid(True)\n",
        "\n",
        "# Adjust layout\n",
        "plt.tight_layout()\n",
        "plt.show()\n"
      ]
    },
    {
      "cell_type": "markdown",
      "metadata": {
        "id": "Px0UpqZVKgeo"
      },
      "source": [
        "The subplot above offers a clear graphical representation of the different delivery locations I generated for this experiment. Visualizing the data this way helped me understand the spatial distribution and clustering of delivery points, which was crucial for identifying the challenges in each scenario."
      ]
    },
    {
      "cell_type": "markdown",
      "metadata": {
        "id": "womBLxLvLm0_"
      },
      "source": [
        "**Generation of Traffic Data**\n",
        "\n",
        "For this experiment, I generated synthetic traffic data in the following way:\n",
        "\n",
        "Random Traffic Data: I created a matrix of random average travel times (in minutes) between each pair of locations, representing typical traffic conditions between delivery points.\n",
        "\n",
        "Data Frame Creation: I organized the generated traffic data into a DataFrame, with rows and columns corresponding to the locations. Each entry in the DataFrame represents the average travel time between two locations, factoring in traffic effects."
      ]
    },
    {
      "cell_type": "code",
      "execution_count": 7,
      "metadata": {
        "colab": {
          "base_uri": "https://localhost:8080/",
          "height": 233
        },
        "id": "X-jv0wmLF8cv",
        "outputId": "4951d2c0-6dae-4e0e-e536-ce6410ed6917"
      },
      "outputs": [
        {
          "data": {
            "text/html": [
              "<div>\n",
              "<style scoped>\n",
              "    .dataframe tbody tr th:only-of-type {\n",
              "        vertical-align: middle;\n",
              "    }\n",
              "\n",
              "    .dataframe tbody tr th {\n",
              "        vertical-align: top;\n",
              "    }\n",
              "\n",
              "    .dataframe thead th {\n",
              "        text-align: right;\n",
              "    }\n",
              "</style>\n",
              "<table border=\"1\" class=\"dataframe\">\n",
              "  <thead>\n",
              "    <tr style=\"text-align: right;\">\n",
              "      <th></th>\n",
              "      <th>0</th>\n",
              "      <th>1</th>\n",
              "      <th>2</th>\n",
              "      <th>3</th>\n",
              "      <th>4</th>\n",
              "      <th>5</th>\n",
              "      <th>6</th>\n",
              "      <th>7</th>\n",
              "      <th>8</th>\n",
              "      <th>9</th>\n",
              "      <th>...</th>\n",
              "      <th>35</th>\n",
              "      <th>36</th>\n",
              "      <th>37</th>\n",
              "      <th>38</th>\n",
              "      <th>39</th>\n",
              "      <th>40</th>\n",
              "      <th>41</th>\n",
              "      <th>42</th>\n",
              "      <th>43</th>\n",
              "      <th>44</th>\n",
              "    </tr>\n",
              "  </thead>\n",
              "  <tbody>\n",
              "    <tr>\n",
              "      <th>0</th>\n",
              "      <td>55</td>\n",
              "      <td>49</td>\n",
              "      <td>17</td>\n",
              "      <td>8</td>\n",
              "      <td>5</td>\n",
              "      <td>53</td>\n",
              "      <td>44</td>\n",
              "      <td>36</td>\n",
              "      <td>38</td>\n",
              "      <td>32</td>\n",
              "      <td>...</td>\n",
              "      <td>15</td>\n",
              "      <td>55</td>\n",
              "      <td>43</td>\n",
              "      <td>42</td>\n",
              "      <td>38</td>\n",
              "      <td>42</td>\n",
              "      <td>54</td>\n",
              "      <td>38</td>\n",
              "      <td>22</td>\n",
              "      <td>34</td>\n",
              "    </tr>\n",
              "    <tr>\n",
              "      <th>1</th>\n",
              "      <td>19</td>\n",
              "      <td>31</td>\n",
              "      <td>55</td>\n",
              "      <td>38</td>\n",
              "      <td>56</td>\n",
              "      <td>42</td>\n",
              "      <td>37</td>\n",
              "      <td>28</td>\n",
              "      <td>19</td>\n",
              "      <td>34</td>\n",
              "      <td>...</td>\n",
              "      <td>27</td>\n",
              "      <td>59</td>\n",
              "      <td>20</td>\n",
              "      <td>35</td>\n",
              "      <td>15</td>\n",
              "      <td>58</td>\n",
              "      <td>20</td>\n",
              "      <td>12</td>\n",
              "      <td>8</td>\n",
              "      <td>44</td>\n",
              "    </tr>\n",
              "    <tr>\n",
              "      <th>2</th>\n",
              "      <td>8</td>\n",
              "      <td>29</td>\n",
              "      <td>7</td>\n",
              "      <td>36</td>\n",
              "      <td>7</td>\n",
              "      <td>31</td>\n",
              "      <td>33</td>\n",
              "      <td>36</td>\n",
              "      <td>54</td>\n",
              "      <td>55</td>\n",
              "      <td>...</td>\n",
              "      <td>51</td>\n",
              "      <td>34</td>\n",
              "      <td>47</td>\n",
              "      <td>52</td>\n",
              "      <td>21</td>\n",
              "      <td>30</td>\n",
              "      <td>40</td>\n",
              "      <td>5</td>\n",
              "      <td>12</td>\n",
              "      <td>53</td>\n",
              "    </tr>\n",
              "    <tr>\n",
              "      <th>3</th>\n",
              "      <td>39</td>\n",
              "      <td>56</td>\n",
              "      <td>19</td>\n",
              "      <td>51</td>\n",
              "      <td>26</td>\n",
              "      <td>18</td>\n",
              "      <td>30</td>\n",
              "      <td>32</td>\n",
              "      <td>27</td>\n",
              "      <td>18</td>\n",
              "      <td>...</td>\n",
              "      <td>21</td>\n",
              "      <td>43</td>\n",
              "      <td>26</td>\n",
              "      <td>30</td>\n",
              "      <td>48</td>\n",
              "      <td>29</td>\n",
              "      <td>21</td>\n",
              "      <td>17</td>\n",
              "      <td>24</td>\n",
              "      <td>29</td>\n",
              "    </tr>\n",
              "    <tr>\n",
              "      <th>4</th>\n",
              "      <td>8</td>\n",
              "      <td>14</td>\n",
              "      <td>7</td>\n",
              "      <td>45</td>\n",
              "      <td>49</td>\n",
              "      <td>22</td>\n",
              "      <td>51</td>\n",
              "      <td>40</td>\n",
              "      <td>51</td>\n",
              "      <td>26</td>\n",
              "      <td>...</td>\n",
              "      <td>8</td>\n",
              "      <td>34</td>\n",
              "      <td>15</td>\n",
              "      <td>34</td>\n",
              "      <td>35</td>\n",
              "      <td>28</td>\n",
              "      <td>59</td>\n",
              "      <td>13</td>\n",
              "      <td>59</td>\n",
              "      <td>7</td>\n",
              "    </tr>\n",
              "  </tbody>\n",
              "</table>\n",
              "<p>5 rows × 45 columns</p>\n",
              "</div>"
            ],
            "text/plain": [
              "   0   1   2   3   4   5   6   7   8   9   ...  35  36  37  38  39  40  41  \\\n",
              "0  55  49  17   8   5  53  44  36  38  32  ...  15  55  43  42  38  42  54   \n",
              "1  19  31  55  38  56  42  37  28  19  34  ...  27  59  20  35  15  58  20   \n",
              "2   8  29   7  36   7  31  33  36  54  55  ...  51  34  47  52  21  30  40   \n",
              "3  39  56  19  51  26  18  30  32  27  18  ...  21  43  26  30  48  29  21   \n",
              "4   8  14   7  45  49  22  51  40  51  26  ...   8  34  15  34  35  28  59   \n",
              "\n",
              "   42  43  44  \n",
              "0  38  22  34  \n",
              "1  12   8  44  \n",
              "2   5  12  53  \n",
              "3  17  24  29  \n",
              "4  13  59   7  \n",
              "\n",
              "[5 rows x 45 columns]"
            ]
          },
          "execution_count": 7,
          "metadata": {},
          "output_type": "execute_result"
        }
      ],
      "source": [
        "# getting number of locations\n",
        "num_locations = len(df_distinct_towns)\n",
        "\n",
        "# Generate random traffic data (average travel times in minutes)\n",
        "traffic_data = np.random.randint(5, 60, size=(num_locations, num_locations))\n",
        "\n",
        "# Create a DataFrame for traffic data\n",
        "df_traffic = pd.DataFrame(traffic_data, columns=range(num_locations), index=range(num_locations))\n",
        "\n",
        "# showing the traffic dataset\n",
        "df_traffic.head()"
      ]
    },
    {
      "cell_type": "markdown",
      "metadata": {
        "id": "WwrVGhSBMDCY"
      },
      "source": [
        "**Implemetation of the Heuristic Nearest Neighbor (NN) Algorithm for Route Optimization**"
      ]
    },
    {
      "cell_type": "code",
      "execution_count": 8,
      "metadata": {
        "id": "z6GvLkIFGFc7"
      },
      "outputs": [],
      "source": [
        "# Haversine function to calculate distance between two points\n",
        "def haversine(lat1, lon1, lat2, lon2):\n",
        "    R = 6371  # Radius of the earth in km\n",
        "    d_lat = radians(lat2 - lat1)\n",
        "    d_lon = radians(lon2 - lon1)\n",
        "    a = sin(d_lat/2) * sin(d_lat/2) + cos(radians(lat1)) * cos(radians(lat2)) * sin(d_lon/2) * sin(d_lon/2)\n",
        "    c = 2 * atan2(sqrt(a), sqrt(1-a))\n",
        "    distance = R * c  # Distance in km\n",
        "    return distance\n",
        "\n",
        "# Function to calculate total distance of a route\n",
        "def total_distance(route, locations):\n",
        "    distance = 0\n",
        "    for i in range(len(route) - 1):\n",
        "        distance += haversine(locations[route[i]][0], locations[route[i]][1], locations[route[i+1]][0], locations[route[i+1]][1])\n",
        "    return distance\n",
        "\n",
        "# Function to calculate adaptability to constraints\n",
        "def adaptability_to_constraints(route, delivery_windows):\n",
        "    for i in range(len(route) - 1):\n",
        "        if not (delivery_windows[route[i]][0] <= delivery_windows[route[i+1]][0] <= delivery_windows[route[i]][1]):\n",
        "            return False\n",
        "    return True\n",
        "\n",
        "# Function to display metrics\n",
        "def display_metrics(locations, delivery_windows):\n",
        "    route, exec_time = nearest_neighbor(locations)\n",
        "    total_dist = total_distance(route, locations)\n",
        "    adapt_constraints = adaptability_to_constraints(route, delivery_windows)\n",
        "    num_routes = 1  # Assuming single vehicle for simplicity\n",
        "\n",
        "    print(f\"Total Distance: {total_dist} km\")\n",
        "    print(f\"Execution Time: {exec_time} seconds\")\n",
        "    print(f\"Adaptability to Constraints: {'Yes' if adapt_constraints else 'No'}\")\n",
        "    print(f\"Number of Routes/Trips: {num_routes}\")\n",
        "    return route\n",
        "\n",
        "# Function to plot the route using Plotly\n",
        "def plot_route(locations, route):\n",
        "    # Extract the route coordinates\n",
        "    lats = [locations[i][0] for i in route]\n",
        "    lons = [locations[i][1] for i in route]\n",
        "    ids = [i for i in route]\n",
        "\n",
        "    # Create a scatter plot for the locations\n",
        "    fig = go.Figure(go.Scattermapbox(\n",
        "        lat=lats,\n",
        "        lon=lons,\n",
        "        mode='markers+text',\n",
        "        marker=go.scattermapbox.Marker(size=10, color='red'),\n",
        "        text=[f'ID: {id_}' for id_ in ids],\n",
        "        textposition='top right',\n",
        "    ))\n",
        "\n",
        "    # Add lines connecting the route\n",
        "    fig.add_trace(go.Scattermapbox(\n",
        "        lat=lats,\n",
        "        lon=lons,\n",
        "        mode='lines',\n",
        "        line=dict(width=2, color='blue'),\n",
        "        text=['Start'] + ['']*(len(lats)-2) + ['End']\n",
        "    ))\n",
        "\n",
        "    # Configure the map layout\n",
        "    fig.update_layout(\n",
        "        mapbox=dict(\n",
        "            style=\"stamen-terrain\",\n",
        "            center=dict(lat=np.mean(lats), lon=np.mean(lons)),\n",
        "            zoom=10\n",
        "        ),\n",
        "        margin=dict(t=0, b=0, l=0, r=0)\n",
        "    )\n",
        "\n",
        "    fig.show()"
      ]
    },
    {
      "cell_type": "code",
      "execution_count": 9,
      "metadata": {
        "id": "bjRyYnIPGIoP"
      },
      "outputs": [],
      "source": [
        "# define the Nearest Neighbor function\n",
        "# Nearest Neighbor algorithm to create a sample route\n",
        "def nearest_neighbor(locations):\n",
        "    start_time = time.time()\n",
        "    unvisited = list(range(1, len(locations)))\n",
        "    route = [0]\n",
        "    while unvisited:\n",
        "        nearest = min(unvisited, key=lambda x: haversine(locations[route[-1]][0], locations[route[-1]][1], locations[x][0], locations[x][1]))\n",
        "        route.append(nearest)\n",
        "        unvisited.remove(nearest)\n",
        "    route.append(0)\n",
        "    execution_time = time.time() - start_time\n",
        "    return route, execution_time\n",
        "\n",
        "# collecting the delivery windows for each location\n",
        "delivery_windows  = [[row['delivery_start'], row['delivery_end']] for index, row in df_distinct_towns.iterrows()]"
      ]
    },
    {
      "cell_type": "code",
      "execution_count": 10,
      "metadata": {
        "colab": {
          "base_uri": "https://localhost:8080/",
          "height": 610
        },
        "id": "Lje9FNq1GRf3",
        "outputId": "62a3128d-2e38-4037-941c-6ebe78217f1f"
      },
      "outputs": [
        {
          "name": "stdout",
          "output_type": "stream",
          "text": [
            "Total Distance: 7746.8008248232145 km\n",
            "Execution Time: 0.009973526000976562 seconds\n",
            "Adaptability to Constraints: No\n",
            "Number of Routes/Trips: 1\n"
          ]
        },
        {
          "data": {
            "application/vnd.plotly.v1+json": {
              "config": {
                "plotlyServerURL": "https://plot.ly"
              },
              "data": [
                {
                  "lat": [
                    -7.895305463951782,
                    -8.019976296756461,
                    -7.473840446988154,
                    -8.894389015910503,
                    -8.546843766560196,
                    -9.855420304660887,
                    -9.66182318561962,
                    -10.012310200829864,
                    -8.29269812762099,
                    -7.148590877852885,
                    -6.93038230378835,
                    -6.15596182879079,
                    -6.7968639755190425,
                    -5.204605313367969,
                    -4.06625771962812,
                    -2.7278760424006605,
                    -2.8609167263459345,
                    -3.215482213083625,
                    -3.954403226588334,
                    -5.028498090490002,
                    -4.765532070534371,
                    -4.355002012304489,
                    -0.9251075769609518,
                    -0.8535848457693831,
                    -0.9443420411800656,
                    -0.5517847073339055,
                    -0.5890806170144496,
                    -1.2851825380259987,
                    -0.21810798177671142,
                    1.533766805867235,
                    0.6656596422166005,
                    1.0422365405809333,
                    1.2101248145667163,
                    1.4576905786322016,
                    1.9724453743571608,
                    2.4575827110961246,
                    3.098315281021793,
                    3.855204250792176,
                    3.8914186792490644,
                    4.809484980602941,
                    2.705638081905855,
                    0.381440069616102,
                    -0.04782834419526749,
                    0.27222891524377735,
                    -9.209110001999044,
                    -7.895305463951782
                  ],
                  "lon": [
                    -5.147769983753383,
                    -6.0598857546213205,
                    -5.989727258857778,
                    -6.667320557052279,
                    -7.584988701640769,
                    -7.114795047364867,
                    -8.853851252544052,
                    -9.194755357141009,
                    -9.57148693622848,
                    -9.436168853446098,
                    -10.09722381271272,
                    -9.254899936755185,
                    -8.800594899011251,
                    -5.103989012838639,
                    -4.95387916360203,
                    -3.786501514436931,
                    -3.2544034812139477,
                    -3.2365259185110515,
                    -1.984322603454718,
                    -1.8093772525163951,
                    -0.6936856896848422,
                    -0.3668496354632411,
                    -2.199818415788128,
                    -2.3199510155761867,
                    -2.4256805869672586,
                    -3.4979877157125765,
                    -4.02780746365417,
                    -5.013907681804419,
                    -0.5879375119901975,
                    0.18711376000152546,
                    1.1327942118500296,
                    1.511278789038895,
                    2.1893190728993157,
                    2.496269526387625,
                    3.197303837042656,
                    3.98687687719685,
                    4.036314425255448,
                    4.090508424145143,
                    1.5711976756486803,
                    1.0597897889435903,
                    0.8068453049946812,
                    2.4710525448690652,
                    2.2758443233585592,
                    3.8630309883460443,
                    -4.947174965616872,
                    -5.147769983753383
                  ],
                  "marker": {
                    "color": "red",
                    "size": 10
                  },
                  "mode": "markers+text",
                  "text": [
                    "ID: 0",
                    "ID: 6",
                    "ID: 2",
                    "ID: 11",
                    "ID: 4",
                    "ID: 10",
                    "ID: 1",
                    "ID: 14",
                    "ID: 9",
                    "ID: 5",
                    "ID: 7",
                    "ID: 3",
                    "ID: 12",
                    "ID: 13",
                    "ID: 27",
                    "ID: 15",
                    "ID: 24",
                    "ID: 21",
                    "ID: 16",
                    "ID: 25",
                    "ID: 18",
                    "ID: 17",
                    "ID: 23",
                    "ID: 20",
                    "ID: 22",
                    "ID: 26",
                    "ID: 29",
                    "ID: 19",
                    "ID: 28",
                    "ID: 36",
                    "ID: 37",
                    "ID: 33",
                    "ID: 38",
                    "ID: 31",
                    "ID: 40",
                    "ID: 34",
                    "ID: 39",
                    "ID: 30",
                    "ID: 44",
                    "ID: 35",
                    "ID: 43",
                    "ID: 42",
                    "ID: 32",
                    "ID: 41",
                    "ID: 8",
                    "ID: 0"
                  ],
                  "textposition": "top right",
                  "type": "scattermapbox"
                },
                {
                  "lat": [
                    -7.895305463951782,
                    -8.019976296756461,
                    -7.473840446988154,
                    -8.894389015910503,
                    -8.546843766560196,
                    -9.855420304660887,
                    -9.66182318561962,
                    -10.012310200829864,
                    -8.29269812762099,
                    -7.148590877852885,
                    -6.93038230378835,
                    -6.15596182879079,
                    -6.7968639755190425,
                    -5.204605313367969,
                    -4.06625771962812,
                    -2.7278760424006605,
                    -2.8609167263459345,
                    -3.215482213083625,
                    -3.954403226588334,
                    -5.028498090490002,
                    -4.765532070534371,
                    -4.355002012304489,
                    -0.9251075769609518,
                    -0.8535848457693831,
                    -0.9443420411800656,
                    -0.5517847073339055,
                    -0.5890806170144496,
                    -1.2851825380259987,
                    -0.21810798177671142,
                    1.533766805867235,
                    0.6656596422166005,
                    1.0422365405809333,
                    1.2101248145667163,
                    1.4576905786322016,
                    1.9724453743571608,
                    2.4575827110961246,
                    3.098315281021793,
                    3.855204250792176,
                    3.8914186792490644,
                    4.809484980602941,
                    2.705638081905855,
                    0.381440069616102,
                    -0.04782834419526749,
                    0.27222891524377735,
                    -9.209110001999044,
                    -7.895305463951782
                  ],
                  "line": {
                    "color": "blue",
                    "width": 2
                  },
                  "lon": [
                    -5.147769983753383,
                    -6.0598857546213205,
                    -5.989727258857778,
                    -6.667320557052279,
                    -7.584988701640769,
                    -7.114795047364867,
                    -8.853851252544052,
                    -9.194755357141009,
                    -9.57148693622848,
                    -9.436168853446098,
                    -10.09722381271272,
                    -9.254899936755185,
                    -8.800594899011251,
                    -5.103989012838639,
                    -4.95387916360203,
                    -3.786501514436931,
                    -3.2544034812139477,
                    -3.2365259185110515,
                    -1.984322603454718,
                    -1.8093772525163951,
                    -0.6936856896848422,
                    -0.3668496354632411,
                    -2.199818415788128,
                    -2.3199510155761867,
                    -2.4256805869672586,
                    -3.4979877157125765,
                    -4.02780746365417,
                    -5.013907681804419,
                    -0.5879375119901975,
                    0.18711376000152546,
                    1.1327942118500296,
                    1.511278789038895,
                    2.1893190728993157,
                    2.496269526387625,
                    3.197303837042656,
                    3.98687687719685,
                    4.036314425255448,
                    4.090508424145143,
                    1.5711976756486803,
                    1.0597897889435903,
                    0.8068453049946812,
                    2.4710525448690652,
                    2.2758443233585592,
                    3.8630309883460443,
                    -4.947174965616872,
                    -5.147769983753383
                  ],
                  "mode": "lines",
                  "text": [
                    "Start",
                    "",
                    "",
                    "",
                    "",
                    "",
                    "",
                    "",
                    "",
                    "",
                    "",
                    "",
                    "",
                    "",
                    "",
                    "",
                    "",
                    "",
                    "",
                    "",
                    "",
                    "",
                    "",
                    "",
                    "",
                    "",
                    "",
                    "",
                    "",
                    "",
                    "",
                    "",
                    "",
                    "",
                    "",
                    "",
                    "",
                    "",
                    "",
                    "",
                    "",
                    "",
                    "",
                    "",
                    "",
                    "End"
                  ],
                  "type": "scattermapbox"
                }
              ],
              "layout": {
                "mapbox": {
                  "center": {
                    "lat": -2.9354168826533025,
                    "lon": -2.701206487255132
                  },
                  "style": "stamen-terrain",
                  "zoom": 10
                },
                "margin": {
                  "b": 0,
                  "l": 0,
                  "r": 0,
                  "t": 0
                },
                "template": {
                  "data": {
                    "bar": [
                      {
                        "error_x": {
                          "color": "#2a3f5f"
                        },
                        "error_y": {
                          "color": "#2a3f5f"
                        },
                        "marker": {
                          "line": {
                            "color": "#E5ECF6",
                            "width": 0.5
                          },
                          "pattern": {
                            "fillmode": "overlay",
                            "size": 10,
                            "solidity": 0.2
                          }
                        },
                        "type": "bar"
                      }
                    ],
                    "barpolar": [
                      {
                        "marker": {
                          "line": {
                            "color": "#E5ECF6",
                            "width": 0.5
                          },
                          "pattern": {
                            "fillmode": "overlay",
                            "size": 10,
                            "solidity": 0.2
                          }
                        },
                        "type": "barpolar"
                      }
                    ],
                    "carpet": [
                      {
                        "aaxis": {
                          "endlinecolor": "#2a3f5f",
                          "gridcolor": "white",
                          "linecolor": "white",
                          "minorgridcolor": "white",
                          "startlinecolor": "#2a3f5f"
                        },
                        "baxis": {
                          "endlinecolor": "#2a3f5f",
                          "gridcolor": "white",
                          "linecolor": "white",
                          "minorgridcolor": "white",
                          "startlinecolor": "#2a3f5f"
                        },
                        "type": "carpet"
                      }
                    ],
                    "choropleth": [
                      {
                        "colorbar": {
                          "outlinewidth": 0,
                          "ticks": ""
                        },
                        "type": "choropleth"
                      }
                    ],
                    "contour": [
                      {
                        "colorbar": {
                          "outlinewidth": 0,
                          "ticks": ""
                        },
                        "colorscale": [
                          [
                            0,
                            "#0d0887"
                          ],
                          [
                            0.1111111111111111,
                            "#46039f"
                          ],
                          [
                            0.2222222222222222,
                            "#7201a8"
                          ],
                          [
                            0.3333333333333333,
                            "#9c179e"
                          ],
                          [
                            0.4444444444444444,
                            "#bd3786"
                          ],
                          [
                            0.5555555555555556,
                            "#d8576b"
                          ],
                          [
                            0.6666666666666666,
                            "#ed7953"
                          ],
                          [
                            0.7777777777777778,
                            "#fb9f3a"
                          ],
                          [
                            0.8888888888888888,
                            "#fdca26"
                          ],
                          [
                            1,
                            "#f0f921"
                          ]
                        ],
                        "type": "contour"
                      }
                    ],
                    "contourcarpet": [
                      {
                        "colorbar": {
                          "outlinewidth": 0,
                          "ticks": ""
                        },
                        "type": "contourcarpet"
                      }
                    ],
                    "heatmap": [
                      {
                        "colorbar": {
                          "outlinewidth": 0,
                          "ticks": ""
                        },
                        "colorscale": [
                          [
                            0,
                            "#0d0887"
                          ],
                          [
                            0.1111111111111111,
                            "#46039f"
                          ],
                          [
                            0.2222222222222222,
                            "#7201a8"
                          ],
                          [
                            0.3333333333333333,
                            "#9c179e"
                          ],
                          [
                            0.4444444444444444,
                            "#bd3786"
                          ],
                          [
                            0.5555555555555556,
                            "#d8576b"
                          ],
                          [
                            0.6666666666666666,
                            "#ed7953"
                          ],
                          [
                            0.7777777777777778,
                            "#fb9f3a"
                          ],
                          [
                            0.8888888888888888,
                            "#fdca26"
                          ],
                          [
                            1,
                            "#f0f921"
                          ]
                        ],
                        "type": "heatmap"
                      }
                    ],
                    "heatmapgl": [
                      {
                        "colorbar": {
                          "outlinewidth": 0,
                          "ticks": ""
                        },
                        "colorscale": [
                          [
                            0,
                            "#0d0887"
                          ],
                          [
                            0.1111111111111111,
                            "#46039f"
                          ],
                          [
                            0.2222222222222222,
                            "#7201a8"
                          ],
                          [
                            0.3333333333333333,
                            "#9c179e"
                          ],
                          [
                            0.4444444444444444,
                            "#bd3786"
                          ],
                          [
                            0.5555555555555556,
                            "#d8576b"
                          ],
                          [
                            0.6666666666666666,
                            "#ed7953"
                          ],
                          [
                            0.7777777777777778,
                            "#fb9f3a"
                          ],
                          [
                            0.8888888888888888,
                            "#fdca26"
                          ],
                          [
                            1,
                            "#f0f921"
                          ]
                        ],
                        "type": "heatmapgl"
                      }
                    ],
                    "histogram": [
                      {
                        "marker": {
                          "pattern": {
                            "fillmode": "overlay",
                            "size": 10,
                            "solidity": 0.2
                          }
                        },
                        "type": "histogram"
                      }
                    ],
                    "histogram2d": [
                      {
                        "colorbar": {
                          "outlinewidth": 0,
                          "ticks": ""
                        },
                        "colorscale": [
                          [
                            0,
                            "#0d0887"
                          ],
                          [
                            0.1111111111111111,
                            "#46039f"
                          ],
                          [
                            0.2222222222222222,
                            "#7201a8"
                          ],
                          [
                            0.3333333333333333,
                            "#9c179e"
                          ],
                          [
                            0.4444444444444444,
                            "#bd3786"
                          ],
                          [
                            0.5555555555555556,
                            "#d8576b"
                          ],
                          [
                            0.6666666666666666,
                            "#ed7953"
                          ],
                          [
                            0.7777777777777778,
                            "#fb9f3a"
                          ],
                          [
                            0.8888888888888888,
                            "#fdca26"
                          ],
                          [
                            1,
                            "#f0f921"
                          ]
                        ],
                        "type": "histogram2d"
                      }
                    ],
                    "histogram2dcontour": [
                      {
                        "colorbar": {
                          "outlinewidth": 0,
                          "ticks": ""
                        },
                        "colorscale": [
                          [
                            0,
                            "#0d0887"
                          ],
                          [
                            0.1111111111111111,
                            "#46039f"
                          ],
                          [
                            0.2222222222222222,
                            "#7201a8"
                          ],
                          [
                            0.3333333333333333,
                            "#9c179e"
                          ],
                          [
                            0.4444444444444444,
                            "#bd3786"
                          ],
                          [
                            0.5555555555555556,
                            "#d8576b"
                          ],
                          [
                            0.6666666666666666,
                            "#ed7953"
                          ],
                          [
                            0.7777777777777778,
                            "#fb9f3a"
                          ],
                          [
                            0.8888888888888888,
                            "#fdca26"
                          ],
                          [
                            1,
                            "#f0f921"
                          ]
                        ],
                        "type": "histogram2dcontour"
                      }
                    ],
                    "mesh3d": [
                      {
                        "colorbar": {
                          "outlinewidth": 0,
                          "ticks": ""
                        },
                        "type": "mesh3d"
                      }
                    ],
                    "parcoords": [
                      {
                        "line": {
                          "colorbar": {
                            "outlinewidth": 0,
                            "ticks": ""
                          }
                        },
                        "type": "parcoords"
                      }
                    ],
                    "pie": [
                      {
                        "automargin": true,
                        "type": "pie"
                      }
                    ],
                    "scatter": [
                      {
                        "fillpattern": {
                          "fillmode": "overlay",
                          "size": 10,
                          "solidity": 0.2
                        },
                        "type": "scatter"
                      }
                    ],
                    "scatter3d": [
                      {
                        "line": {
                          "colorbar": {
                            "outlinewidth": 0,
                            "ticks": ""
                          }
                        },
                        "marker": {
                          "colorbar": {
                            "outlinewidth": 0,
                            "ticks": ""
                          }
                        },
                        "type": "scatter3d"
                      }
                    ],
                    "scattercarpet": [
                      {
                        "marker": {
                          "colorbar": {
                            "outlinewidth": 0,
                            "ticks": ""
                          }
                        },
                        "type": "scattercarpet"
                      }
                    ],
                    "scattergeo": [
                      {
                        "marker": {
                          "colorbar": {
                            "outlinewidth": 0,
                            "ticks": ""
                          }
                        },
                        "type": "scattergeo"
                      }
                    ],
                    "scattergl": [
                      {
                        "marker": {
                          "colorbar": {
                            "outlinewidth": 0,
                            "ticks": ""
                          }
                        },
                        "type": "scattergl"
                      }
                    ],
                    "scattermapbox": [
                      {
                        "marker": {
                          "colorbar": {
                            "outlinewidth": 0,
                            "ticks": ""
                          }
                        },
                        "type": "scattermapbox"
                      }
                    ],
                    "scatterpolar": [
                      {
                        "marker": {
                          "colorbar": {
                            "outlinewidth": 0,
                            "ticks": ""
                          }
                        },
                        "type": "scatterpolar"
                      }
                    ],
                    "scatterpolargl": [
                      {
                        "marker": {
                          "colorbar": {
                            "outlinewidth": 0,
                            "ticks": ""
                          }
                        },
                        "type": "scatterpolargl"
                      }
                    ],
                    "scatterternary": [
                      {
                        "marker": {
                          "colorbar": {
                            "outlinewidth": 0,
                            "ticks": ""
                          }
                        },
                        "type": "scatterternary"
                      }
                    ],
                    "surface": [
                      {
                        "colorbar": {
                          "outlinewidth": 0,
                          "ticks": ""
                        },
                        "colorscale": [
                          [
                            0,
                            "#0d0887"
                          ],
                          [
                            0.1111111111111111,
                            "#46039f"
                          ],
                          [
                            0.2222222222222222,
                            "#7201a8"
                          ],
                          [
                            0.3333333333333333,
                            "#9c179e"
                          ],
                          [
                            0.4444444444444444,
                            "#bd3786"
                          ],
                          [
                            0.5555555555555556,
                            "#d8576b"
                          ],
                          [
                            0.6666666666666666,
                            "#ed7953"
                          ],
                          [
                            0.7777777777777778,
                            "#fb9f3a"
                          ],
                          [
                            0.8888888888888888,
                            "#fdca26"
                          ],
                          [
                            1,
                            "#f0f921"
                          ]
                        ],
                        "type": "surface"
                      }
                    ],
                    "table": [
                      {
                        "cells": {
                          "fill": {
                            "color": "#EBF0F8"
                          },
                          "line": {
                            "color": "white"
                          }
                        },
                        "header": {
                          "fill": {
                            "color": "#C8D4E3"
                          },
                          "line": {
                            "color": "white"
                          }
                        },
                        "type": "table"
                      }
                    ]
                  },
                  "layout": {
                    "annotationdefaults": {
                      "arrowcolor": "#2a3f5f",
                      "arrowhead": 0,
                      "arrowwidth": 1
                    },
                    "autotypenumbers": "strict",
                    "coloraxis": {
                      "colorbar": {
                        "outlinewidth": 0,
                        "ticks": ""
                      }
                    },
                    "colorscale": {
                      "diverging": [
                        [
                          0,
                          "#8e0152"
                        ],
                        [
                          0.1,
                          "#c51b7d"
                        ],
                        [
                          0.2,
                          "#de77ae"
                        ],
                        [
                          0.3,
                          "#f1b6da"
                        ],
                        [
                          0.4,
                          "#fde0ef"
                        ],
                        [
                          0.5,
                          "#f7f7f7"
                        ],
                        [
                          0.6,
                          "#e6f5d0"
                        ],
                        [
                          0.7,
                          "#b8e186"
                        ],
                        [
                          0.8,
                          "#7fbc41"
                        ],
                        [
                          0.9,
                          "#4d9221"
                        ],
                        [
                          1,
                          "#276419"
                        ]
                      ],
                      "sequential": [
                        [
                          0,
                          "#0d0887"
                        ],
                        [
                          0.1111111111111111,
                          "#46039f"
                        ],
                        [
                          0.2222222222222222,
                          "#7201a8"
                        ],
                        [
                          0.3333333333333333,
                          "#9c179e"
                        ],
                        [
                          0.4444444444444444,
                          "#bd3786"
                        ],
                        [
                          0.5555555555555556,
                          "#d8576b"
                        ],
                        [
                          0.6666666666666666,
                          "#ed7953"
                        ],
                        [
                          0.7777777777777778,
                          "#fb9f3a"
                        ],
                        [
                          0.8888888888888888,
                          "#fdca26"
                        ],
                        [
                          1,
                          "#f0f921"
                        ]
                      ],
                      "sequentialminus": [
                        [
                          0,
                          "#0d0887"
                        ],
                        [
                          0.1111111111111111,
                          "#46039f"
                        ],
                        [
                          0.2222222222222222,
                          "#7201a8"
                        ],
                        [
                          0.3333333333333333,
                          "#9c179e"
                        ],
                        [
                          0.4444444444444444,
                          "#bd3786"
                        ],
                        [
                          0.5555555555555556,
                          "#d8576b"
                        ],
                        [
                          0.6666666666666666,
                          "#ed7953"
                        ],
                        [
                          0.7777777777777778,
                          "#fb9f3a"
                        ],
                        [
                          0.8888888888888888,
                          "#fdca26"
                        ],
                        [
                          1,
                          "#f0f921"
                        ]
                      ]
                    },
                    "colorway": [
                      "#636efa",
                      "#EF553B",
                      "#00cc96",
                      "#ab63fa",
                      "#FFA15A",
                      "#19d3f3",
                      "#FF6692",
                      "#B6E880",
                      "#FF97FF",
                      "#FECB52"
                    ],
                    "font": {
                      "color": "#2a3f5f"
                    },
                    "geo": {
                      "bgcolor": "white",
                      "lakecolor": "white",
                      "landcolor": "#E5ECF6",
                      "showlakes": true,
                      "showland": true,
                      "subunitcolor": "white"
                    },
                    "hoverlabel": {
                      "align": "left"
                    },
                    "hovermode": "closest",
                    "mapbox": {
                      "style": "light"
                    },
                    "paper_bgcolor": "white",
                    "plot_bgcolor": "#E5ECF6",
                    "polar": {
                      "angularaxis": {
                        "gridcolor": "white",
                        "linecolor": "white",
                        "ticks": ""
                      },
                      "bgcolor": "#E5ECF6",
                      "radialaxis": {
                        "gridcolor": "white",
                        "linecolor": "white",
                        "ticks": ""
                      }
                    },
                    "scene": {
                      "xaxis": {
                        "backgroundcolor": "#E5ECF6",
                        "gridcolor": "white",
                        "gridwidth": 2,
                        "linecolor": "white",
                        "showbackground": true,
                        "ticks": "",
                        "zerolinecolor": "white"
                      },
                      "yaxis": {
                        "backgroundcolor": "#E5ECF6",
                        "gridcolor": "white",
                        "gridwidth": 2,
                        "linecolor": "white",
                        "showbackground": true,
                        "ticks": "",
                        "zerolinecolor": "white"
                      },
                      "zaxis": {
                        "backgroundcolor": "#E5ECF6",
                        "gridcolor": "white",
                        "gridwidth": 2,
                        "linecolor": "white",
                        "showbackground": true,
                        "ticks": "",
                        "zerolinecolor": "white"
                      }
                    },
                    "shapedefaults": {
                      "line": {
                        "color": "#2a3f5f"
                      }
                    },
                    "ternary": {
                      "aaxis": {
                        "gridcolor": "white",
                        "linecolor": "white",
                        "ticks": ""
                      },
                      "baxis": {
                        "gridcolor": "white",
                        "linecolor": "white",
                        "ticks": ""
                      },
                      "bgcolor": "#E5ECF6",
                      "caxis": {
                        "gridcolor": "white",
                        "linecolor": "white",
                        "ticks": ""
                      }
                    },
                    "title": {
                      "x": 0.05
                    },
                    "xaxis": {
                      "automargin": true,
                      "gridcolor": "white",
                      "linecolor": "white",
                      "ticks": "",
                      "title": {
                        "standoff": 15
                      },
                      "zerolinecolor": "white",
                      "zerolinewidth": 2
                    },
                    "yaxis": {
                      "automargin": true,
                      "gridcolor": "white",
                      "linecolor": "white",
                      "ticks": "",
                      "title": {
                        "standoff": 15
                      },
                      "zerolinecolor": "white",
                      "zerolinewidth": 2
                    }
                  }
                }
              }
            }
          },
          "metadata": {},
          "output_type": "display_data"
        }
      ],
      "source": [
        "# extracting the latitude and longitude using list comprehension\n",
        "locations_1 = [[row['latitude'], row['longitude']] for index, row in df_distinct_towns.iterrows()]\n",
        "\n",
        "# Display the metrics\n",
        "route = display_metrics(locations_1, delivery_windows)\n",
        "\n",
        "# Visualize the best route path\n",
        "plot_route(locations_1, route)"
      ]
    },
    {
      "cell_type": "code",
      "execution_count": 11,
      "metadata": {
        "colab": {
          "base_uri": "https://localhost:8080/",
          "height": 610
        },
        "id": "pywZmkCwGYHi",
        "outputId": "2325fcd8-a091-4654-a9a3-c22dd563c03c"
      },
      "outputs": [
        {
          "name": "stdout",
          "output_type": "stream",
          "text": [
            "Total Distance: 13107.769187180476 km\n",
            "Execution Time: 0.029956579208374023 seconds\n",
            "Adaptability to Constraints: No\n",
            "Number of Routes/Trips: 1\n"
          ]
        },
        {
          "data": {
            "application/vnd.plotly.v1+json": {
              "config": {
                "plotlyServerURL": "https://plot.ly"
              },
              "data": [
                {
                  "lat": [
                    -2.753979360716267,
                    -2.164504069043517,
                    -1.7520260727929398,
                    -2.500815820126383,
                    -4.222942091613046,
                    0.18611433492602847,
                    2.7444413797793303,
                    3.2514044113995473,
                    2.5022616371803688,
                    1.5312008380559405,
                    1.7300527360578313,
                    5.522761537791217,
                    5.842695316079709,
                    6.69222617702323,
                    7.67568978899127,
                    6.0790717258450515,
                    2.7459326138349596,
                    1.2333206803252263,
                    -0.4944806277533381,
                    -1.894811661184887,
                    -2.504611448890488,
                    -4.523945245495672,
                    -4.738674707495262,
                    -3.3423731377674306,
                    1.1447306708401404,
                    6.1678704565932065,
                    7.083385509307471,
                    7.8473909343153085,
                    8.135742407083915,
                    8.793156653304985,
                    9.151659665775282,
                    7.744477179554376,
                    9.066848433854641,
                    9.224036077278733,
                    7.352788770463013,
                    4.906200001669905,
                    4.538127022754425,
                    1.9402285492199196,
                    -9.157005011178644,
                    -9.762683521105338,
                    -9.029543547742605,
                    -8.925730455017739,
                    -9.850034533709039,
                    -10.16612758538313,
                    -4.239080455275716,
                    -2.753979360716267
                  ],
                  "lon": [
                    -7.353190221807237,
                    -6.78387070041849,
                    -4.787534099512482,
                    -3.818049720030952,
                    -5.227109407751568,
                    -4.7657384240376395,
                    -6.598892180165091,
                    -5.777364723292004,
                    -7.918646511571945,
                    -9.238509889357582,
                    -9.652557198559352,
                    -6.0982319850693685,
                    -5.004898593416249,
                    -3.604758634416097,
                    -3.646114923128415,
                    -2.7739439117199374,
                    1.233887869768865,
                    0.07280599163878376,
                    -0.5967129351507138,
                    1.8623059708163743,
                    2.873688155473049,
                    3.2548817322830423,
                    1.3540134001294295,
                    5.279051512854661,
                    4.071852350947189,
                    3.295071284991404,
                    3.6709913482514756,
                    2.51123872007802,
                    2.62540961305045,
                    3.517772427270228,
                    4.869659080149722,
                    5.017856439071197,
                    6.945286837949128,
                    8.948730240307192,
                    8.266327345816627,
                    8.222080744909167,
                    9.339998062191938,
                    9.819406654449,
                    9.448942499652201,
                    9.033026070798178,
                    1.790985803345144,
                    0.764522532861166,
                    -6.591943773957334,
                    -8.137818387542705,
                    -9.836569991963875,
                    -7.353190221807237
                  ],
                  "marker": {
                    "color": "red",
                    "size": 10
                  },
                  "mode": "markers+text",
                  "text": [
                    "ID: 0",
                    "ID: 34",
                    "ID: 37",
                    "ID: 22",
                    "ID: 11",
                    "ID: 2",
                    "ID: 43",
                    "ID: 8",
                    "ID: 5",
                    "ID: 26",
                    "ID: 6",
                    "ID: 29",
                    "ID: 32",
                    "ID: 18",
                    "ID: 25",
                    "ID: 28",
                    "ID: 10",
                    "ID: 13",
                    "ID: 40",
                    "ID: 41",
                    "ID: 42",
                    "ID: 1",
                    "ID: 27",
                    "ID: 9",
                    "ID: 35",
                    "ID: 24",
                    "ID: 39",
                    "ID: 3",
                    "ID: 12",
                    "ID: 19",
                    "ID: 36",
                    "ID: 21",
                    "ID: 17",
                    "ID: 15",
                    "ID: 23",
                    "ID: 4",
                    "ID: 31",
                    "ID: 20",
                    "ID: 33",
                    "ID: 16",
                    "ID: 44",
                    "ID: 30",
                    "ID: 7",
                    "ID: 38",
                    "ID: 14",
                    "ID: 0"
                  ],
                  "textposition": "top right",
                  "type": "scattermapbox"
                },
                {
                  "lat": [
                    -2.753979360716267,
                    -2.164504069043517,
                    -1.7520260727929398,
                    -2.500815820126383,
                    -4.222942091613046,
                    0.18611433492602847,
                    2.7444413797793303,
                    3.2514044113995473,
                    2.5022616371803688,
                    1.5312008380559405,
                    1.7300527360578313,
                    5.522761537791217,
                    5.842695316079709,
                    6.69222617702323,
                    7.67568978899127,
                    6.0790717258450515,
                    2.7459326138349596,
                    1.2333206803252263,
                    -0.4944806277533381,
                    -1.894811661184887,
                    -2.504611448890488,
                    -4.523945245495672,
                    -4.738674707495262,
                    -3.3423731377674306,
                    1.1447306708401404,
                    6.1678704565932065,
                    7.083385509307471,
                    7.8473909343153085,
                    8.135742407083915,
                    8.793156653304985,
                    9.151659665775282,
                    7.744477179554376,
                    9.066848433854641,
                    9.224036077278733,
                    7.352788770463013,
                    4.906200001669905,
                    4.538127022754425,
                    1.9402285492199196,
                    -9.157005011178644,
                    -9.762683521105338,
                    -9.029543547742605,
                    -8.925730455017739,
                    -9.850034533709039,
                    -10.16612758538313,
                    -4.239080455275716,
                    -2.753979360716267
                  ],
                  "line": {
                    "color": "blue",
                    "width": 2
                  },
                  "lon": [
                    -7.353190221807237,
                    -6.78387070041849,
                    -4.787534099512482,
                    -3.818049720030952,
                    -5.227109407751568,
                    -4.7657384240376395,
                    -6.598892180165091,
                    -5.777364723292004,
                    -7.918646511571945,
                    -9.238509889357582,
                    -9.652557198559352,
                    -6.0982319850693685,
                    -5.004898593416249,
                    -3.604758634416097,
                    -3.646114923128415,
                    -2.7739439117199374,
                    1.233887869768865,
                    0.07280599163878376,
                    -0.5967129351507138,
                    1.8623059708163743,
                    2.873688155473049,
                    3.2548817322830423,
                    1.3540134001294295,
                    5.279051512854661,
                    4.071852350947189,
                    3.295071284991404,
                    3.6709913482514756,
                    2.51123872007802,
                    2.62540961305045,
                    3.517772427270228,
                    4.869659080149722,
                    5.017856439071197,
                    6.945286837949128,
                    8.948730240307192,
                    8.266327345816627,
                    8.222080744909167,
                    9.339998062191938,
                    9.819406654449,
                    9.448942499652201,
                    9.033026070798178,
                    1.790985803345144,
                    0.764522532861166,
                    -6.591943773957334,
                    -8.137818387542705,
                    -9.836569991963875,
                    -7.353190221807237
                  ],
                  "mode": "lines",
                  "text": [
                    "Start",
                    "",
                    "",
                    "",
                    "",
                    "",
                    "",
                    "",
                    "",
                    "",
                    "",
                    "",
                    "",
                    "",
                    "",
                    "",
                    "",
                    "",
                    "",
                    "",
                    "",
                    "",
                    "",
                    "",
                    "",
                    "",
                    "",
                    "",
                    "",
                    "",
                    "",
                    "",
                    "",
                    "",
                    "",
                    "",
                    "",
                    "",
                    "",
                    "",
                    "",
                    "",
                    "",
                    "",
                    "",
                    "End"
                  ],
                  "type": "scattermapbox"
                }
              ],
              "layout": {
                "mapbox": {
                  "center": {
                    "lat": 1.0012275390499419,
                    "lon": -0.16251855968744877
                  },
                  "style": "stamen-terrain",
                  "zoom": 10
                },
                "margin": {
                  "b": 0,
                  "l": 0,
                  "r": 0,
                  "t": 0
                },
                "template": {
                  "data": {
                    "bar": [
                      {
                        "error_x": {
                          "color": "#2a3f5f"
                        },
                        "error_y": {
                          "color": "#2a3f5f"
                        },
                        "marker": {
                          "line": {
                            "color": "#E5ECF6",
                            "width": 0.5
                          },
                          "pattern": {
                            "fillmode": "overlay",
                            "size": 10,
                            "solidity": 0.2
                          }
                        },
                        "type": "bar"
                      }
                    ],
                    "barpolar": [
                      {
                        "marker": {
                          "line": {
                            "color": "#E5ECF6",
                            "width": 0.5
                          },
                          "pattern": {
                            "fillmode": "overlay",
                            "size": 10,
                            "solidity": 0.2
                          }
                        },
                        "type": "barpolar"
                      }
                    ],
                    "carpet": [
                      {
                        "aaxis": {
                          "endlinecolor": "#2a3f5f",
                          "gridcolor": "white",
                          "linecolor": "white",
                          "minorgridcolor": "white",
                          "startlinecolor": "#2a3f5f"
                        },
                        "baxis": {
                          "endlinecolor": "#2a3f5f",
                          "gridcolor": "white",
                          "linecolor": "white",
                          "minorgridcolor": "white",
                          "startlinecolor": "#2a3f5f"
                        },
                        "type": "carpet"
                      }
                    ],
                    "choropleth": [
                      {
                        "colorbar": {
                          "outlinewidth": 0,
                          "ticks": ""
                        },
                        "type": "choropleth"
                      }
                    ],
                    "contour": [
                      {
                        "colorbar": {
                          "outlinewidth": 0,
                          "ticks": ""
                        },
                        "colorscale": [
                          [
                            0,
                            "#0d0887"
                          ],
                          [
                            0.1111111111111111,
                            "#46039f"
                          ],
                          [
                            0.2222222222222222,
                            "#7201a8"
                          ],
                          [
                            0.3333333333333333,
                            "#9c179e"
                          ],
                          [
                            0.4444444444444444,
                            "#bd3786"
                          ],
                          [
                            0.5555555555555556,
                            "#d8576b"
                          ],
                          [
                            0.6666666666666666,
                            "#ed7953"
                          ],
                          [
                            0.7777777777777778,
                            "#fb9f3a"
                          ],
                          [
                            0.8888888888888888,
                            "#fdca26"
                          ],
                          [
                            1,
                            "#f0f921"
                          ]
                        ],
                        "type": "contour"
                      }
                    ],
                    "contourcarpet": [
                      {
                        "colorbar": {
                          "outlinewidth": 0,
                          "ticks": ""
                        },
                        "type": "contourcarpet"
                      }
                    ],
                    "heatmap": [
                      {
                        "colorbar": {
                          "outlinewidth": 0,
                          "ticks": ""
                        },
                        "colorscale": [
                          [
                            0,
                            "#0d0887"
                          ],
                          [
                            0.1111111111111111,
                            "#46039f"
                          ],
                          [
                            0.2222222222222222,
                            "#7201a8"
                          ],
                          [
                            0.3333333333333333,
                            "#9c179e"
                          ],
                          [
                            0.4444444444444444,
                            "#bd3786"
                          ],
                          [
                            0.5555555555555556,
                            "#d8576b"
                          ],
                          [
                            0.6666666666666666,
                            "#ed7953"
                          ],
                          [
                            0.7777777777777778,
                            "#fb9f3a"
                          ],
                          [
                            0.8888888888888888,
                            "#fdca26"
                          ],
                          [
                            1,
                            "#f0f921"
                          ]
                        ],
                        "type": "heatmap"
                      }
                    ],
                    "heatmapgl": [
                      {
                        "colorbar": {
                          "outlinewidth": 0,
                          "ticks": ""
                        },
                        "colorscale": [
                          [
                            0,
                            "#0d0887"
                          ],
                          [
                            0.1111111111111111,
                            "#46039f"
                          ],
                          [
                            0.2222222222222222,
                            "#7201a8"
                          ],
                          [
                            0.3333333333333333,
                            "#9c179e"
                          ],
                          [
                            0.4444444444444444,
                            "#bd3786"
                          ],
                          [
                            0.5555555555555556,
                            "#d8576b"
                          ],
                          [
                            0.6666666666666666,
                            "#ed7953"
                          ],
                          [
                            0.7777777777777778,
                            "#fb9f3a"
                          ],
                          [
                            0.8888888888888888,
                            "#fdca26"
                          ],
                          [
                            1,
                            "#f0f921"
                          ]
                        ],
                        "type": "heatmapgl"
                      }
                    ],
                    "histogram": [
                      {
                        "marker": {
                          "pattern": {
                            "fillmode": "overlay",
                            "size": 10,
                            "solidity": 0.2
                          }
                        },
                        "type": "histogram"
                      }
                    ],
                    "histogram2d": [
                      {
                        "colorbar": {
                          "outlinewidth": 0,
                          "ticks": ""
                        },
                        "colorscale": [
                          [
                            0,
                            "#0d0887"
                          ],
                          [
                            0.1111111111111111,
                            "#46039f"
                          ],
                          [
                            0.2222222222222222,
                            "#7201a8"
                          ],
                          [
                            0.3333333333333333,
                            "#9c179e"
                          ],
                          [
                            0.4444444444444444,
                            "#bd3786"
                          ],
                          [
                            0.5555555555555556,
                            "#d8576b"
                          ],
                          [
                            0.6666666666666666,
                            "#ed7953"
                          ],
                          [
                            0.7777777777777778,
                            "#fb9f3a"
                          ],
                          [
                            0.8888888888888888,
                            "#fdca26"
                          ],
                          [
                            1,
                            "#f0f921"
                          ]
                        ],
                        "type": "histogram2d"
                      }
                    ],
                    "histogram2dcontour": [
                      {
                        "colorbar": {
                          "outlinewidth": 0,
                          "ticks": ""
                        },
                        "colorscale": [
                          [
                            0,
                            "#0d0887"
                          ],
                          [
                            0.1111111111111111,
                            "#46039f"
                          ],
                          [
                            0.2222222222222222,
                            "#7201a8"
                          ],
                          [
                            0.3333333333333333,
                            "#9c179e"
                          ],
                          [
                            0.4444444444444444,
                            "#bd3786"
                          ],
                          [
                            0.5555555555555556,
                            "#d8576b"
                          ],
                          [
                            0.6666666666666666,
                            "#ed7953"
                          ],
                          [
                            0.7777777777777778,
                            "#fb9f3a"
                          ],
                          [
                            0.8888888888888888,
                            "#fdca26"
                          ],
                          [
                            1,
                            "#f0f921"
                          ]
                        ],
                        "type": "histogram2dcontour"
                      }
                    ],
                    "mesh3d": [
                      {
                        "colorbar": {
                          "outlinewidth": 0,
                          "ticks": ""
                        },
                        "type": "mesh3d"
                      }
                    ],
                    "parcoords": [
                      {
                        "line": {
                          "colorbar": {
                            "outlinewidth": 0,
                            "ticks": ""
                          }
                        },
                        "type": "parcoords"
                      }
                    ],
                    "pie": [
                      {
                        "automargin": true,
                        "type": "pie"
                      }
                    ],
                    "scatter": [
                      {
                        "fillpattern": {
                          "fillmode": "overlay",
                          "size": 10,
                          "solidity": 0.2
                        },
                        "type": "scatter"
                      }
                    ],
                    "scatter3d": [
                      {
                        "line": {
                          "colorbar": {
                            "outlinewidth": 0,
                            "ticks": ""
                          }
                        },
                        "marker": {
                          "colorbar": {
                            "outlinewidth": 0,
                            "ticks": ""
                          }
                        },
                        "type": "scatter3d"
                      }
                    ],
                    "scattercarpet": [
                      {
                        "marker": {
                          "colorbar": {
                            "outlinewidth": 0,
                            "ticks": ""
                          }
                        },
                        "type": "scattercarpet"
                      }
                    ],
                    "scattergeo": [
                      {
                        "marker": {
                          "colorbar": {
                            "outlinewidth": 0,
                            "ticks": ""
                          }
                        },
                        "type": "scattergeo"
                      }
                    ],
                    "scattergl": [
                      {
                        "marker": {
                          "colorbar": {
                            "outlinewidth": 0,
                            "ticks": ""
                          }
                        },
                        "type": "scattergl"
                      }
                    ],
                    "scattermapbox": [
                      {
                        "marker": {
                          "colorbar": {
                            "outlinewidth": 0,
                            "ticks": ""
                          }
                        },
                        "type": "scattermapbox"
                      }
                    ],
                    "scatterpolar": [
                      {
                        "marker": {
                          "colorbar": {
                            "outlinewidth": 0,
                            "ticks": ""
                          }
                        },
                        "type": "scatterpolar"
                      }
                    ],
                    "scatterpolargl": [
                      {
                        "marker": {
                          "colorbar": {
                            "outlinewidth": 0,
                            "ticks": ""
                          }
                        },
                        "type": "scatterpolargl"
                      }
                    ],
                    "scatterternary": [
                      {
                        "marker": {
                          "colorbar": {
                            "outlinewidth": 0,
                            "ticks": ""
                          }
                        },
                        "type": "scatterternary"
                      }
                    ],
                    "surface": [
                      {
                        "colorbar": {
                          "outlinewidth": 0,
                          "ticks": ""
                        },
                        "colorscale": [
                          [
                            0,
                            "#0d0887"
                          ],
                          [
                            0.1111111111111111,
                            "#46039f"
                          ],
                          [
                            0.2222222222222222,
                            "#7201a8"
                          ],
                          [
                            0.3333333333333333,
                            "#9c179e"
                          ],
                          [
                            0.4444444444444444,
                            "#bd3786"
                          ],
                          [
                            0.5555555555555556,
                            "#d8576b"
                          ],
                          [
                            0.6666666666666666,
                            "#ed7953"
                          ],
                          [
                            0.7777777777777778,
                            "#fb9f3a"
                          ],
                          [
                            0.8888888888888888,
                            "#fdca26"
                          ],
                          [
                            1,
                            "#f0f921"
                          ]
                        ],
                        "type": "surface"
                      }
                    ],
                    "table": [
                      {
                        "cells": {
                          "fill": {
                            "color": "#EBF0F8"
                          },
                          "line": {
                            "color": "white"
                          }
                        },
                        "header": {
                          "fill": {
                            "color": "#C8D4E3"
                          },
                          "line": {
                            "color": "white"
                          }
                        },
                        "type": "table"
                      }
                    ]
                  },
                  "layout": {
                    "annotationdefaults": {
                      "arrowcolor": "#2a3f5f",
                      "arrowhead": 0,
                      "arrowwidth": 1
                    },
                    "autotypenumbers": "strict",
                    "coloraxis": {
                      "colorbar": {
                        "outlinewidth": 0,
                        "ticks": ""
                      }
                    },
                    "colorscale": {
                      "diverging": [
                        [
                          0,
                          "#8e0152"
                        ],
                        [
                          0.1,
                          "#c51b7d"
                        ],
                        [
                          0.2,
                          "#de77ae"
                        ],
                        [
                          0.3,
                          "#f1b6da"
                        ],
                        [
                          0.4,
                          "#fde0ef"
                        ],
                        [
                          0.5,
                          "#f7f7f7"
                        ],
                        [
                          0.6,
                          "#e6f5d0"
                        ],
                        [
                          0.7,
                          "#b8e186"
                        ],
                        [
                          0.8,
                          "#7fbc41"
                        ],
                        [
                          0.9,
                          "#4d9221"
                        ],
                        [
                          1,
                          "#276419"
                        ]
                      ],
                      "sequential": [
                        [
                          0,
                          "#0d0887"
                        ],
                        [
                          0.1111111111111111,
                          "#46039f"
                        ],
                        [
                          0.2222222222222222,
                          "#7201a8"
                        ],
                        [
                          0.3333333333333333,
                          "#9c179e"
                        ],
                        [
                          0.4444444444444444,
                          "#bd3786"
                        ],
                        [
                          0.5555555555555556,
                          "#d8576b"
                        ],
                        [
                          0.6666666666666666,
                          "#ed7953"
                        ],
                        [
                          0.7777777777777778,
                          "#fb9f3a"
                        ],
                        [
                          0.8888888888888888,
                          "#fdca26"
                        ],
                        [
                          1,
                          "#f0f921"
                        ]
                      ],
                      "sequentialminus": [
                        [
                          0,
                          "#0d0887"
                        ],
                        [
                          0.1111111111111111,
                          "#46039f"
                        ],
                        [
                          0.2222222222222222,
                          "#7201a8"
                        ],
                        [
                          0.3333333333333333,
                          "#9c179e"
                        ],
                        [
                          0.4444444444444444,
                          "#bd3786"
                        ],
                        [
                          0.5555555555555556,
                          "#d8576b"
                        ],
                        [
                          0.6666666666666666,
                          "#ed7953"
                        ],
                        [
                          0.7777777777777778,
                          "#fb9f3a"
                        ],
                        [
                          0.8888888888888888,
                          "#fdca26"
                        ],
                        [
                          1,
                          "#f0f921"
                        ]
                      ]
                    },
                    "colorway": [
                      "#636efa",
                      "#EF553B",
                      "#00cc96",
                      "#ab63fa",
                      "#FFA15A",
                      "#19d3f3",
                      "#FF6692",
                      "#B6E880",
                      "#FF97FF",
                      "#FECB52"
                    ],
                    "font": {
                      "color": "#2a3f5f"
                    },
                    "geo": {
                      "bgcolor": "white",
                      "lakecolor": "white",
                      "landcolor": "#E5ECF6",
                      "showlakes": true,
                      "showland": true,
                      "subunitcolor": "white"
                    },
                    "hoverlabel": {
                      "align": "left"
                    },
                    "hovermode": "closest",
                    "mapbox": {
                      "style": "light"
                    },
                    "paper_bgcolor": "white",
                    "plot_bgcolor": "#E5ECF6",
                    "polar": {
                      "angularaxis": {
                        "gridcolor": "white",
                        "linecolor": "white",
                        "ticks": ""
                      },
                      "bgcolor": "#E5ECF6",
                      "radialaxis": {
                        "gridcolor": "white",
                        "linecolor": "white",
                        "ticks": ""
                      }
                    },
                    "scene": {
                      "xaxis": {
                        "backgroundcolor": "#E5ECF6",
                        "gridcolor": "white",
                        "gridwidth": 2,
                        "linecolor": "white",
                        "showbackground": true,
                        "ticks": "",
                        "zerolinecolor": "white"
                      },
                      "yaxis": {
                        "backgroundcolor": "#E5ECF6",
                        "gridcolor": "white",
                        "gridwidth": 2,
                        "linecolor": "white",
                        "showbackground": true,
                        "ticks": "",
                        "zerolinecolor": "white"
                      },
                      "zaxis": {
                        "backgroundcolor": "#E5ECF6",
                        "gridcolor": "white",
                        "gridwidth": 2,
                        "linecolor": "white",
                        "showbackground": true,
                        "ticks": "",
                        "zerolinecolor": "white"
                      }
                    },
                    "shapedefaults": {
                      "line": {
                        "color": "#2a3f5f"
                      }
                    },
                    "ternary": {
                      "aaxis": {
                        "gridcolor": "white",
                        "linecolor": "white",
                        "ticks": ""
                      },
                      "baxis": {
                        "gridcolor": "white",
                        "linecolor": "white",
                        "ticks": ""
                      },
                      "bgcolor": "#E5ECF6",
                      "caxis": {
                        "gridcolor": "white",
                        "linecolor": "white",
                        "ticks": ""
                      }
                    },
                    "title": {
                      "x": 0.05
                    },
                    "xaxis": {
                      "automargin": true,
                      "gridcolor": "white",
                      "linecolor": "white",
                      "ticks": "",
                      "title": {
                        "standoff": 15
                      },
                      "zerolinecolor": "white",
                      "zerolinewidth": 2
                    },
                    "yaxis": {
                      "automargin": true,
                      "gridcolor": "white",
                      "linecolor": "white",
                      "ticks": "",
                      "title": {
                        "standoff": 15
                      },
                      "zerolinecolor": "white",
                      "zerolinewidth": 2
                    }
                  }
                }
              }
            }
          },
          "metadata": {},
          "output_type": "display_data"
        }
      ],
      "source": [
        "# extracting the latitude and longitude using list comprehension\n",
        "locations_2 = [[row['latitude'], row['longitude']] for index, row in df_sparse.iterrows()]\n",
        "\n",
        "# Display the metrics\n",
        "route = display_metrics(locations_2, delivery_windows)\n",
        "\n",
        "# Visualize the best route path\n",
        "plot_route(locations_2, route)"
      ]
    },
    {
      "cell_type": "code",
      "execution_count": 12,
      "metadata": {
        "colab": {
          "base_uri": "https://localhost:8080/",
          "height": 610
        },
        "id": "ErUD-MQYGgh-",
        "outputId": "ab4cf730-3855-4144-9228-117a55fbbde1"
      },
      "outputs": [
        {
          "name": "stdout",
          "output_type": "stream",
          "text": [
            "Total Distance: 3736.874342535235 km\n",
            "Execution Time: 0.008981466293334961 seconds\n",
            "Adaptability to Constraints: No\n",
            "Number of Routes/Trips: 1\n"
          ]
        },
        {
          "data": {
            "application/vnd.plotly.v1+json": {
              "config": {
                "plotlyServerURL": "https://plot.ly"
              },
              "data": [
                {
                  "lat": [
                    -0.48906740468239573,
                    -0.006870403172857142,
                    0.47213561730882336,
                    0.7223187477868496,
                    0.7575222779520845,
                    1.2761326035222424,
                    1.4929641485641065,
                    1.912614849103486,
                    2.255534763476132,
                    1.9342657999200237,
                    1.6845220751635446,
                    1.6344022801800284,
                    1.2681343211822167,
                    0.8464372592231437,
                    0.6021744723653083,
                    -0.11729637196614118,
                    -0.6711241165758495,
                    -0.6919144807059435,
                    -0.8305999171433899,
                    -1.398397842733491,
                    -1.5027057473867296,
                    -1.2838501336261572,
                    -1.2355112054393056,
                    -1.8282344585600458,
                    -2.0510395085160575,
                    -2.398282145248486,
                    -0.9533482677388494,
                    -0.9267768631354871,
                    -0.21781474194890016,
                    0.05697905938004166,
                    0.8090192550696548,
                    1.1498518747093596,
                    1.4408415432674695,
                    1.3491336980197395,
                    1.693969726466754,
                    2.2270497989300146,
                    1.7573026890919479,
                    1.7371993328528812,
                    -1.4615970042662139,
                    -1.5822521522084125,
                    -1.7863783479031121,
                    -1.7996592431113956,
                    -1.593462171232373,
                    -0.6546384571307035,
                    -1.6160574594653876,
                    -0.48906740468239573
                  ],
                  "lon": [
                    0.6187696630853476,
                    0.8926302142308598,
                    0.9105528360225321,
                    0.8913632653191171,
                    1.152892875880797,
                    0.9906225324988854,
                    1.1399566339804825,
                    0.8211210698440587,
                    0.6664925522929378,
                    0.2421970744714642,
                    -0.029481016415244254,
                    -0.13191855371572347,
                    -0.35182028888941264,
                    -0.13431765034020526,
                    0.45818048508343023,
                    1.3855952315561861,
                    1.5364091685715522,
                    1.618042644669803,
                    1.0929305654651003,
                    1.1644206749836554,
                    0.8687890178033246,
                    0.6802099735614139,
                    0.23851498177543196,
                    0.5858197120532419,
                    0.5510027239591887,
                    -0.506539515755423,
                    -1.2702213025721043,
                    -1.394163133078902,
                    -1.60759288346952,
                    -1.394540164049719,
                    -1.2028507076604578,
                    -1.0269949996972658,
                    -1.1847913258046607,
                    -1.3814481778757144,
                    -2.125057482283297,
                    -0.050238806840839256,
                    1.6811877333652019,
                    2.0423724947943764,
                    1.9586071783063435,
                    1.9366690928260084,
                    1.8172004610715926,
                    2.057537250911585,
                    2.322768984470084,
                    -0.43296728908265614,
                    -2.2043329708477883,
                    0.6187696630853476
                  ],
                  "marker": {
                    "color": "red",
                    "size": 10
                  },
                  "mode": "markers+text",
                  "text": [
                    "ID: 0",
                    "ID: 39",
                    "ID: 30",
                    "ID: 6",
                    "ID: 15",
                    "ID: 38",
                    "ID: 7",
                    "ID: 37",
                    "ID: 43",
                    "ID: 13",
                    "ID: 9",
                    "ID: 26",
                    "ID: 41",
                    "ID: 40",
                    "ID: 35",
                    "ID: 31",
                    "ID: 8",
                    "ID: 23",
                    "ID: 11",
                    "ID: 5",
                    "ID: 19",
                    "ID: 25",
                    "ID: 29",
                    "ID: 16",
                    "ID: 3",
                    "ID: 24",
                    "ID: 17",
                    "ID: 33",
                    "ID: 22",
                    "ID: 18",
                    "ID: 34",
                    "ID: 36",
                    "ID: 12",
                    "ID: 44",
                    "ID: 4",
                    "ID: 1",
                    "ID: 32",
                    "ID: 21",
                    "ID: 42",
                    "ID: 10",
                    "ID: 20",
                    "ID: 28",
                    "ID: 27",
                    "ID: 14",
                    "ID: 2",
                    "ID: 0"
                  ],
                  "textposition": "top right",
                  "type": "scattermapbox"
                },
                {
                  "lat": [
                    -0.48906740468239573,
                    -0.006870403172857142,
                    0.47213561730882336,
                    0.7223187477868496,
                    0.7575222779520845,
                    1.2761326035222424,
                    1.4929641485641065,
                    1.912614849103486,
                    2.255534763476132,
                    1.9342657999200237,
                    1.6845220751635446,
                    1.6344022801800284,
                    1.2681343211822167,
                    0.8464372592231437,
                    0.6021744723653083,
                    -0.11729637196614118,
                    -0.6711241165758495,
                    -0.6919144807059435,
                    -0.8305999171433899,
                    -1.398397842733491,
                    -1.5027057473867296,
                    -1.2838501336261572,
                    -1.2355112054393056,
                    -1.8282344585600458,
                    -2.0510395085160575,
                    -2.398282145248486,
                    -0.9533482677388494,
                    -0.9267768631354871,
                    -0.21781474194890016,
                    0.05697905938004166,
                    0.8090192550696548,
                    1.1498518747093596,
                    1.4408415432674695,
                    1.3491336980197395,
                    1.693969726466754,
                    2.2270497989300146,
                    1.7573026890919479,
                    1.7371993328528812,
                    -1.4615970042662139,
                    -1.5822521522084125,
                    -1.7863783479031121,
                    -1.7996592431113956,
                    -1.593462171232373,
                    -0.6546384571307035,
                    -1.6160574594653876,
                    -0.48906740468239573
                  ],
                  "line": {
                    "color": "blue",
                    "width": 2
                  },
                  "lon": [
                    0.6187696630853476,
                    0.8926302142308598,
                    0.9105528360225321,
                    0.8913632653191171,
                    1.152892875880797,
                    0.9906225324988854,
                    1.1399566339804825,
                    0.8211210698440587,
                    0.6664925522929378,
                    0.2421970744714642,
                    -0.029481016415244254,
                    -0.13191855371572347,
                    -0.35182028888941264,
                    -0.13431765034020526,
                    0.45818048508343023,
                    1.3855952315561861,
                    1.5364091685715522,
                    1.618042644669803,
                    1.0929305654651003,
                    1.1644206749836554,
                    0.8687890178033246,
                    0.6802099735614139,
                    0.23851498177543196,
                    0.5858197120532419,
                    0.5510027239591887,
                    -0.506539515755423,
                    -1.2702213025721043,
                    -1.394163133078902,
                    -1.60759288346952,
                    -1.394540164049719,
                    -1.2028507076604578,
                    -1.0269949996972658,
                    -1.1847913258046607,
                    -1.3814481778757144,
                    -2.125057482283297,
                    -0.050238806840839256,
                    1.6811877333652019,
                    2.0423724947943764,
                    1.9586071783063435,
                    1.9366690928260084,
                    1.8172004610715926,
                    2.057537250911585,
                    2.322768984470084,
                    -0.43296728908265614,
                    -2.2043329708477883,
                    0.6187696630853476
                  ],
                  "mode": "lines",
                  "text": [
                    "Start",
                    "",
                    "",
                    "",
                    "",
                    "",
                    "",
                    "",
                    "",
                    "",
                    "",
                    "",
                    "",
                    "",
                    "",
                    "",
                    "",
                    "",
                    "",
                    "",
                    "",
                    "",
                    "",
                    "",
                    "",
                    "",
                    "",
                    "",
                    "",
                    "",
                    "",
                    "",
                    "",
                    "",
                    "",
                    "",
                    "",
                    "",
                    "",
                    "",
                    "",
                    "",
                    "",
                    "",
                    "",
                    "End"
                  ],
                  "type": "scattermapbox"
                }
              ],
              "layout": {
                "mapbox": {
                  "center": {
                    "lat": 0.03249044228164721,
                    "lon": 0.358964141033922
                  },
                  "style": "stamen-terrain",
                  "zoom": 10
                },
                "margin": {
                  "b": 0,
                  "l": 0,
                  "r": 0,
                  "t": 0
                },
                "template": {
                  "data": {
                    "bar": [
                      {
                        "error_x": {
                          "color": "#2a3f5f"
                        },
                        "error_y": {
                          "color": "#2a3f5f"
                        },
                        "marker": {
                          "line": {
                            "color": "#E5ECF6",
                            "width": 0.5
                          },
                          "pattern": {
                            "fillmode": "overlay",
                            "size": 10,
                            "solidity": 0.2
                          }
                        },
                        "type": "bar"
                      }
                    ],
                    "barpolar": [
                      {
                        "marker": {
                          "line": {
                            "color": "#E5ECF6",
                            "width": 0.5
                          },
                          "pattern": {
                            "fillmode": "overlay",
                            "size": 10,
                            "solidity": 0.2
                          }
                        },
                        "type": "barpolar"
                      }
                    ],
                    "carpet": [
                      {
                        "aaxis": {
                          "endlinecolor": "#2a3f5f",
                          "gridcolor": "white",
                          "linecolor": "white",
                          "minorgridcolor": "white",
                          "startlinecolor": "#2a3f5f"
                        },
                        "baxis": {
                          "endlinecolor": "#2a3f5f",
                          "gridcolor": "white",
                          "linecolor": "white",
                          "minorgridcolor": "white",
                          "startlinecolor": "#2a3f5f"
                        },
                        "type": "carpet"
                      }
                    ],
                    "choropleth": [
                      {
                        "colorbar": {
                          "outlinewidth": 0,
                          "ticks": ""
                        },
                        "type": "choropleth"
                      }
                    ],
                    "contour": [
                      {
                        "colorbar": {
                          "outlinewidth": 0,
                          "ticks": ""
                        },
                        "colorscale": [
                          [
                            0,
                            "#0d0887"
                          ],
                          [
                            0.1111111111111111,
                            "#46039f"
                          ],
                          [
                            0.2222222222222222,
                            "#7201a8"
                          ],
                          [
                            0.3333333333333333,
                            "#9c179e"
                          ],
                          [
                            0.4444444444444444,
                            "#bd3786"
                          ],
                          [
                            0.5555555555555556,
                            "#d8576b"
                          ],
                          [
                            0.6666666666666666,
                            "#ed7953"
                          ],
                          [
                            0.7777777777777778,
                            "#fb9f3a"
                          ],
                          [
                            0.8888888888888888,
                            "#fdca26"
                          ],
                          [
                            1,
                            "#f0f921"
                          ]
                        ],
                        "type": "contour"
                      }
                    ],
                    "contourcarpet": [
                      {
                        "colorbar": {
                          "outlinewidth": 0,
                          "ticks": ""
                        },
                        "type": "contourcarpet"
                      }
                    ],
                    "heatmap": [
                      {
                        "colorbar": {
                          "outlinewidth": 0,
                          "ticks": ""
                        },
                        "colorscale": [
                          [
                            0,
                            "#0d0887"
                          ],
                          [
                            0.1111111111111111,
                            "#46039f"
                          ],
                          [
                            0.2222222222222222,
                            "#7201a8"
                          ],
                          [
                            0.3333333333333333,
                            "#9c179e"
                          ],
                          [
                            0.4444444444444444,
                            "#bd3786"
                          ],
                          [
                            0.5555555555555556,
                            "#d8576b"
                          ],
                          [
                            0.6666666666666666,
                            "#ed7953"
                          ],
                          [
                            0.7777777777777778,
                            "#fb9f3a"
                          ],
                          [
                            0.8888888888888888,
                            "#fdca26"
                          ],
                          [
                            1,
                            "#f0f921"
                          ]
                        ],
                        "type": "heatmap"
                      }
                    ],
                    "heatmapgl": [
                      {
                        "colorbar": {
                          "outlinewidth": 0,
                          "ticks": ""
                        },
                        "colorscale": [
                          [
                            0,
                            "#0d0887"
                          ],
                          [
                            0.1111111111111111,
                            "#46039f"
                          ],
                          [
                            0.2222222222222222,
                            "#7201a8"
                          ],
                          [
                            0.3333333333333333,
                            "#9c179e"
                          ],
                          [
                            0.4444444444444444,
                            "#bd3786"
                          ],
                          [
                            0.5555555555555556,
                            "#d8576b"
                          ],
                          [
                            0.6666666666666666,
                            "#ed7953"
                          ],
                          [
                            0.7777777777777778,
                            "#fb9f3a"
                          ],
                          [
                            0.8888888888888888,
                            "#fdca26"
                          ],
                          [
                            1,
                            "#f0f921"
                          ]
                        ],
                        "type": "heatmapgl"
                      }
                    ],
                    "histogram": [
                      {
                        "marker": {
                          "pattern": {
                            "fillmode": "overlay",
                            "size": 10,
                            "solidity": 0.2
                          }
                        },
                        "type": "histogram"
                      }
                    ],
                    "histogram2d": [
                      {
                        "colorbar": {
                          "outlinewidth": 0,
                          "ticks": ""
                        },
                        "colorscale": [
                          [
                            0,
                            "#0d0887"
                          ],
                          [
                            0.1111111111111111,
                            "#46039f"
                          ],
                          [
                            0.2222222222222222,
                            "#7201a8"
                          ],
                          [
                            0.3333333333333333,
                            "#9c179e"
                          ],
                          [
                            0.4444444444444444,
                            "#bd3786"
                          ],
                          [
                            0.5555555555555556,
                            "#d8576b"
                          ],
                          [
                            0.6666666666666666,
                            "#ed7953"
                          ],
                          [
                            0.7777777777777778,
                            "#fb9f3a"
                          ],
                          [
                            0.8888888888888888,
                            "#fdca26"
                          ],
                          [
                            1,
                            "#f0f921"
                          ]
                        ],
                        "type": "histogram2d"
                      }
                    ],
                    "histogram2dcontour": [
                      {
                        "colorbar": {
                          "outlinewidth": 0,
                          "ticks": ""
                        },
                        "colorscale": [
                          [
                            0,
                            "#0d0887"
                          ],
                          [
                            0.1111111111111111,
                            "#46039f"
                          ],
                          [
                            0.2222222222222222,
                            "#7201a8"
                          ],
                          [
                            0.3333333333333333,
                            "#9c179e"
                          ],
                          [
                            0.4444444444444444,
                            "#bd3786"
                          ],
                          [
                            0.5555555555555556,
                            "#d8576b"
                          ],
                          [
                            0.6666666666666666,
                            "#ed7953"
                          ],
                          [
                            0.7777777777777778,
                            "#fb9f3a"
                          ],
                          [
                            0.8888888888888888,
                            "#fdca26"
                          ],
                          [
                            1,
                            "#f0f921"
                          ]
                        ],
                        "type": "histogram2dcontour"
                      }
                    ],
                    "mesh3d": [
                      {
                        "colorbar": {
                          "outlinewidth": 0,
                          "ticks": ""
                        },
                        "type": "mesh3d"
                      }
                    ],
                    "parcoords": [
                      {
                        "line": {
                          "colorbar": {
                            "outlinewidth": 0,
                            "ticks": ""
                          }
                        },
                        "type": "parcoords"
                      }
                    ],
                    "pie": [
                      {
                        "automargin": true,
                        "type": "pie"
                      }
                    ],
                    "scatter": [
                      {
                        "fillpattern": {
                          "fillmode": "overlay",
                          "size": 10,
                          "solidity": 0.2
                        },
                        "type": "scatter"
                      }
                    ],
                    "scatter3d": [
                      {
                        "line": {
                          "colorbar": {
                            "outlinewidth": 0,
                            "ticks": ""
                          }
                        },
                        "marker": {
                          "colorbar": {
                            "outlinewidth": 0,
                            "ticks": ""
                          }
                        },
                        "type": "scatter3d"
                      }
                    ],
                    "scattercarpet": [
                      {
                        "marker": {
                          "colorbar": {
                            "outlinewidth": 0,
                            "ticks": ""
                          }
                        },
                        "type": "scattercarpet"
                      }
                    ],
                    "scattergeo": [
                      {
                        "marker": {
                          "colorbar": {
                            "outlinewidth": 0,
                            "ticks": ""
                          }
                        },
                        "type": "scattergeo"
                      }
                    ],
                    "scattergl": [
                      {
                        "marker": {
                          "colorbar": {
                            "outlinewidth": 0,
                            "ticks": ""
                          }
                        },
                        "type": "scattergl"
                      }
                    ],
                    "scattermapbox": [
                      {
                        "marker": {
                          "colorbar": {
                            "outlinewidth": 0,
                            "ticks": ""
                          }
                        },
                        "type": "scattermapbox"
                      }
                    ],
                    "scatterpolar": [
                      {
                        "marker": {
                          "colorbar": {
                            "outlinewidth": 0,
                            "ticks": ""
                          }
                        },
                        "type": "scatterpolar"
                      }
                    ],
                    "scatterpolargl": [
                      {
                        "marker": {
                          "colorbar": {
                            "outlinewidth": 0,
                            "ticks": ""
                          }
                        },
                        "type": "scatterpolargl"
                      }
                    ],
                    "scatterternary": [
                      {
                        "marker": {
                          "colorbar": {
                            "outlinewidth": 0,
                            "ticks": ""
                          }
                        },
                        "type": "scatterternary"
                      }
                    ],
                    "surface": [
                      {
                        "colorbar": {
                          "outlinewidth": 0,
                          "ticks": ""
                        },
                        "colorscale": [
                          [
                            0,
                            "#0d0887"
                          ],
                          [
                            0.1111111111111111,
                            "#46039f"
                          ],
                          [
                            0.2222222222222222,
                            "#7201a8"
                          ],
                          [
                            0.3333333333333333,
                            "#9c179e"
                          ],
                          [
                            0.4444444444444444,
                            "#bd3786"
                          ],
                          [
                            0.5555555555555556,
                            "#d8576b"
                          ],
                          [
                            0.6666666666666666,
                            "#ed7953"
                          ],
                          [
                            0.7777777777777778,
                            "#fb9f3a"
                          ],
                          [
                            0.8888888888888888,
                            "#fdca26"
                          ],
                          [
                            1,
                            "#f0f921"
                          ]
                        ],
                        "type": "surface"
                      }
                    ],
                    "table": [
                      {
                        "cells": {
                          "fill": {
                            "color": "#EBF0F8"
                          },
                          "line": {
                            "color": "white"
                          }
                        },
                        "header": {
                          "fill": {
                            "color": "#C8D4E3"
                          },
                          "line": {
                            "color": "white"
                          }
                        },
                        "type": "table"
                      }
                    ]
                  },
                  "layout": {
                    "annotationdefaults": {
                      "arrowcolor": "#2a3f5f",
                      "arrowhead": 0,
                      "arrowwidth": 1
                    },
                    "autotypenumbers": "strict",
                    "coloraxis": {
                      "colorbar": {
                        "outlinewidth": 0,
                        "ticks": ""
                      }
                    },
                    "colorscale": {
                      "diverging": [
                        [
                          0,
                          "#8e0152"
                        ],
                        [
                          0.1,
                          "#c51b7d"
                        ],
                        [
                          0.2,
                          "#de77ae"
                        ],
                        [
                          0.3,
                          "#f1b6da"
                        ],
                        [
                          0.4,
                          "#fde0ef"
                        ],
                        [
                          0.5,
                          "#f7f7f7"
                        ],
                        [
                          0.6,
                          "#e6f5d0"
                        ],
                        [
                          0.7,
                          "#b8e186"
                        ],
                        [
                          0.8,
                          "#7fbc41"
                        ],
                        [
                          0.9,
                          "#4d9221"
                        ],
                        [
                          1,
                          "#276419"
                        ]
                      ],
                      "sequential": [
                        [
                          0,
                          "#0d0887"
                        ],
                        [
                          0.1111111111111111,
                          "#46039f"
                        ],
                        [
                          0.2222222222222222,
                          "#7201a8"
                        ],
                        [
                          0.3333333333333333,
                          "#9c179e"
                        ],
                        [
                          0.4444444444444444,
                          "#bd3786"
                        ],
                        [
                          0.5555555555555556,
                          "#d8576b"
                        ],
                        [
                          0.6666666666666666,
                          "#ed7953"
                        ],
                        [
                          0.7777777777777778,
                          "#fb9f3a"
                        ],
                        [
                          0.8888888888888888,
                          "#fdca26"
                        ],
                        [
                          1,
                          "#f0f921"
                        ]
                      ],
                      "sequentialminus": [
                        [
                          0,
                          "#0d0887"
                        ],
                        [
                          0.1111111111111111,
                          "#46039f"
                        ],
                        [
                          0.2222222222222222,
                          "#7201a8"
                        ],
                        [
                          0.3333333333333333,
                          "#9c179e"
                        ],
                        [
                          0.4444444444444444,
                          "#bd3786"
                        ],
                        [
                          0.5555555555555556,
                          "#d8576b"
                        ],
                        [
                          0.6666666666666666,
                          "#ed7953"
                        ],
                        [
                          0.7777777777777778,
                          "#fb9f3a"
                        ],
                        [
                          0.8888888888888888,
                          "#fdca26"
                        ],
                        [
                          1,
                          "#f0f921"
                        ]
                      ]
                    },
                    "colorway": [
                      "#636efa",
                      "#EF553B",
                      "#00cc96",
                      "#ab63fa",
                      "#FFA15A",
                      "#19d3f3",
                      "#FF6692",
                      "#B6E880",
                      "#FF97FF",
                      "#FECB52"
                    ],
                    "font": {
                      "color": "#2a3f5f"
                    },
                    "geo": {
                      "bgcolor": "white",
                      "lakecolor": "white",
                      "landcolor": "#E5ECF6",
                      "showlakes": true,
                      "showland": true,
                      "subunitcolor": "white"
                    },
                    "hoverlabel": {
                      "align": "left"
                    },
                    "hovermode": "closest",
                    "mapbox": {
                      "style": "light"
                    },
                    "paper_bgcolor": "white",
                    "plot_bgcolor": "#E5ECF6",
                    "polar": {
                      "angularaxis": {
                        "gridcolor": "white",
                        "linecolor": "white",
                        "ticks": ""
                      },
                      "bgcolor": "#E5ECF6",
                      "radialaxis": {
                        "gridcolor": "white",
                        "linecolor": "white",
                        "ticks": ""
                      }
                    },
                    "scene": {
                      "xaxis": {
                        "backgroundcolor": "#E5ECF6",
                        "gridcolor": "white",
                        "gridwidth": 2,
                        "linecolor": "white",
                        "showbackground": true,
                        "ticks": "",
                        "zerolinecolor": "white"
                      },
                      "yaxis": {
                        "backgroundcolor": "#E5ECF6",
                        "gridcolor": "white",
                        "gridwidth": 2,
                        "linecolor": "white",
                        "showbackground": true,
                        "ticks": "",
                        "zerolinecolor": "white"
                      },
                      "zaxis": {
                        "backgroundcolor": "#E5ECF6",
                        "gridcolor": "white",
                        "gridwidth": 2,
                        "linecolor": "white",
                        "showbackground": true,
                        "ticks": "",
                        "zerolinecolor": "white"
                      }
                    },
                    "shapedefaults": {
                      "line": {
                        "color": "#2a3f5f"
                      }
                    },
                    "ternary": {
                      "aaxis": {
                        "gridcolor": "white",
                        "linecolor": "white",
                        "ticks": ""
                      },
                      "baxis": {
                        "gridcolor": "white",
                        "linecolor": "white",
                        "ticks": ""
                      },
                      "bgcolor": "#E5ECF6",
                      "caxis": {
                        "gridcolor": "white",
                        "linecolor": "white",
                        "ticks": ""
                      }
                    },
                    "title": {
                      "x": 0.05
                    },
                    "xaxis": {
                      "automargin": true,
                      "gridcolor": "white",
                      "linecolor": "white",
                      "ticks": "",
                      "title": {
                        "standoff": 15
                      },
                      "zerolinecolor": "white",
                      "zerolinewidth": 2
                    },
                    "yaxis": {
                      "automargin": true,
                      "gridcolor": "white",
                      "linecolor": "white",
                      "ticks": "",
                      "title": {
                        "standoff": 15
                      },
                      "zerolinecolor": "white",
                      "zerolinewidth": 2
                    }
                  }
                }
              }
            }
          },
          "metadata": {},
          "output_type": "display_data"
        }
      ],
      "source": [
        "# extracting the latitude and longitude using list comprehension\n",
        "locations_3 = [[row['latitude'], row['longitude']] for index, row in df_congested.iterrows()]\n",
        "\n",
        "# Display the metrics\n",
        "route = display_metrics(locations_3, delivery_windows)\n",
        "\n",
        "# Visualize the best route path\n",
        "plot_route(locations_3, route)"
      ]
    },
    {
      "cell_type": "markdown",
      "metadata": {
        "id": "Nik85bzPM6jH"
      },
      "source": [
        "**Implementation of the Ant Colony Optimization (ACO) for Route Optimization**"
      ]
    },
    {
      "cell_type": "code",
      "execution_count": 13,
      "metadata": {
        "id": "jds8_j3sHAGJ"
      },
      "outputs": [],
      "source": [
        "# Create the graph as an adjacency matrix\n",
        "def create_graph(locations):\n",
        "    graph = np.zeros((len(locations), len(locations)))\n",
        "    for i in range(len(locations)):\n",
        "        for j in range(len(locations)):\n",
        "            if i != j:\n",
        "                graph[i][j] = haversine(locations[i][0], locations[i][1], locations[j][0], locations[j][1])\n",
        "    return graph\n",
        "\n",
        "\n",
        "# Function to calculate total distance of a route\n",
        "def total_distance(route, graph):\n",
        "    distance = 0\n",
        "    for i in range(len(route) - 1):\n",
        "        distance += graph[route[i]][route[i+1]]\n",
        "    return distance\n",
        "\n",
        "# Function to calculate adaptability to constraints\n",
        "def adaptability_to_constraints(route, delivery_windows):\n",
        "    for i in range(len(route) - 1):\n",
        "        if not (delivery_windows[route[i]][0] <= delivery_windows[route[i+1]][0] <= delivery_windows[route[i]][1]):\n",
        "            return False\n",
        "    return True\n",
        "\n",
        "# Function to display metrics\n",
        "def display_metrics(locations, delivery_windows):\n",
        "    graph = create_graph(locations)\n",
        "    n_ants = 10\n",
        "    n_iterations = 100\n",
        "    alpha = 1.0\n",
        "    beta = 5.0\n",
        "    evaporation_rate = 0.5\n",
        "    pheromone_constant = 100.0\n",
        "    start_time = time.time()\n",
        "    route, best_distance = ant_colony_optimization(graph, n_ants, n_iterations, alpha, beta, evaporation_rate, pheromone_constant)\n",
        "    exec_time = time.time() - start_time\n",
        "    adapt_constraints = adaptability_to_constraints(route, delivery_windows)\n",
        "    num_routes = 1  # Assuming single vehicle for simplicity\n",
        "\n",
        "    print(f\"Total Distance: {best_distance:.2f} km\")\n",
        "    print(f\"Execution Time: {exec_time:.4f} seconds\")\n",
        "    print(f\"Adaptability to Constraints: {'Yes' if adapt_constraints else 'No'}\")\n",
        "    print(f\"Number of Routes/Trips: {num_routes}\")\n",
        "    print(\"Best Route Path (location ids):\", route)\n",
        "\n",
        "    # Visualize the best route path\n",
        "    plot_route(locations, route)\n",
        "\n",
        "# Function to plot the route using Plotly\n",
        "def plot_route(locations, route):\n",
        "    # Extract the route coordinates\n",
        "    lats = [locations[i][0] for i in route]\n",
        "    lons = [locations[i][1] for i in route]\n",
        "    ids = [i for i in route]\n",
        "\n",
        "    # Create a scatter plot for the locations\n",
        "    fig = go.Figure(go.Scattermapbox(\n",
        "        lat=lats,\n",
        "        lon=lons,\n",
        "        mode='markers+text',\n",
        "        marker=go.scattermapbox.Marker(size=10, color='red'),\n",
        "        text=[f'ID: {id_}' for id_ in ids],\n",
        "        textposition='top right',\n",
        "    ))\n",
        "\n",
        "    # Add lines connecting the route\n",
        "    fig.add_trace(go.Scattermapbox(\n",
        "        lat=lats,\n",
        "        lon=lons,\n",
        "        mode='lines',\n",
        "        line=dict(width=2, color='blue'),\n",
        "        text=['Start'] + ['']*(len(lats)-2) + ['End']\n",
        "    ))\n",
        "\n",
        "    # Configure the map layout\n",
        "    fig.update_layout(\n",
        "        mapbox=dict(\n",
        "            style=\"stamen-terrain\",\n",
        "            center=dict(lat=np.mean(lats), lon=np.mean(lons)),\n",
        "            zoom=10\n",
        "        ),\n",
        "        margin=dict(t=0, b=0, l=0, r=0)\n",
        "    )\n",
        "\n",
        "    fig.show()\n",
        "\n",
        "\n"
      ]
    },
    {
      "cell_type": "code",
      "execution_count": 14,
      "metadata": {
        "id": "H189TZm_HDpb"
      },
      "outputs": [],
      "source": [
        "# Ant Colony Optimization algorithm\n",
        "def ant_colony_optimization(graph, n_ants, n_iterations, alpha, beta, evaporation_rate, pheromone_constant):\n",
        "    n = len(graph)\n",
        "    pheromones = np.ones((n, n)) / n\n",
        "    best_route = None\n",
        "    best_distance = float('inf')\n",
        "\n",
        "    for iteration in range(n_iterations):\n",
        "        all_routes = []\n",
        "        for ant in range(n_ants):\n",
        "            route = [0]\n",
        "            visited = set(route)\n",
        "            while len(visited) < n:\n",
        "                current_node = route[-1]\n",
        "                probabilities = []\n",
        "                for next_node in range(n):\n",
        "                    if next_node not in visited:\n",
        "                        trail_strength = pheromones[current_node][next_node] ** alpha\n",
        "                        visibility = (1 / graph[current_node][next_node]) ** beta\n",
        "                        probabilities.append(trail_strength * visibility)\n",
        "                    else:\n",
        "                        probabilities.append(0)\n",
        "                probabilities = np.array(probabilities) / np.sum(probabilities)\n",
        "                next_node = np.random.choice(range(n), p=probabilities)\n",
        "                route.append(next_node)\n",
        "                visited.add(next_node)\n",
        "            route.append(0)\n",
        "            all_routes.append(route)\n",
        "\n",
        "        # Update pheromones\n",
        "        pheromones *= (1 - evaporation_rate)\n",
        "        for route in all_routes:\n",
        "            distance = total_distance(route, graph)\n",
        "            if distance < best_distance:\n",
        "                best_distance = distance\n",
        "                best_route = route\n",
        "            for i in range(len(route) - 1):\n",
        "                pheromones[route[i]][route[i + 1]] += pheromone_constant / distance\n",
        "\n",
        "    return best_route, best_distance"
      ]
    },
    {
      "cell_type": "code",
      "execution_count": 15,
      "metadata": {
        "colab": {
          "base_uri": "https://localhost:8080/",
          "height": 647
        },
        "id": "AAkEbmsPHE3U",
        "outputId": "be9f1a5c-287e-4baf-fc10-64e150bedb78"
      },
      "outputs": [
        {
          "name": "stdout",
          "output_type": "stream",
          "text": [
            "Total Distance: 9332.45 km\n",
            "Execution Time: 26.4578 seconds\n",
            "Adaptability to Constraints: No\n",
            "Number of Routes/Trips: 1\n",
            "Best Route Path (location ids): [0, 12, 6, 7, 4, 9, 11, 2, 5, 14, 1, 10, 13, 25, 21, 24, 15, 16, 27, 17, 23, 29, 26, 32, 33, 38, 36, 37, 42, 41, 31, 40, 34, 39, 30, 44, 43, 35, 28, 22, 20, 19, 18, 3, 8, 0]\n"
          ]
        },
        {
          "data": {
            "application/vnd.plotly.v1+json": {
              "config": {
                "plotlyServerURL": "https://plot.ly"
              },
              "data": [
                {
                  "lat": [
                    -7.895305463951782,
                    -6.7968639755190425,
                    -8.019976296756461,
                    -6.93038230378835,
                    -8.546843766560196,
                    -8.29269812762099,
                    -8.894389015910503,
                    -7.473840446988154,
                    -7.148590877852885,
                    -10.012310200829864,
                    -9.66182318561962,
                    -9.855420304660887,
                    -5.204605313367969,
                    -5.028498090490002,
                    -3.215482213083625,
                    -2.8609167263459345,
                    -2.7278760424006605,
                    -3.954403226588334,
                    -4.06625771962812,
                    -4.355002012304489,
                    -0.9251075769609518,
                    -0.5890806170144496,
                    -0.5517847073339055,
                    -0.04782834419526749,
                    1.0422365405809333,
                    1.2101248145667163,
                    1.533766805867235,
                    0.6656596422166005,
                    0.381440069616102,
                    0.27222891524377735,
                    1.4576905786322016,
                    1.9724453743571608,
                    2.4575827110961246,
                    3.098315281021793,
                    3.855204250792176,
                    3.8914186792490644,
                    2.705638081905855,
                    4.809484980602941,
                    -0.21810798177671142,
                    -0.9443420411800656,
                    -0.8535848457693831,
                    -1.2851825380259987,
                    -4.765532070534371,
                    -6.15596182879079,
                    -9.209110001999044,
                    -7.895305463951782
                  ],
                  "lon": [
                    -5.147769983753383,
                    -8.800594899011251,
                    -6.0598857546213205,
                    -10.09722381271272,
                    -7.584988701640769,
                    -9.57148693622848,
                    -6.667320557052279,
                    -5.989727258857778,
                    -9.436168853446098,
                    -9.194755357141009,
                    -8.853851252544052,
                    -7.114795047364867,
                    -5.103989012838639,
                    -1.8093772525163951,
                    -3.2365259185110515,
                    -3.2544034812139477,
                    -3.786501514436931,
                    -1.984322603454718,
                    -4.95387916360203,
                    -0.3668496354632411,
                    -2.199818415788128,
                    -4.02780746365417,
                    -3.4979877157125765,
                    2.2758443233585592,
                    1.511278789038895,
                    2.1893190728993157,
                    0.18711376000152546,
                    1.1327942118500296,
                    2.4710525448690652,
                    3.8630309883460443,
                    2.496269526387625,
                    3.197303837042656,
                    3.98687687719685,
                    4.036314425255448,
                    4.090508424145143,
                    1.5711976756486803,
                    0.8068453049946812,
                    1.0597897889435903,
                    -0.5879375119901975,
                    -2.4256805869672586,
                    -2.3199510155761867,
                    -5.013907681804419,
                    -0.6936856896848422,
                    -9.254899936755185,
                    -4.947174965616872,
                    -5.147769983753383
                  ],
                  "marker": {
                    "color": "red",
                    "size": 10
                  },
                  "mode": "markers+text",
                  "text": [
                    "ID: 0",
                    "ID: 12",
                    "ID: 6",
                    "ID: 7",
                    "ID: 4",
                    "ID: 9",
                    "ID: 11",
                    "ID: 2",
                    "ID: 5",
                    "ID: 14",
                    "ID: 1",
                    "ID: 10",
                    "ID: 13",
                    "ID: 25",
                    "ID: 21",
                    "ID: 24",
                    "ID: 15",
                    "ID: 16",
                    "ID: 27",
                    "ID: 17",
                    "ID: 23",
                    "ID: 29",
                    "ID: 26",
                    "ID: 32",
                    "ID: 33",
                    "ID: 38",
                    "ID: 36",
                    "ID: 37",
                    "ID: 42",
                    "ID: 41",
                    "ID: 31",
                    "ID: 40",
                    "ID: 34",
                    "ID: 39",
                    "ID: 30",
                    "ID: 44",
                    "ID: 43",
                    "ID: 35",
                    "ID: 28",
                    "ID: 22",
                    "ID: 20",
                    "ID: 19",
                    "ID: 18",
                    "ID: 3",
                    "ID: 8",
                    "ID: 0"
                  ],
                  "textposition": "top right",
                  "type": "scattermapbox"
                },
                {
                  "lat": [
                    -7.895305463951782,
                    -6.7968639755190425,
                    -8.019976296756461,
                    -6.93038230378835,
                    -8.546843766560196,
                    -8.29269812762099,
                    -8.894389015910503,
                    -7.473840446988154,
                    -7.148590877852885,
                    -10.012310200829864,
                    -9.66182318561962,
                    -9.855420304660887,
                    -5.204605313367969,
                    -5.028498090490002,
                    -3.215482213083625,
                    -2.8609167263459345,
                    -2.7278760424006605,
                    -3.954403226588334,
                    -4.06625771962812,
                    -4.355002012304489,
                    -0.9251075769609518,
                    -0.5890806170144496,
                    -0.5517847073339055,
                    -0.04782834419526749,
                    1.0422365405809333,
                    1.2101248145667163,
                    1.533766805867235,
                    0.6656596422166005,
                    0.381440069616102,
                    0.27222891524377735,
                    1.4576905786322016,
                    1.9724453743571608,
                    2.4575827110961246,
                    3.098315281021793,
                    3.855204250792176,
                    3.8914186792490644,
                    2.705638081905855,
                    4.809484980602941,
                    -0.21810798177671142,
                    -0.9443420411800656,
                    -0.8535848457693831,
                    -1.2851825380259987,
                    -4.765532070534371,
                    -6.15596182879079,
                    -9.209110001999044,
                    -7.895305463951782
                  ],
                  "line": {
                    "color": "blue",
                    "width": 2
                  },
                  "lon": [
                    -5.147769983753383,
                    -8.800594899011251,
                    -6.0598857546213205,
                    -10.09722381271272,
                    -7.584988701640769,
                    -9.57148693622848,
                    -6.667320557052279,
                    -5.989727258857778,
                    -9.436168853446098,
                    -9.194755357141009,
                    -8.853851252544052,
                    -7.114795047364867,
                    -5.103989012838639,
                    -1.8093772525163951,
                    -3.2365259185110515,
                    -3.2544034812139477,
                    -3.786501514436931,
                    -1.984322603454718,
                    -4.95387916360203,
                    -0.3668496354632411,
                    -2.199818415788128,
                    -4.02780746365417,
                    -3.4979877157125765,
                    2.2758443233585592,
                    1.511278789038895,
                    2.1893190728993157,
                    0.18711376000152546,
                    1.1327942118500296,
                    2.4710525448690652,
                    3.8630309883460443,
                    2.496269526387625,
                    3.197303837042656,
                    3.98687687719685,
                    4.036314425255448,
                    4.090508424145143,
                    1.5711976756486803,
                    0.8068453049946812,
                    1.0597897889435903,
                    -0.5879375119901975,
                    -2.4256805869672586,
                    -2.3199510155761867,
                    -5.013907681804419,
                    -0.6936856896848422,
                    -9.254899936755185,
                    -4.947174965616872,
                    -5.147769983753383
                  ],
                  "mode": "lines",
                  "text": [
                    "Start",
                    "",
                    "",
                    "",
                    "",
                    "",
                    "",
                    "",
                    "",
                    "",
                    "",
                    "",
                    "",
                    "",
                    "",
                    "",
                    "",
                    "",
                    "",
                    "",
                    "",
                    "",
                    "",
                    "",
                    "",
                    "",
                    "",
                    "",
                    "",
                    "",
                    "",
                    "",
                    "",
                    "",
                    "",
                    "",
                    "",
                    "",
                    "",
                    "",
                    "",
                    "",
                    "",
                    "",
                    "",
                    "End"
                  ],
                  "type": "scattermapbox"
                }
              ],
              "layout": {
                "mapbox": {
                  "center": {
                    "lat": -2.9354168826533025,
                    "lon": -2.7012064872551313
                  },
                  "style": "stamen-terrain",
                  "zoom": 10
                },
                "margin": {
                  "b": 0,
                  "l": 0,
                  "r": 0,
                  "t": 0
                },
                "template": {
                  "data": {
                    "bar": [
                      {
                        "error_x": {
                          "color": "#2a3f5f"
                        },
                        "error_y": {
                          "color": "#2a3f5f"
                        },
                        "marker": {
                          "line": {
                            "color": "#E5ECF6",
                            "width": 0.5
                          },
                          "pattern": {
                            "fillmode": "overlay",
                            "size": 10,
                            "solidity": 0.2
                          }
                        },
                        "type": "bar"
                      }
                    ],
                    "barpolar": [
                      {
                        "marker": {
                          "line": {
                            "color": "#E5ECF6",
                            "width": 0.5
                          },
                          "pattern": {
                            "fillmode": "overlay",
                            "size": 10,
                            "solidity": 0.2
                          }
                        },
                        "type": "barpolar"
                      }
                    ],
                    "carpet": [
                      {
                        "aaxis": {
                          "endlinecolor": "#2a3f5f",
                          "gridcolor": "white",
                          "linecolor": "white",
                          "minorgridcolor": "white",
                          "startlinecolor": "#2a3f5f"
                        },
                        "baxis": {
                          "endlinecolor": "#2a3f5f",
                          "gridcolor": "white",
                          "linecolor": "white",
                          "minorgridcolor": "white",
                          "startlinecolor": "#2a3f5f"
                        },
                        "type": "carpet"
                      }
                    ],
                    "choropleth": [
                      {
                        "colorbar": {
                          "outlinewidth": 0,
                          "ticks": ""
                        },
                        "type": "choropleth"
                      }
                    ],
                    "contour": [
                      {
                        "colorbar": {
                          "outlinewidth": 0,
                          "ticks": ""
                        },
                        "colorscale": [
                          [
                            0,
                            "#0d0887"
                          ],
                          [
                            0.1111111111111111,
                            "#46039f"
                          ],
                          [
                            0.2222222222222222,
                            "#7201a8"
                          ],
                          [
                            0.3333333333333333,
                            "#9c179e"
                          ],
                          [
                            0.4444444444444444,
                            "#bd3786"
                          ],
                          [
                            0.5555555555555556,
                            "#d8576b"
                          ],
                          [
                            0.6666666666666666,
                            "#ed7953"
                          ],
                          [
                            0.7777777777777778,
                            "#fb9f3a"
                          ],
                          [
                            0.8888888888888888,
                            "#fdca26"
                          ],
                          [
                            1,
                            "#f0f921"
                          ]
                        ],
                        "type": "contour"
                      }
                    ],
                    "contourcarpet": [
                      {
                        "colorbar": {
                          "outlinewidth": 0,
                          "ticks": ""
                        },
                        "type": "contourcarpet"
                      }
                    ],
                    "heatmap": [
                      {
                        "colorbar": {
                          "outlinewidth": 0,
                          "ticks": ""
                        },
                        "colorscale": [
                          [
                            0,
                            "#0d0887"
                          ],
                          [
                            0.1111111111111111,
                            "#46039f"
                          ],
                          [
                            0.2222222222222222,
                            "#7201a8"
                          ],
                          [
                            0.3333333333333333,
                            "#9c179e"
                          ],
                          [
                            0.4444444444444444,
                            "#bd3786"
                          ],
                          [
                            0.5555555555555556,
                            "#d8576b"
                          ],
                          [
                            0.6666666666666666,
                            "#ed7953"
                          ],
                          [
                            0.7777777777777778,
                            "#fb9f3a"
                          ],
                          [
                            0.8888888888888888,
                            "#fdca26"
                          ],
                          [
                            1,
                            "#f0f921"
                          ]
                        ],
                        "type": "heatmap"
                      }
                    ],
                    "heatmapgl": [
                      {
                        "colorbar": {
                          "outlinewidth": 0,
                          "ticks": ""
                        },
                        "colorscale": [
                          [
                            0,
                            "#0d0887"
                          ],
                          [
                            0.1111111111111111,
                            "#46039f"
                          ],
                          [
                            0.2222222222222222,
                            "#7201a8"
                          ],
                          [
                            0.3333333333333333,
                            "#9c179e"
                          ],
                          [
                            0.4444444444444444,
                            "#bd3786"
                          ],
                          [
                            0.5555555555555556,
                            "#d8576b"
                          ],
                          [
                            0.6666666666666666,
                            "#ed7953"
                          ],
                          [
                            0.7777777777777778,
                            "#fb9f3a"
                          ],
                          [
                            0.8888888888888888,
                            "#fdca26"
                          ],
                          [
                            1,
                            "#f0f921"
                          ]
                        ],
                        "type": "heatmapgl"
                      }
                    ],
                    "histogram": [
                      {
                        "marker": {
                          "pattern": {
                            "fillmode": "overlay",
                            "size": 10,
                            "solidity": 0.2
                          }
                        },
                        "type": "histogram"
                      }
                    ],
                    "histogram2d": [
                      {
                        "colorbar": {
                          "outlinewidth": 0,
                          "ticks": ""
                        },
                        "colorscale": [
                          [
                            0,
                            "#0d0887"
                          ],
                          [
                            0.1111111111111111,
                            "#46039f"
                          ],
                          [
                            0.2222222222222222,
                            "#7201a8"
                          ],
                          [
                            0.3333333333333333,
                            "#9c179e"
                          ],
                          [
                            0.4444444444444444,
                            "#bd3786"
                          ],
                          [
                            0.5555555555555556,
                            "#d8576b"
                          ],
                          [
                            0.6666666666666666,
                            "#ed7953"
                          ],
                          [
                            0.7777777777777778,
                            "#fb9f3a"
                          ],
                          [
                            0.8888888888888888,
                            "#fdca26"
                          ],
                          [
                            1,
                            "#f0f921"
                          ]
                        ],
                        "type": "histogram2d"
                      }
                    ],
                    "histogram2dcontour": [
                      {
                        "colorbar": {
                          "outlinewidth": 0,
                          "ticks": ""
                        },
                        "colorscale": [
                          [
                            0,
                            "#0d0887"
                          ],
                          [
                            0.1111111111111111,
                            "#46039f"
                          ],
                          [
                            0.2222222222222222,
                            "#7201a8"
                          ],
                          [
                            0.3333333333333333,
                            "#9c179e"
                          ],
                          [
                            0.4444444444444444,
                            "#bd3786"
                          ],
                          [
                            0.5555555555555556,
                            "#d8576b"
                          ],
                          [
                            0.6666666666666666,
                            "#ed7953"
                          ],
                          [
                            0.7777777777777778,
                            "#fb9f3a"
                          ],
                          [
                            0.8888888888888888,
                            "#fdca26"
                          ],
                          [
                            1,
                            "#f0f921"
                          ]
                        ],
                        "type": "histogram2dcontour"
                      }
                    ],
                    "mesh3d": [
                      {
                        "colorbar": {
                          "outlinewidth": 0,
                          "ticks": ""
                        },
                        "type": "mesh3d"
                      }
                    ],
                    "parcoords": [
                      {
                        "line": {
                          "colorbar": {
                            "outlinewidth": 0,
                            "ticks": ""
                          }
                        },
                        "type": "parcoords"
                      }
                    ],
                    "pie": [
                      {
                        "automargin": true,
                        "type": "pie"
                      }
                    ],
                    "scatter": [
                      {
                        "fillpattern": {
                          "fillmode": "overlay",
                          "size": 10,
                          "solidity": 0.2
                        },
                        "type": "scatter"
                      }
                    ],
                    "scatter3d": [
                      {
                        "line": {
                          "colorbar": {
                            "outlinewidth": 0,
                            "ticks": ""
                          }
                        },
                        "marker": {
                          "colorbar": {
                            "outlinewidth": 0,
                            "ticks": ""
                          }
                        },
                        "type": "scatter3d"
                      }
                    ],
                    "scattercarpet": [
                      {
                        "marker": {
                          "colorbar": {
                            "outlinewidth": 0,
                            "ticks": ""
                          }
                        },
                        "type": "scattercarpet"
                      }
                    ],
                    "scattergeo": [
                      {
                        "marker": {
                          "colorbar": {
                            "outlinewidth": 0,
                            "ticks": ""
                          }
                        },
                        "type": "scattergeo"
                      }
                    ],
                    "scattergl": [
                      {
                        "marker": {
                          "colorbar": {
                            "outlinewidth": 0,
                            "ticks": ""
                          }
                        },
                        "type": "scattergl"
                      }
                    ],
                    "scattermapbox": [
                      {
                        "marker": {
                          "colorbar": {
                            "outlinewidth": 0,
                            "ticks": ""
                          }
                        },
                        "type": "scattermapbox"
                      }
                    ],
                    "scatterpolar": [
                      {
                        "marker": {
                          "colorbar": {
                            "outlinewidth": 0,
                            "ticks": ""
                          }
                        },
                        "type": "scatterpolar"
                      }
                    ],
                    "scatterpolargl": [
                      {
                        "marker": {
                          "colorbar": {
                            "outlinewidth": 0,
                            "ticks": ""
                          }
                        },
                        "type": "scatterpolargl"
                      }
                    ],
                    "scatterternary": [
                      {
                        "marker": {
                          "colorbar": {
                            "outlinewidth": 0,
                            "ticks": ""
                          }
                        },
                        "type": "scatterternary"
                      }
                    ],
                    "surface": [
                      {
                        "colorbar": {
                          "outlinewidth": 0,
                          "ticks": ""
                        },
                        "colorscale": [
                          [
                            0,
                            "#0d0887"
                          ],
                          [
                            0.1111111111111111,
                            "#46039f"
                          ],
                          [
                            0.2222222222222222,
                            "#7201a8"
                          ],
                          [
                            0.3333333333333333,
                            "#9c179e"
                          ],
                          [
                            0.4444444444444444,
                            "#bd3786"
                          ],
                          [
                            0.5555555555555556,
                            "#d8576b"
                          ],
                          [
                            0.6666666666666666,
                            "#ed7953"
                          ],
                          [
                            0.7777777777777778,
                            "#fb9f3a"
                          ],
                          [
                            0.8888888888888888,
                            "#fdca26"
                          ],
                          [
                            1,
                            "#f0f921"
                          ]
                        ],
                        "type": "surface"
                      }
                    ],
                    "table": [
                      {
                        "cells": {
                          "fill": {
                            "color": "#EBF0F8"
                          },
                          "line": {
                            "color": "white"
                          }
                        },
                        "header": {
                          "fill": {
                            "color": "#C8D4E3"
                          },
                          "line": {
                            "color": "white"
                          }
                        },
                        "type": "table"
                      }
                    ]
                  },
                  "layout": {
                    "annotationdefaults": {
                      "arrowcolor": "#2a3f5f",
                      "arrowhead": 0,
                      "arrowwidth": 1
                    },
                    "autotypenumbers": "strict",
                    "coloraxis": {
                      "colorbar": {
                        "outlinewidth": 0,
                        "ticks": ""
                      }
                    },
                    "colorscale": {
                      "diverging": [
                        [
                          0,
                          "#8e0152"
                        ],
                        [
                          0.1,
                          "#c51b7d"
                        ],
                        [
                          0.2,
                          "#de77ae"
                        ],
                        [
                          0.3,
                          "#f1b6da"
                        ],
                        [
                          0.4,
                          "#fde0ef"
                        ],
                        [
                          0.5,
                          "#f7f7f7"
                        ],
                        [
                          0.6,
                          "#e6f5d0"
                        ],
                        [
                          0.7,
                          "#b8e186"
                        ],
                        [
                          0.8,
                          "#7fbc41"
                        ],
                        [
                          0.9,
                          "#4d9221"
                        ],
                        [
                          1,
                          "#276419"
                        ]
                      ],
                      "sequential": [
                        [
                          0,
                          "#0d0887"
                        ],
                        [
                          0.1111111111111111,
                          "#46039f"
                        ],
                        [
                          0.2222222222222222,
                          "#7201a8"
                        ],
                        [
                          0.3333333333333333,
                          "#9c179e"
                        ],
                        [
                          0.4444444444444444,
                          "#bd3786"
                        ],
                        [
                          0.5555555555555556,
                          "#d8576b"
                        ],
                        [
                          0.6666666666666666,
                          "#ed7953"
                        ],
                        [
                          0.7777777777777778,
                          "#fb9f3a"
                        ],
                        [
                          0.8888888888888888,
                          "#fdca26"
                        ],
                        [
                          1,
                          "#f0f921"
                        ]
                      ],
                      "sequentialminus": [
                        [
                          0,
                          "#0d0887"
                        ],
                        [
                          0.1111111111111111,
                          "#46039f"
                        ],
                        [
                          0.2222222222222222,
                          "#7201a8"
                        ],
                        [
                          0.3333333333333333,
                          "#9c179e"
                        ],
                        [
                          0.4444444444444444,
                          "#bd3786"
                        ],
                        [
                          0.5555555555555556,
                          "#d8576b"
                        ],
                        [
                          0.6666666666666666,
                          "#ed7953"
                        ],
                        [
                          0.7777777777777778,
                          "#fb9f3a"
                        ],
                        [
                          0.8888888888888888,
                          "#fdca26"
                        ],
                        [
                          1,
                          "#f0f921"
                        ]
                      ]
                    },
                    "colorway": [
                      "#636efa",
                      "#EF553B",
                      "#00cc96",
                      "#ab63fa",
                      "#FFA15A",
                      "#19d3f3",
                      "#FF6692",
                      "#B6E880",
                      "#FF97FF",
                      "#FECB52"
                    ],
                    "font": {
                      "color": "#2a3f5f"
                    },
                    "geo": {
                      "bgcolor": "white",
                      "lakecolor": "white",
                      "landcolor": "#E5ECF6",
                      "showlakes": true,
                      "showland": true,
                      "subunitcolor": "white"
                    },
                    "hoverlabel": {
                      "align": "left"
                    },
                    "hovermode": "closest",
                    "mapbox": {
                      "style": "light"
                    },
                    "paper_bgcolor": "white",
                    "plot_bgcolor": "#E5ECF6",
                    "polar": {
                      "angularaxis": {
                        "gridcolor": "white",
                        "linecolor": "white",
                        "ticks": ""
                      },
                      "bgcolor": "#E5ECF6",
                      "radialaxis": {
                        "gridcolor": "white",
                        "linecolor": "white",
                        "ticks": ""
                      }
                    },
                    "scene": {
                      "xaxis": {
                        "backgroundcolor": "#E5ECF6",
                        "gridcolor": "white",
                        "gridwidth": 2,
                        "linecolor": "white",
                        "showbackground": true,
                        "ticks": "",
                        "zerolinecolor": "white"
                      },
                      "yaxis": {
                        "backgroundcolor": "#E5ECF6",
                        "gridcolor": "white",
                        "gridwidth": 2,
                        "linecolor": "white",
                        "showbackground": true,
                        "ticks": "",
                        "zerolinecolor": "white"
                      },
                      "zaxis": {
                        "backgroundcolor": "#E5ECF6",
                        "gridcolor": "white",
                        "gridwidth": 2,
                        "linecolor": "white",
                        "showbackground": true,
                        "ticks": "",
                        "zerolinecolor": "white"
                      }
                    },
                    "shapedefaults": {
                      "line": {
                        "color": "#2a3f5f"
                      }
                    },
                    "ternary": {
                      "aaxis": {
                        "gridcolor": "white",
                        "linecolor": "white",
                        "ticks": ""
                      },
                      "baxis": {
                        "gridcolor": "white",
                        "linecolor": "white",
                        "ticks": ""
                      },
                      "bgcolor": "#E5ECF6",
                      "caxis": {
                        "gridcolor": "white",
                        "linecolor": "white",
                        "ticks": ""
                      }
                    },
                    "title": {
                      "x": 0.05
                    },
                    "xaxis": {
                      "automargin": true,
                      "gridcolor": "white",
                      "linecolor": "white",
                      "ticks": "",
                      "title": {
                        "standoff": 15
                      },
                      "zerolinecolor": "white",
                      "zerolinewidth": 2
                    },
                    "yaxis": {
                      "automargin": true,
                      "gridcolor": "white",
                      "linecolor": "white",
                      "ticks": "",
                      "title": {
                        "standoff": 15
                      },
                      "zerolinecolor": "white",
                      "zerolinewidth": 2
                    }
                  }
                }
              }
            }
          },
          "metadata": {},
          "output_type": "display_data"
        }
      ],
      "source": [
        "# Display the metrics and plot the route\n",
        "display_metrics(locations_1, delivery_windows)"
      ]
    },
    {
      "cell_type": "code",
      "execution_count": 16,
      "metadata": {
        "colab": {
          "base_uri": "https://localhost:8080/",
          "height": 647
        },
        "id": "v9nP4_goIJoK",
        "outputId": "8239e1bc-a56f-4ab3-fa7a-78f6a458bd0b"
      },
      "outputs": [
        {
          "name": "stdout",
          "output_type": "stream",
          "text": [
            "Total Distance: 26202.09 km\n",
            "Execution Time: 8.2346 seconds\n",
            "Adaptability to Constraints: No\n",
            "Number of Routes/Trips: 1\n",
            "Best Route Path (location ids): [0, 27, 37, 9, 26, 44, 22, 42, 13, 35, 5, 11, 1, 40, 2, 34, 14, 30, 38, 16, 31, 39, 29, 6, 7, 33, 3, 32, 24, 4, 23, 25, 19, 21, 28, 43, 20, 12, 15, 17, 36, 18, 10, 8, 41, 0]\n"
          ]
        },
        {
          "data": {
            "application/vnd.plotly.v1+json": {
              "config": {
                "plotlyServerURL": "https://plot.ly"
              },
              "data": [
                {
                  "lat": [
                    -2.753979360716267,
                    -4.738674707495262,
                    -1.7520260727929398,
                    -3.3423731377674306,
                    1.5312008380559405,
                    -9.029543547742605,
                    -2.500815820126383,
                    -2.504611448890488,
                    1.2333206803252263,
                    1.1447306708401404,
                    2.5022616371803688,
                    -4.222942091613046,
                    -4.523945245495672,
                    -0.4944806277533381,
                    0.18611433492602847,
                    -2.164504069043517,
                    -4.239080455275716,
                    -8.925730455017739,
                    -10.16612758538313,
                    -9.762683521105338,
                    4.538127022754425,
                    7.083385509307471,
                    5.522761537791217,
                    1.7300527360578313,
                    -9.850034533709039,
                    -9.157005011178644,
                    7.8473909343153085,
                    5.842695316079709,
                    6.1678704565932065,
                    4.906200001669905,
                    7.352788770463013,
                    7.67568978899127,
                    8.793156653304985,
                    7.744477179554376,
                    6.0790717258450515,
                    2.7444413797793303,
                    1.9402285492199196,
                    8.135742407083915,
                    9.224036077278733,
                    9.066848433854641,
                    9.151659665775282,
                    6.69222617702323,
                    2.7459326138349596,
                    3.2514044113995473,
                    -1.894811661184887,
                    -2.753979360716267
                  ],
                  "lon": [
                    -7.353190221807237,
                    1.3540134001294295,
                    -4.787534099512482,
                    5.279051512854661,
                    -9.238509889357582,
                    1.790985803345144,
                    -3.818049720030952,
                    2.873688155473049,
                    0.07280599163878376,
                    4.071852350947189,
                    -7.918646511571945,
                    -5.227109407751568,
                    3.2548817322830423,
                    -0.5967129351507138,
                    -4.7657384240376395,
                    -6.78387070041849,
                    -9.836569991963875,
                    0.764522532861166,
                    -8.137818387542705,
                    9.033026070798178,
                    9.339998062191938,
                    3.6709913482514756,
                    -6.0982319850693685,
                    -9.652557198559352,
                    -6.591943773957334,
                    9.448942499652201,
                    2.51123872007802,
                    -5.004898593416249,
                    3.295071284991404,
                    8.222080744909167,
                    8.266327345816627,
                    -3.646114923128415,
                    3.517772427270228,
                    5.017856439071197,
                    -2.7739439117199374,
                    -6.598892180165091,
                    9.819406654449,
                    2.62540961305045,
                    8.948730240307192,
                    6.945286837949128,
                    4.869659080149722,
                    -3.604758634416097,
                    1.233887869768865,
                    -5.777364723292004,
                    1.8623059708163743,
                    -7.353190221807237
                  ],
                  "marker": {
                    "color": "red",
                    "size": 10
                  },
                  "mode": "markers+text",
                  "text": [
                    "ID: 0",
                    "ID: 27",
                    "ID: 37",
                    "ID: 9",
                    "ID: 26",
                    "ID: 44",
                    "ID: 22",
                    "ID: 42",
                    "ID: 13",
                    "ID: 35",
                    "ID: 5",
                    "ID: 11",
                    "ID: 1",
                    "ID: 40",
                    "ID: 2",
                    "ID: 34",
                    "ID: 14",
                    "ID: 30",
                    "ID: 38",
                    "ID: 16",
                    "ID: 31",
                    "ID: 39",
                    "ID: 29",
                    "ID: 6",
                    "ID: 7",
                    "ID: 33",
                    "ID: 3",
                    "ID: 32",
                    "ID: 24",
                    "ID: 4",
                    "ID: 23",
                    "ID: 25",
                    "ID: 19",
                    "ID: 21",
                    "ID: 28",
                    "ID: 43",
                    "ID: 20",
                    "ID: 12",
                    "ID: 15",
                    "ID: 17",
                    "ID: 36",
                    "ID: 18",
                    "ID: 10",
                    "ID: 8",
                    "ID: 41",
                    "ID: 0"
                  ],
                  "textposition": "top right",
                  "type": "scattermapbox"
                },
                {
                  "lat": [
                    -2.753979360716267,
                    -4.738674707495262,
                    -1.7520260727929398,
                    -3.3423731377674306,
                    1.5312008380559405,
                    -9.029543547742605,
                    -2.500815820126383,
                    -2.504611448890488,
                    1.2333206803252263,
                    1.1447306708401404,
                    2.5022616371803688,
                    -4.222942091613046,
                    -4.523945245495672,
                    -0.4944806277533381,
                    0.18611433492602847,
                    -2.164504069043517,
                    -4.239080455275716,
                    -8.925730455017739,
                    -10.16612758538313,
                    -9.762683521105338,
                    4.538127022754425,
                    7.083385509307471,
                    5.522761537791217,
                    1.7300527360578313,
                    -9.850034533709039,
                    -9.157005011178644,
                    7.8473909343153085,
                    5.842695316079709,
                    6.1678704565932065,
                    4.906200001669905,
                    7.352788770463013,
                    7.67568978899127,
                    8.793156653304985,
                    7.744477179554376,
                    6.0790717258450515,
                    2.7444413797793303,
                    1.9402285492199196,
                    8.135742407083915,
                    9.224036077278733,
                    9.066848433854641,
                    9.151659665775282,
                    6.69222617702323,
                    2.7459326138349596,
                    3.2514044113995473,
                    -1.894811661184887,
                    -2.753979360716267
                  ],
                  "line": {
                    "color": "blue",
                    "width": 2
                  },
                  "lon": [
                    -7.353190221807237,
                    1.3540134001294295,
                    -4.787534099512482,
                    5.279051512854661,
                    -9.238509889357582,
                    1.790985803345144,
                    -3.818049720030952,
                    2.873688155473049,
                    0.07280599163878376,
                    4.071852350947189,
                    -7.918646511571945,
                    -5.227109407751568,
                    3.2548817322830423,
                    -0.5967129351507138,
                    -4.7657384240376395,
                    -6.78387070041849,
                    -9.836569991963875,
                    0.764522532861166,
                    -8.137818387542705,
                    9.033026070798178,
                    9.339998062191938,
                    3.6709913482514756,
                    -6.0982319850693685,
                    -9.652557198559352,
                    -6.591943773957334,
                    9.448942499652201,
                    2.51123872007802,
                    -5.004898593416249,
                    3.295071284991404,
                    8.222080744909167,
                    8.266327345816627,
                    -3.646114923128415,
                    3.517772427270228,
                    5.017856439071197,
                    -2.7739439117199374,
                    -6.598892180165091,
                    9.819406654449,
                    2.62540961305045,
                    8.948730240307192,
                    6.945286837949128,
                    4.869659080149722,
                    -3.604758634416097,
                    1.233887869768865,
                    -5.777364723292004,
                    1.8623059708163743,
                    -7.353190221807237
                  ],
                  "mode": "lines",
                  "text": [
                    "Start",
                    "",
                    "",
                    "",
                    "",
                    "",
                    "",
                    "",
                    "",
                    "",
                    "",
                    "",
                    "",
                    "",
                    "",
                    "",
                    "",
                    "",
                    "",
                    "",
                    "",
                    "",
                    "",
                    "",
                    "",
                    "",
                    "",
                    "",
                    "",
                    "",
                    "",
                    "",
                    "",
                    "",
                    "",
                    "",
                    "",
                    "",
                    "",
                    "",
                    "",
                    "",
                    "",
                    "",
                    "",
                    "End"
                  ],
                  "type": "scattermapbox"
                }
              ],
              "layout": {
                "mapbox": {
                  "center": {
                    "lat": 1.0012275390499419,
                    "lon": -0.16251855968744874
                  },
                  "style": "stamen-terrain",
                  "zoom": 10
                },
                "margin": {
                  "b": 0,
                  "l": 0,
                  "r": 0,
                  "t": 0
                },
                "template": {
                  "data": {
                    "bar": [
                      {
                        "error_x": {
                          "color": "#2a3f5f"
                        },
                        "error_y": {
                          "color": "#2a3f5f"
                        },
                        "marker": {
                          "line": {
                            "color": "#E5ECF6",
                            "width": 0.5
                          },
                          "pattern": {
                            "fillmode": "overlay",
                            "size": 10,
                            "solidity": 0.2
                          }
                        },
                        "type": "bar"
                      }
                    ],
                    "barpolar": [
                      {
                        "marker": {
                          "line": {
                            "color": "#E5ECF6",
                            "width": 0.5
                          },
                          "pattern": {
                            "fillmode": "overlay",
                            "size": 10,
                            "solidity": 0.2
                          }
                        },
                        "type": "barpolar"
                      }
                    ],
                    "carpet": [
                      {
                        "aaxis": {
                          "endlinecolor": "#2a3f5f",
                          "gridcolor": "white",
                          "linecolor": "white",
                          "minorgridcolor": "white",
                          "startlinecolor": "#2a3f5f"
                        },
                        "baxis": {
                          "endlinecolor": "#2a3f5f",
                          "gridcolor": "white",
                          "linecolor": "white",
                          "minorgridcolor": "white",
                          "startlinecolor": "#2a3f5f"
                        },
                        "type": "carpet"
                      }
                    ],
                    "choropleth": [
                      {
                        "colorbar": {
                          "outlinewidth": 0,
                          "ticks": ""
                        },
                        "type": "choropleth"
                      }
                    ],
                    "contour": [
                      {
                        "colorbar": {
                          "outlinewidth": 0,
                          "ticks": ""
                        },
                        "colorscale": [
                          [
                            0,
                            "#0d0887"
                          ],
                          [
                            0.1111111111111111,
                            "#46039f"
                          ],
                          [
                            0.2222222222222222,
                            "#7201a8"
                          ],
                          [
                            0.3333333333333333,
                            "#9c179e"
                          ],
                          [
                            0.4444444444444444,
                            "#bd3786"
                          ],
                          [
                            0.5555555555555556,
                            "#d8576b"
                          ],
                          [
                            0.6666666666666666,
                            "#ed7953"
                          ],
                          [
                            0.7777777777777778,
                            "#fb9f3a"
                          ],
                          [
                            0.8888888888888888,
                            "#fdca26"
                          ],
                          [
                            1,
                            "#f0f921"
                          ]
                        ],
                        "type": "contour"
                      }
                    ],
                    "contourcarpet": [
                      {
                        "colorbar": {
                          "outlinewidth": 0,
                          "ticks": ""
                        },
                        "type": "contourcarpet"
                      }
                    ],
                    "heatmap": [
                      {
                        "colorbar": {
                          "outlinewidth": 0,
                          "ticks": ""
                        },
                        "colorscale": [
                          [
                            0,
                            "#0d0887"
                          ],
                          [
                            0.1111111111111111,
                            "#46039f"
                          ],
                          [
                            0.2222222222222222,
                            "#7201a8"
                          ],
                          [
                            0.3333333333333333,
                            "#9c179e"
                          ],
                          [
                            0.4444444444444444,
                            "#bd3786"
                          ],
                          [
                            0.5555555555555556,
                            "#d8576b"
                          ],
                          [
                            0.6666666666666666,
                            "#ed7953"
                          ],
                          [
                            0.7777777777777778,
                            "#fb9f3a"
                          ],
                          [
                            0.8888888888888888,
                            "#fdca26"
                          ],
                          [
                            1,
                            "#f0f921"
                          ]
                        ],
                        "type": "heatmap"
                      }
                    ],
                    "heatmapgl": [
                      {
                        "colorbar": {
                          "outlinewidth": 0,
                          "ticks": ""
                        },
                        "colorscale": [
                          [
                            0,
                            "#0d0887"
                          ],
                          [
                            0.1111111111111111,
                            "#46039f"
                          ],
                          [
                            0.2222222222222222,
                            "#7201a8"
                          ],
                          [
                            0.3333333333333333,
                            "#9c179e"
                          ],
                          [
                            0.4444444444444444,
                            "#bd3786"
                          ],
                          [
                            0.5555555555555556,
                            "#d8576b"
                          ],
                          [
                            0.6666666666666666,
                            "#ed7953"
                          ],
                          [
                            0.7777777777777778,
                            "#fb9f3a"
                          ],
                          [
                            0.8888888888888888,
                            "#fdca26"
                          ],
                          [
                            1,
                            "#f0f921"
                          ]
                        ],
                        "type": "heatmapgl"
                      }
                    ],
                    "histogram": [
                      {
                        "marker": {
                          "pattern": {
                            "fillmode": "overlay",
                            "size": 10,
                            "solidity": 0.2
                          }
                        },
                        "type": "histogram"
                      }
                    ],
                    "histogram2d": [
                      {
                        "colorbar": {
                          "outlinewidth": 0,
                          "ticks": ""
                        },
                        "colorscale": [
                          [
                            0,
                            "#0d0887"
                          ],
                          [
                            0.1111111111111111,
                            "#46039f"
                          ],
                          [
                            0.2222222222222222,
                            "#7201a8"
                          ],
                          [
                            0.3333333333333333,
                            "#9c179e"
                          ],
                          [
                            0.4444444444444444,
                            "#bd3786"
                          ],
                          [
                            0.5555555555555556,
                            "#d8576b"
                          ],
                          [
                            0.6666666666666666,
                            "#ed7953"
                          ],
                          [
                            0.7777777777777778,
                            "#fb9f3a"
                          ],
                          [
                            0.8888888888888888,
                            "#fdca26"
                          ],
                          [
                            1,
                            "#f0f921"
                          ]
                        ],
                        "type": "histogram2d"
                      }
                    ],
                    "histogram2dcontour": [
                      {
                        "colorbar": {
                          "outlinewidth": 0,
                          "ticks": ""
                        },
                        "colorscale": [
                          [
                            0,
                            "#0d0887"
                          ],
                          [
                            0.1111111111111111,
                            "#46039f"
                          ],
                          [
                            0.2222222222222222,
                            "#7201a8"
                          ],
                          [
                            0.3333333333333333,
                            "#9c179e"
                          ],
                          [
                            0.4444444444444444,
                            "#bd3786"
                          ],
                          [
                            0.5555555555555556,
                            "#d8576b"
                          ],
                          [
                            0.6666666666666666,
                            "#ed7953"
                          ],
                          [
                            0.7777777777777778,
                            "#fb9f3a"
                          ],
                          [
                            0.8888888888888888,
                            "#fdca26"
                          ],
                          [
                            1,
                            "#f0f921"
                          ]
                        ],
                        "type": "histogram2dcontour"
                      }
                    ],
                    "mesh3d": [
                      {
                        "colorbar": {
                          "outlinewidth": 0,
                          "ticks": ""
                        },
                        "type": "mesh3d"
                      }
                    ],
                    "parcoords": [
                      {
                        "line": {
                          "colorbar": {
                            "outlinewidth": 0,
                            "ticks": ""
                          }
                        },
                        "type": "parcoords"
                      }
                    ],
                    "pie": [
                      {
                        "automargin": true,
                        "type": "pie"
                      }
                    ],
                    "scatter": [
                      {
                        "fillpattern": {
                          "fillmode": "overlay",
                          "size": 10,
                          "solidity": 0.2
                        },
                        "type": "scatter"
                      }
                    ],
                    "scatter3d": [
                      {
                        "line": {
                          "colorbar": {
                            "outlinewidth": 0,
                            "ticks": ""
                          }
                        },
                        "marker": {
                          "colorbar": {
                            "outlinewidth": 0,
                            "ticks": ""
                          }
                        },
                        "type": "scatter3d"
                      }
                    ],
                    "scattercarpet": [
                      {
                        "marker": {
                          "colorbar": {
                            "outlinewidth": 0,
                            "ticks": ""
                          }
                        },
                        "type": "scattercarpet"
                      }
                    ],
                    "scattergeo": [
                      {
                        "marker": {
                          "colorbar": {
                            "outlinewidth": 0,
                            "ticks": ""
                          }
                        },
                        "type": "scattergeo"
                      }
                    ],
                    "scattergl": [
                      {
                        "marker": {
                          "colorbar": {
                            "outlinewidth": 0,
                            "ticks": ""
                          }
                        },
                        "type": "scattergl"
                      }
                    ],
                    "scattermapbox": [
                      {
                        "marker": {
                          "colorbar": {
                            "outlinewidth": 0,
                            "ticks": ""
                          }
                        },
                        "type": "scattermapbox"
                      }
                    ],
                    "scatterpolar": [
                      {
                        "marker": {
                          "colorbar": {
                            "outlinewidth": 0,
                            "ticks": ""
                          }
                        },
                        "type": "scatterpolar"
                      }
                    ],
                    "scatterpolargl": [
                      {
                        "marker": {
                          "colorbar": {
                            "outlinewidth": 0,
                            "ticks": ""
                          }
                        },
                        "type": "scatterpolargl"
                      }
                    ],
                    "scatterternary": [
                      {
                        "marker": {
                          "colorbar": {
                            "outlinewidth": 0,
                            "ticks": ""
                          }
                        },
                        "type": "scatterternary"
                      }
                    ],
                    "surface": [
                      {
                        "colorbar": {
                          "outlinewidth": 0,
                          "ticks": ""
                        },
                        "colorscale": [
                          [
                            0,
                            "#0d0887"
                          ],
                          [
                            0.1111111111111111,
                            "#46039f"
                          ],
                          [
                            0.2222222222222222,
                            "#7201a8"
                          ],
                          [
                            0.3333333333333333,
                            "#9c179e"
                          ],
                          [
                            0.4444444444444444,
                            "#bd3786"
                          ],
                          [
                            0.5555555555555556,
                            "#d8576b"
                          ],
                          [
                            0.6666666666666666,
                            "#ed7953"
                          ],
                          [
                            0.7777777777777778,
                            "#fb9f3a"
                          ],
                          [
                            0.8888888888888888,
                            "#fdca26"
                          ],
                          [
                            1,
                            "#f0f921"
                          ]
                        ],
                        "type": "surface"
                      }
                    ],
                    "table": [
                      {
                        "cells": {
                          "fill": {
                            "color": "#EBF0F8"
                          },
                          "line": {
                            "color": "white"
                          }
                        },
                        "header": {
                          "fill": {
                            "color": "#C8D4E3"
                          },
                          "line": {
                            "color": "white"
                          }
                        },
                        "type": "table"
                      }
                    ]
                  },
                  "layout": {
                    "annotationdefaults": {
                      "arrowcolor": "#2a3f5f",
                      "arrowhead": 0,
                      "arrowwidth": 1
                    },
                    "autotypenumbers": "strict",
                    "coloraxis": {
                      "colorbar": {
                        "outlinewidth": 0,
                        "ticks": ""
                      }
                    },
                    "colorscale": {
                      "diverging": [
                        [
                          0,
                          "#8e0152"
                        ],
                        [
                          0.1,
                          "#c51b7d"
                        ],
                        [
                          0.2,
                          "#de77ae"
                        ],
                        [
                          0.3,
                          "#f1b6da"
                        ],
                        [
                          0.4,
                          "#fde0ef"
                        ],
                        [
                          0.5,
                          "#f7f7f7"
                        ],
                        [
                          0.6,
                          "#e6f5d0"
                        ],
                        [
                          0.7,
                          "#b8e186"
                        ],
                        [
                          0.8,
                          "#7fbc41"
                        ],
                        [
                          0.9,
                          "#4d9221"
                        ],
                        [
                          1,
                          "#276419"
                        ]
                      ],
                      "sequential": [
                        [
                          0,
                          "#0d0887"
                        ],
                        [
                          0.1111111111111111,
                          "#46039f"
                        ],
                        [
                          0.2222222222222222,
                          "#7201a8"
                        ],
                        [
                          0.3333333333333333,
                          "#9c179e"
                        ],
                        [
                          0.4444444444444444,
                          "#bd3786"
                        ],
                        [
                          0.5555555555555556,
                          "#d8576b"
                        ],
                        [
                          0.6666666666666666,
                          "#ed7953"
                        ],
                        [
                          0.7777777777777778,
                          "#fb9f3a"
                        ],
                        [
                          0.8888888888888888,
                          "#fdca26"
                        ],
                        [
                          1,
                          "#f0f921"
                        ]
                      ],
                      "sequentialminus": [
                        [
                          0,
                          "#0d0887"
                        ],
                        [
                          0.1111111111111111,
                          "#46039f"
                        ],
                        [
                          0.2222222222222222,
                          "#7201a8"
                        ],
                        [
                          0.3333333333333333,
                          "#9c179e"
                        ],
                        [
                          0.4444444444444444,
                          "#bd3786"
                        ],
                        [
                          0.5555555555555556,
                          "#d8576b"
                        ],
                        [
                          0.6666666666666666,
                          "#ed7953"
                        ],
                        [
                          0.7777777777777778,
                          "#fb9f3a"
                        ],
                        [
                          0.8888888888888888,
                          "#fdca26"
                        ],
                        [
                          1,
                          "#f0f921"
                        ]
                      ]
                    },
                    "colorway": [
                      "#636efa",
                      "#EF553B",
                      "#00cc96",
                      "#ab63fa",
                      "#FFA15A",
                      "#19d3f3",
                      "#FF6692",
                      "#B6E880",
                      "#FF97FF",
                      "#FECB52"
                    ],
                    "font": {
                      "color": "#2a3f5f"
                    },
                    "geo": {
                      "bgcolor": "white",
                      "lakecolor": "white",
                      "landcolor": "#E5ECF6",
                      "showlakes": true,
                      "showland": true,
                      "subunitcolor": "white"
                    },
                    "hoverlabel": {
                      "align": "left"
                    },
                    "hovermode": "closest",
                    "mapbox": {
                      "style": "light"
                    },
                    "paper_bgcolor": "white",
                    "plot_bgcolor": "#E5ECF6",
                    "polar": {
                      "angularaxis": {
                        "gridcolor": "white",
                        "linecolor": "white",
                        "ticks": ""
                      },
                      "bgcolor": "#E5ECF6",
                      "radialaxis": {
                        "gridcolor": "white",
                        "linecolor": "white",
                        "ticks": ""
                      }
                    },
                    "scene": {
                      "xaxis": {
                        "backgroundcolor": "#E5ECF6",
                        "gridcolor": "white",
                        "gridwidth": 2,
                        "linecolor": "white",
                        "showbackground": true,
                        "ticks": "",
                        "zerolinecolor": "white"
                      },
                      "yaxis": {
                        "backgroundcolor": "#E5ECF6",
                        "gridcolor": "white",
                        "gridwidth": 2,
                        "linecolor": "white",
                        "showbackground": true,
                        "ticks": "",
                        "zerolinecolor": "white"
                      },
                      "zaxis": {
                        "backgroundcolor": "#E5ECF6",
                        "gridcolor": "white",
                        "gridwidth": 2,
                        "linecolor": "white",
                        "showbackground": true,
                        "ticks": "",
                        "zerolinecolor": "white"
                      }
                    },
                    "shapedefaults": {
                      "line": {
                        "color": "#2a3f5f"
                      }
                    },
                    "ternary": {
                      "aaxis": {
                        "gridcolor": "white",
                        "linecolor": "white",
                        "ticks": ""
                      },
                      "baxis": {
                        "gridcolor": "white",
                        "linecolor": "white",
                        "ticks": ""
                      },
                      "bgcolor": "#E5ECF6",
                      "caxis": {
                        "gridcolor": "white",
                        "linecolor": "white",
                        "ticks": ""
                      }
                    },
                    "title": {
                      "x": 0.05
                    },
                    "xaxis": {
                      "automargin": true,
                      "gridcolor": "white",
                      "linecolor": "white",
                      "ticks": "",
                      "title": {
                        "standoff": 15
                      },
                      "zerolinecolor": "white",
                      "zerolinewidth": 2
                    },
                    "yaxis": {
                      "automargin": true,
                      "gridcolor": "white",
                      "linecolor": "white",
                      "ticks": "",
                      "title": {
                        "standoff": 15
                      },
                      "zerolinecolor": "white",
                      "zerolinewidth": 2
                    }
                  }
                }
              }
            }
          },
          "metadata": {},
          "output_type": "display_data"
        }
      ],
      "source": [
        "# Display the metrics and plot the route\n",
        "display_metrics(locations_2, delivery_windows)"
      ]
    },
    {
      "cell_type": "code",
      "execution_count": 17,
      "metadata": {
        "colab": {
          "base_uri": "https://localhost:8080/",
          "height": 647
        },
        "id": "56nALSW2N5S9",
        "outputId": "1526e3be-7dd8-4852-aca3-1e886c168df2"
      },
      "outputs": [
        {
          "name": "stdout",
          "output_type": "stream",
          "text": [
            "Total Distance: 7730.06 km\n",
            "Execution Time: 5.7536 seconds\n",
            "Adaptability to Constraints: No\n",
            "Number of Routes/Trips: 1\n",
            "Best Route Path (location ids): [0, 18, 8, 15, 40, 35, 30, 6, 34, 31, 38, 36, 22, 17, 29, 14, 23, 7, 44, 19, 33, 25, 11, 39, 41, 32, 21, 37, 9, 26, 4, 10, 27, 1, 43, 13, 12, 2, 16, 3, 24, 28, 42, 20, 5, 0]\n"
          ]
        },
        {
          "data": {
            "application/vnd.plotly.v1+json": {
              "config": {
                "plotlyServerURL": "https://plot.ly"
              },
              "data": [
                {
                  "lat": [
                    -0.48906740468239573,
                    0.05697905938004166,
                    -0.6711241165758495,
                    0.7575222779520845,
                    0.8464372592231437,
                    0.6021744723653083,
                    0.47213561730882336,
                    0.7223187477868496,
                    0.8090192550696548,
                    -0.11729637196614118,
                    1.2761326035222424,
                    1.1498518747093596,
                    -0.21781474194890016,
                    -0.9533482677388494,
                    -1.2355112054393056,
                    -0.6546384571307035,
                    -0.6919144807059435,
                    1.4929641485641065,
                    1.3491336980197395,
                    -1.5027057473867296,
                    -0.9267768631354871,
                    -1.2838501336261572,
                    -0.8305999171433899,
                    -0.006870403172857142,
                    1.2681343211822167,
                    1.7573026890919479,
                    1.7371993328528812,
                    1.912614849103486,
                    1.6845220751635446,
                    1.6344022801800284,
                    1.693969726466754,
                    -1.5822521522084125,
                    -1.593462171232373,
                    2.2270497989300146,
                    2.255534763476132,
                    1.9342657999200237,
                    1.4408415432674695,
                    -1.6160574594653876,
                    -1.8282344585600458,
                    -2.0510395085160575,
                    -2.398282145248486,
                    -1.7996592431113956,
                    -1.4615970042662139,
                    -1.7863783479031121,
                    -1.398397842733491,
                    -0.48906740468239573
                  ],
                  "lon": [
                    0.6187696630853476,
                    -1.394540164049719,
                    1.5364091685715522,
                    1.152892875880797,
                    -0.13431765034020526,
                    0.45818048508343023,
                    0.9105528360225321,
                    0.8913632653191171,
                    -1.2028507076604578,
                    1.3855952315561861,
                    0.9906225324988854,
                    -1.0269949996972658,
                    -1.60759288346952,
                    -1.2702213025721043,
                    0.23851498177543196,
                    -0.43296728908265614,
                    1.618042644669803,
                    1.1399566339804825,
                    -1.3814481778757144,
                    0.8687890178033246,
                    -1.394163133078902,
                    0.6802099735614139,
                    1.0929305654651003,
                    0.8926302142308598,
                    -0.35182028888941264,
                    1.6811877333652019,
                    2.0423724947943764,
                    0.8211210698440587,
                    -0.029481016415244254,
                    -0.13191855371572347,
                    -2.125057482283297,
                    1.9366690928260084,
                    2.322768984470084,
                    -0.050238806840839256,
                    0.6664925522929378,
                    0.2421970744714642,
                    -1.1847913258046607,
                    -2.2043329708477883,
                    0.5858197120532419,
                    0.5510027239591887,
                    -0.506539515755423,
                    2.057537250911585,
                    1.9586071783063435,
                    1.8172004610715926,
                    1.1644206749836554,
                    0.6187696630853476
                  ],
                  "marker": {
                    "color": "red",
                    "size": 10
                  },
                  "mode": "markers+text",
                  "text": [
                    "ID: 0",
                    "ID: 18",
                    "ID: 8",
                    "ID: 15",
                    "ID: 40",
                    "ID: 35",
                    "ID: 30",
                    "ID: 6",
                    "ID: 34",
                    "ID: 31",
                    "ID: 38",
                    "ID: 36",
                    "ID: 22",
                    "ID: 17",
                    "ID: 29",
                    "ID: 14",
                    "ID: 23",
                    "ID: 7",
                    "ID: 44",
                    "ID: 19",
                    "ID: 33",
                    "ID: 25",
                    "ID: 11",
                    "ID: 39",
                    "ID: 41",
                    "ID: 32",
                    "ID: 21",
                    "ID: 37",
                    "ID: 9",
                    "ID: 26",
                    "ID: 4",
                    "ID: 10",
                    "ID: 27",
                    "ID: 1",
                    "ID: 43",
                    "ID: 13",
                    "ID: 12",
                    "ID: 2",
                    "ID: 16",
                    "ID: 3",
                    "ID: 24",
                    "ID: 28",
                    "ID: 42",
                    "ID: 20",
                    "ID: 5",
                    "ID: 0"
                  ],
                  "textposition": "top right",
                  "type": "scattermapbox"
                },
                {
                  "lat": [
                    -0.48906740468239573,
                    0.05697905938004166,
                    -0.6711241165758495,
                    0.7575222779520845,
                    0.8464372592231437,
                    0.6021744723653083,
                    0.47213561730882336,
                    0.7223187477868496,
                    0.8090192550696548,
                    -0.11729637196614118,
                    1.2761326035222424,
                    1.1498518747093596,
                    -0.21781474194890016,
                    -0.9533482677388494,
                    -1.2355112054393056,
                    -0.6546384571307035,
                    -0.6919144807059435,
                    1.4929641485641065,
                    1.3491336980197395,
                    -1.5027057473867296,
                    -0.9267768631354871,
                    -1.2838501336261572,
                    -0.8305999171433899,
                    -0.006870403172857142,
                    1.2681343211822167,
                    1.7573026890919479,
                    1.7371993328528812,
                    1.912614849103486,
                    1.6845220751635446,
                    1.6344022801800284,
                    1.693969726466754,
                    -1.5822521522084125,
                    -1.593462171232373,
                    2.2270497989300146,
                    2.255534763476132,
                    1.9342657999200237,
                    1.4408415432674695,
                    -1.6160574594653876,
                    -1.8282344585600458,
                    -2.0510395085160575,
                    -2.398282145248486,
                    -1.7996592431113956,
                    -1.4615970042662139,
                    -1.7863783479031121,
                    -1.398397842733491,
                    -0.48906740468239573
                  ],
                  "line": {
                    "color": "blue",
                    "width": 2
                  },
                  "lon": [
                    0.6187696630853476,
                    -1.394540164049719,
                    1.5364091685715522,
                    1.152892875880797,
                    -0.13431765034020526,
                    0.45818048508343023,
                    0.9105528360225321,
                    0.8913632653191171,
                    -1.2028507076604578,
                    1.3855952315561861,
                    0.9906225324988854,
                    -1.0269949996972658,
                    -1.60759288346952,
                    -1.2702213025721043,
                    0.23851498177543196,
                    -0.43296728908265614,
                    1.618042644669803,
                    1.1399566339804825,
                    -1.3814481778757144,
                    0.8687890178033246,
                    -1.394163133078902,
                    0.6802099735614139,
                    1.0929305654651003,
                    0.8926302142308598,
                    -0.35182028888941264,
                    1.6811877333652019,
                    2.0423724947943764,
                    0.8211210698440587,
                    -0.029481016415244254,
                    -0.13191855371572347,
                    -2.125057482283297,
                    1.9366690928260084,
                    2.322768984470084,
                    -0.050238806840839256,
                    0.6664925522929378,
                    0.2421970744714642,
                    -1.1847913258046607,
                    -2.2043329708477883,
                    0.5858197120532419,
                    0.5510027239591887,
                    -0.506539515755423,
                    2.057537250911585,
                    1.9586071783063435,
                    1.8172004610715926,
                    1.1644206749836554,
                    0.6187696630853476
                  ],
                  "mode": "lines",
                  "text": [
                    "Start",
                    "",
                    "",
                    "",
                    "",
                    "",
                    "",
                    "",
                    "",
                    "",
                    "",
                    "",
                    "",
                    "",
                    "",
                    "",
                    "",
                    "",
                    "",
                    "",
                    "",
                    "",
                    "",
                    "",
                    "",
                    "",
                    "",
                    "",
                    "",
                    "",
                    "",
                    "",
                    "",
                    "",
                    "",
                    "",
                    "",
                    "",
                    "",
                    "",
                    "",
                    "",
                    "",
                    "",
                    "",
                    "End"
                  ],
                  "type": "scattermapbox"
                }
              ],
              "layout": {
                "mapbox": {
                  "center": {
                    "lat": 0.03249044228164723,
                    "lon": 0.35896414103392216
                  },
                  "style": "stamen-terrain",
                  "zoom": 10
                },
                "margin": {
                  "b": 0,
                  "l": 0,
                  "r": 0,
                  "t": 0
                },
                "template": {
                  "data": {
                    "bar": [
                      {
                        "error_x": {
                          "color": "#2a3f5f"
                        },
                        "error_y": {
                          "color": "#2a3f5f"
                        },
                        "marker": {
                          "line": {
                            "color": "#E5ECF6",
                            "width": 0.5
                          },
                          "pattern": {
                            "fillmode": "overlay",
                            "size": 10,
                            "solidity": 0.2
                          }
                        },
                        "type": "bar"
                      }
                    ],
                    "barpolar": [
                      {
                        "marker": {
                          "line": {
                            "color": "#E5ECF6",
                            "width": 0.5
                          },
                          "pattern": {
                            "fillmode": "overlay",
                            "size": 10,
                            "solidity": 0.2
                          }
                        },
                        "type": "barpolar"
                      }
                    ],
                    "carpet": [
                      {
                        "aaxis": {
                          "endlinecolor": "#2a3f5f",
                          "gridcolor": "white",
                          "linecolor": "white",
                          "minorgridcolor": "white",
                          "startlinecolor": "#2a3f5f"
                        },
                        "baxis": {
                          "endlinecolor": "#2a3f5f",
                          "gridcolor": "white",
                          "linecolor": "white",
                          "minorgridcolor": "white",
                          "startlinecolor": "#2a3f5f"
                        },
                        "type": "carpet"
                      }
                    ],
                    "choropleth": [
                      {
                        "colorbar": {
                          "outlinewidth": 0,
                          "ticks": ""
                        },
                        "type": "choropleth"
                      }
                    ],
                    "contour": [
                      {
                        "colorbar": {
                          "outlinewidth": 0,
                          "ticks": ""
                        },
                        "colorscale": [
                          [
                            0,
                            "#0d0887"
                          ],
                          [
                            0.1111111111111111,
                            "#46039f"
                          ],
                          [
                            0.2222222222222222,
                            "#7201a8"
                          ],
                          [
                            0.3333333333333333,
                            "#9c179e"
                          ],
                          [
                            0.4444444444444444,
                            "#bd3786"
                          ],
                          [
                            0.5555555555555556,
                            "#d8576b"
                          ],
                          [
                            0.6666666666666666,
                            "#ed7953"
                          ],
                          [
                            0.7777777777777778,
                            "#fb9f3a"
                          ],
                          [
                            0.8888888888888888,
                            "#fdca26"
                          ],
                          [
                            1,
                            "#f0f921"
                          ]
                        ],
                        "type": "contour"
                      }
                    ],
                    "contourcarpet": [
                      {
                        "colorbar": {
                          "outlinewidth": 0,
                          "ticks": ""
                        },
                        "type": "contourcarpet"
                      }
                    ],
                    "heatmap": [
                      {
                        "colorbar": {
                          "outlinewidth": 0,
                          "ticks": ""
                        },
                        "colorscale": [
                          [
                            0,
                            "#0d0887"
                          ],
                          [
                            0.1111111111111111,
                            "#46039f"
                          ],
                          [
                            0.2222222222222222,
                            "#7201a8"
                          ],
                          [
                            0.3333333333333333,
                            "#9c179e"
                          ],
                          [
                            0.4444444444444444,
                            "#bd3786"
                          ],
                          [
                            0.5555555555555556,
                            "#d8576b"
                          ],
                          [
                            0.6666666666666666,
                            "#ed7953"
                          ],
                          [
                            0.7777777777777778,
                            "#fb9f3a"
                          ],
                          [
                            0.8888888888888888,
                            "#fdca26"
                          ],
                          [
                            1,
                            "#f0f921"
                          ]
                        ],
                        "type": "heatmap"
                      }
                    ],
                    "heatmapgl": [
                      {
                        "colorbar": {
                          "outlinewidth": 0,
                          "ticks": ""
                        },
                        "colorscale": [
                          [
                            0,
                            "#0d0887"
                          ],
                          [
                            0.1111111111111111,
                            "#46039f"
                          ],
                          [
                            0.2222222222222222,
                            "#7201a8"
                          ],
                          [
                            0.3333333333333333,
                            "#9c179e"
                          ],
                          [
                            0.4444444444444444,
                            "#bd3786"
                          ],
                          [
                            0.5555555555555556,
                            "#d8576b"
                          ],
                          [
                            0.6666666666666666,
                            "#ed7953"
                          ],
                          [
                            0.7777777777777778,
                            "#fb9f3a"
                          ],
                          [
                            0.8888888888888888,
                            "#fdca26"
                          ],
                          [
                            1,
                            "#f0f921"
                          ]
                        ],
                        "type": "heatmapgl"
                      }
                    ],
                    "histogram": [
                      {
                        "marker": {
                          "pattern": {
                            "fillmode": "overlay",
                            "size": 10,
                            "solidity": 0.2
                          }
                        },
                        "type": "histogram"
                      }
                    ],
                    "histogram2d": [
                      {
                        "colorbar": {
                          "outlinewidth": 0,
                          "ticks": ""
                        },
                        "colorscale": [
                          [
                            0,
                            "#0d0887"
                          ],
                          [
                            0.1111111111111111,
                            "#46039f"
                          ],
                          [
                            0.2222222222222222,
                            "#7201a8"
                          ],
                          [
                            0.3333333333333333,
                            "#9c179e"
                          ],
                          [
                            0.4444444444444444,
                            "#bd3786"
                          ],
                          [
                            0.5555555555555556,
                            "#d8576b"
                          ],
                          [
                            0.6666666666666666,
                            "#ed7953"
                          ],
                          [
                            0.7777777777777778,
                            "#fb9f3a"
                          ],
                          [
                            0.8888888888888888,
                            "#fdca26"
                          ],
                          [
                            1,
                            "#f0f921"
                          ]
                        ],
                        "type": "histogram2d"
                      }
                    ],
                    "histogram2dcontour": [
                      {
                        "colorbar": {
                          "outlinewidth": 0,
                          "ticks": ""
                        },
                        "colorscale": [
                          [
                            0,
                            "#0d0887"
                          ],
                          [
                            0.1111111111111111,
                            "#46039f"
                          ],
                          [
                            0.2222222222222222,
                            "#7201a8"
                          ],
                          [
                            0.3333333333333333,
                            "#9c179e"
                          ],
                          [
                            0.4444444444444444,
                            "#bd3786"
                          ],
                          [
                            0.5555555555555556,
                            "#d8576b"
                          ],
                          [
                            0.6666666666666666,
                            "#ed7953"
                          ],
                          [
                            0.7777777777777778,
                            "#fb9f3a"
                          ],
                          [
                            0.8888888888888888,
                            "#fdca26"
                          ],
                          [
                            1,
                            "#f0f921"
                          ]
                        ],
                        "type": "histogram2dcontour"
                      }
                    ],
                    "mesh3d": [
                      {
                        "colorbar": {
                          "outlinewidth": 0,
                          "ticks": ""
                        },
                        "type": "mesh3d"
                      }
                    ],
                    "parcoords": [
                      {
                        "line": {
                          "colorbar": {
                            "outlinewidth": 0,
                            "ticks": ""
                          }
                        },
                        "type": "parcoords"
                      }
                    ],
                    "pie": [
                      {
                        "automargin": true,
                        "type": "pie"
                      }
                    ],
                    "scatter": [
                      {
                        "fillpattern": {
                          "fillmode": "overlay",
                          "size": 10,
                          "solidity": 0.2
                        },
                        "type": "scatter"
                      }
                    ],
                    "scatter3d": [
                      {
                        "line": {
                          "colorbar": {
                            "outlinewidth": 0,
                            "ticks": ""
                          }
                        },
                        "marker": {
                          "colorbar": {
                            "outlinewidth": 0,
                            "ticks": ""
                          }
                        },
                        "type": "scatter3d"
                      }
                    ],
                    "scattercarpet": [
                      {
                        "marker": {
                          "colorbar": {
                            "outlinewidth": 0,
                            "ticks": ""
                          }
                        },
                        "type": "scattercarpet"
                      }
                    ],
                    "scattergeo": [
                      {
                        "marker": {
                          "colorbar": {
                            "outlinewidth": 0,
                            "ticks": ""
                          }
                        },
                        "type": "scattergeo"
                      }
                    ],
                    "scattergl": [
                      {
                        "marker": {
                          "colorbar": {
                            "outlinewidth": 0,
                            "ticks": ""
                          }
                        },
                        "type": "scattergl"
                      }
                    ],
                    "scattermapbox": [
                      {
                        "marker": {
                          "colorbar": {
                            "outlinewidth": 0,
                            "ticks": ""
                          }
                        },
                        "type": "scattermapbox"
                      }
                    ],
                    "scatterpolar": [
                      {
                        "marker": {
                          "colorbar": {
                            "outlinewidth": 0,
                            "ticks": ""
                          }
                        },
                        "type": "scatterpolar"
                      }
                    ],
                    "scatterpolargl": [
                      {
                        "marker": {
                          "colorbar": {
                            "outlinewidth": 0,
                            "ticks": ""
                          }
                        },
                        "type": "scatterpolargl"
                      }
                    ],
                    "scatterternary": [
                      {
                        "marker": {
                          "colorbar": {
                            "outlinewidth": 0,
                            "ticks": ""
                          }
                        },
                        "type": "scatterternary"
                      }
                    ],
                    "surface": [
                      {
                        "colorbar": {
                          "outlinewidth": 0,
                          "ticks": ""
                        },
                        "colorscale": [
                          [
                            0,
                            "#0d0887"
                          ],
                          [
                            0.1111111111111111,
                            "#46039f"
                          ],
                          [
                            0.2222222222222222,
                            "#7201a8"
                          ],
                          [
                            0.3333333333333333,
                            "#9c179e"
                          ],
                          [
                            0.4444444444444444,
                            "#bd3786"
                          ],
                          [
                            0.5555555555555556,
                            "#d8576b"
                          ],
                          [
                            0.6666666666666666,
                            "#ed7953"
                          ],
                          [
                            0.7777777777777778,
                            "#fb9f3a"
                          ],
                          [
                            0.8888888888888888,
                            "#fdca26"
                          ],
                          [
                            1,
                            "#f0f921"
                          ]
                        ],
                        "type": "surface"
                      }
                    ],
                    "table": [
                      {
                        "cells": {
                          "fill": {
                            "color": "#EBF0F8"
                          },
                          "line": {
                            "color": "white"
                          }
                        },
                        "header": {
                          "fill": {
                            "color": "#C8D4E3"
                          },
                          "line": {
                            "color": "white"
                          }
                        },
                        "type": "table"
                      }
                    ]
                  },
                  "layout": {
                    "annotationdefaults": {
                      "arrowcolor": "#2a3f5f",
                      "arrowhead": 0,
                      "arrowwidth": 1
                    },
                    "autotypenumbers": "strict",
                    "coloraxis": {
                      "colorbar": {
                        "outlinewidth": 0,
                        "ticks": ""
                      }
                    },
                    "colorscale": {
                      "diverging": [
                        [
                          0,
                          "#8e0152"
                        ],
                        [
                          0.1,
                          "#c51b7d"
                        ],
                        [
                          0.2,
                          "#de77ae"
                        ],
                        [
                          0.3,
                          "#f1b6da"
                        ],
                        [
                          0.4,
                          "#fde0ef"
                        ],
                        [
                          0.5,
                          "#f7f7f7"
                        ],
                        [
                          0.6,
                          "#e6f5d0"
                        ],
                        [
                          0.7,
                          "#b8e186"
                        ],
                        [
                          0.8,
                          "#7fbc41"
                        ],
                        [
                          0.9,
                          "#4d9221"
                        ],
                        [
                          1,
                          "#276419"
                        ]
                      ],
                      "sequential": [
                        [
                          0,
                          "#0d0887"
                        ],
                        [
                          0.1111111111111111,
                          "#46039f"
                        ],
                        [
                          0.2222222222222222,
                          "#7201a8"
                        ],
                        [
                          0.3333333333333333,
                          "#9c179e"
                        ],
                        [
                          0.4444444444444444,
                          "#bd3786"
                        ],
                        [
                          0.5555555555555556,
                          "#d8576b"
                        ],
                        [
                          0.6666666666666666,
                          "#ed7953"
                        ],
                        [
                          0.7777777777777778,
                          "#fb9f3a"
                        ],
                        [
                          0.8888888888888888,
                          "#fdca26"
                        ],
                        [
                          1,
                          "#f0f921"
                        ]
                      ],
                      "sequentialminus": [
                        [
                          0,
                          "#0d0887"
                        ],
                        [
                          0.1111111111111111,
                          "#46039f"
                        ],
                        [
                          0.2222222222222222,
                          "#7201a8"
                        ],
                        [
                          0.3333333333333333,
                          "#9c179e"
                        ],
                        [
                          0.4444444444444444,
                          "#bd3786"
                        ],
                        [
                          0.5555555555555556,
                          "#d8576b"
                        ],
                        [
                          0.6666666666666666,
                          "#ed7953"
                        ],
                        [
                          0.7777777777777778,
                          "#fb9f3a"
                        ],
                        [
                          0.8888888888888888,
                          "#fdca26"
                        ],
                        [
                          1,
                          "#f0f921"
                        ]
                      ]
                    },
                    "colorway": [
                      "#636efa",
                      "#EF553B",
                      "#00cc96",
                      "#ab63fa",
                      "#FFA15A",
                      "#19d3f3",
                      "#FF6692",
                      "#B6E880",
                      "#FF97FF",
                      "#FECB52"
                    ],
                    "font": {
                      "color": "#2a3f5f"
                    },
                    "geo": {
                      "bgcolor": "white",
                      "lakecolor": "white",
                      "landcolor": "#E5ECF6",
                      "showlakes": true,
                      "showland": true,
                      "subunitcolor": "white"
                    },
                    "hoverlabel": {
                      "align": "left"
                    },
                    "hovermode": "closest",
                    "mapbox": {
                      "style": "light"
                    },
                    "paper_bgcolor": "white",
                    "plot_bgcolor": "#E5ECF6",
                    "polar": {
                      "angularaxis": {
                        "gridcolor": "white",
                        "linecolor": "white",
                        "ticks": ""
                      },
                      "bgcolor": "#E5ECF6",
                      "radialaxis": {
                        "gridcolor": "white",
                        "linecolor": "white",
                        "ticks": ""
                      }
                    },
                    "scene": {
                      "xaxis": {
                        "backgroundcolor": "#E5ECF6",
                        "gridcolor": "white",
                        "gridwidth": 2,
                        "linecolor": "white",
                        "showbackground": true,
                        "ticks": "",
                        "zerolinecolor": "white"
                      },
                      "yaxis": {
                        "backgroundcolor": "#E5ECF6",
                        "gridcolor": "white",
                        "gridwidth": 2,
                        "linecolor": "white",
                        "showbackground": true,
                        "ticks": "",
                        "zerolinecolor": "white"
                      },
                      "zaxis": {
                        "backgroundcolor": "#E5ECF6",
                        "gridcolor": "white",
                        "gridwidth": 2,
                        "linecolor": "white",
                        "showbackground": true,
                        "ticks": "",
                        "zerolinecolor": "white"
                      }
                    },
                    "shapedefaults": {
                      "line": {
                        "color": "#2a3f5f"
                      }
                    },
                    "ternary": {
                      "aaxis": {
                        "gridcolor": "white",
                        "linecolor": "white",
                        "ticks": ""
                      },
                      "baxis": {
                        "gridcolor": "white",
                        "linecolor": "white",
                        "ticks": ""
                      },
                      "bgcolor": "#E5ECF6",
                      "caxis": {
                        "gridcolor": "white",
                        "linecolor": "white",
                        "ticks": ""
                      }
                    },
                    "title": {
                      "x": 0.05
                    },
                    "xaxis": {
                      "automargin": true,
                      "gridcolor": "white",
                      "linecolor": "white",
                      "ticks": "",
                      "title": {
                        "standoff": 15
                      },
                      "zerolinecolor": "white",
                      "zerolinewidth": 2
                    },
                    "yaxis": {
                      "automargin": true,
                      "gridcolor": "white",
                      "linecolor": "white",
                      "ticks": "",
                      "title": {
                        "standoff": 15
                      },
                      "zerolinecolor": "white",
                      "zerolinewidth": 2
                    }
                  }
                }
              }
            }
          },
          "metadata": {},
          "output_type": "display_data"
        }
      ],
      "source": [
        "# Display the metrics and plot the route\n",
        "display_metrics(locations_3, delivery_windows)"
      ]
    },
    {
      "cell_type": "markdown",
      "metadata": {
        "id": "zM6PxpAbOJ4O"
      },
      "source": [
        "**Implementation of the Genetic Algorithm (GA) for Route Optimization**"
      ]
    },
    {
      "cell_type": "code",
      "execution_count": 18,
      "metadata": {
        "id": "Et_Lwi32Jv4g"
      },
      "outputs": [],
      "source": [
        "# Convert the DataFrame to a list of dictionaries for easier access\n",
        "locations_list_1 = df_distinct_towns.to_dict(orient='records')\n",
        "locations_list_2 = df_congested.to_dict(orient='records')\n",
        "locations_list_3 = df_sparse.to_dict(orient='records')"
      ]
    },
    {
      "cell_type": "code",
      "execution_count": 19,
      "metadata": {
        "id": "qFU74qbhJxVF"
      },
      "outputs": [],
      "source": [
        "import numpy as np\n",
        "import random\n",
        "from geopy.distance import geodesic\n",
        "import time\n",
        "\n",
        "# Calculate the total distance of a route\n",
        "def calculate_total_distance(route, locations):\n",
        "    total_distance = 0\n",
        "    for i in range(len(route) - 1):\n",
        "        loc1 = locations[route[i]]\n",
        "        loc2 = locations[route[i+1]]\n",
        "        total_distance += geodesic((loc1['latitude'], loc1['longitude']), (loc2['latitude'], loc2['longitude'])).miles\n",
        "    # Add distance to return to the starting point\n",
        "    loc1 = locations[route[-1]]\n",
        "    loc2 = locations[route[0]]\n",
        "    total_distance += geodesic((loc1['latitude'], loc1['longitude']), (loc2['latitude'], loc2['longitude'])).miles\n",
        "    return total_distance\n",
        "\n",
        "# Generate an initial population of random routes\n",
        "def generate_initial_population(pop_size, num_locations):\n",
        "    population = []\n",
        "    for _ in range(pop_size):\n",
        "        route = list(range(num_locations))\n",
        "        random.shuffle(route)\n",
        "        population.append(route)\n",
        "    return population\n",
        "\n",
        "# Evaluate the fitness of the population\n",
        "def evaluate_fitness(population, locations):\n",
        "    fitness_scores = []\n",
        "    for route in population:\n",
        "        fitness_scores.append(1 / calculate_total_distance(route, locations))  # Inverse of distance\n",
        "    return fitness_scores\n",
        "\n",
        "# Select parents using tournament selection\n",
        "def tournament_selection(population, fitness_scores, k=3):\n",
        "    selected = random.sample(range(len(population)), k)\n",
        "    selected_fitness = [fitness_scores[i] for i in selected]\n",
        "    best_index = selected[np.argmax(selected_fitness)]\n",
        "    return population[best_index]\n",
        "\n",
        "# Perform ordered crossover\n",
        "def ordered_crossover(parent1, parent2):\n",
        "    size = len(parent1)\n",
        "    start, end = sorted(random.sample(range(size), 2))\n",
        "    child = [None] * size\n",
        "    child[start:end] = parent1[start:end]\n",
        "    pointer = 0\n",
        "    for gene in parent2:\n",
        "        if gene not in child:\n",
        "            while child[pointer] is not None:\n",
        "                pointer += 1\n",
        "            child[pointer] = gene\n",
        "    return child\n",
        "\n",
        "# Perform mutation by swapping two genes\n",
        "def mutate(route, mutation_rate=0.01):\n",
        "    if random.random() < mutation_rate:\n",
        "        i, j = random.sample(range(len(route)), 2)\n",
        "        route[i], route[j] = route[j], route[i]\n",
        "    return route\n",
        "\n",
        "# Genetic Algorithm for route optimization with stopping criterion and timing\n",
        "def genetic_algorithm(locations, pop_size=100, num_generations=500, mutation_rate=0.01, convergence_generations=50):\n",
        "    start_time = time.time()  # Start the timer\n",
        "    num_locations = len(locations)\n",
        "    population = generate_initial_population(pop_size, num_locations)\n",
        "    best_fitness = 0\n",
        "    generations_without_improvement = 0\n",
        "\n",
        "    for generation in range(num_generations):\n",
        "        fitness_scores = evaluate_fitness(population, locations)\n",
        "\n",
        "        if max(fitness_scores) > best_fitness:\n",
        "            best_fitness = max(fitness_scores)\n",
        "            generations_without_improvement = 0\n",
        "        else:\n",
        "            generations_without_improvement += 1\n",
        "\n",
        "        if generations_without_improvement >= convergence_generations:\n",
        "            print(f\"Stopping early at generation {generation+1} due to convergence.\")\n",
        "            break\n",
        "\n",
        "        new_population = []\n",
        "        for _ in range(pop_size // 2):\n",
        "            parent1 = tournament_selection(population, fitness_scores)\n",
        "            parent2 = tournament_selection(population, fitness_scores)\n",
        "            child1 = ordered_crossover(parent1, parent2)\n",
        "            child2 = ordered_crossover(parent2, parent1)\n",
        "            new_population.extend([mutate(child1, mutation_rate), mutate(child2, mutation_rate)])\n",
        "\n",
        "        population = new_population\n",
        "        print(f\"Generation {generation+1}: Best Fitness = {best_fitness}\")\n",
        "\n",
        "    best_route_index = np.argmax(fitness_scores)\n",
        "    best_route = population[best_route_index]\n",
        "    end_time = time.time()  # End the timer\n",
        "    total_time = end_time - start_time\n",
        "    print(f\"Total time taken: {total_time} seconds\")\n",
        "    return best_route\n"
      ]
    },
    {
      "cell_type": "code",
      "execution_count": 20,
      "metadata": {
        "colab": {
          "base_uri": "https://localhost:8080/"
        },
        "id": "jOatECGoJ36l",
        "outputId": "e2715ca0-5710-4c87-fb60-7bd42f536cb3"
      },
      "outputs": [
        {
          "name": "stdout",
          "output_type": "stream",
          "text": [
            "Generation 1: Best Fitness = 5.209285150644283e-05\n",
            "Generation 2: Best Fitness = 5.606070285909699e-05\n",
            "Generation 3: Best Fitness = 5.616617964929166e-05\n",
            "Generation 4: Best Fitness = 5.876805158690294e-05\n",
            "Generation 5: Best Fitness = 6.349148667859364e-05\n",
            "Generation 6: Best Fitness = 7.086753763807585e-05\n",
            "Generation 7: Best Fitness = 7.244363380781616e-05\n",
            "Generation 8: Best Fitness = 7.244363380781616e-05\n",
            "Generation 9: Best Fitness = 7.244363380781616e-05\n",
            "Generation 10: Best Fitness = 7.244363380781616e-05\n",
            "Generation 11: Best Fitness = 7.244363380781616e-05\n",
            "Generation 12: Best Fitness = 7.611234583358858e-05\n",
            "Generation 13: Best Fitness = 8.235349371733344e-05\n",
            "Generation 14: Best Fitness = 9.073338172045983e-05\n",
            "Generation 15: Best Fitness = 9.073338172045983e-05\n",
            "Generation 16: Best Fitness = 9.073338172045983e-05\n",
            "Generation 17: Best Fitness = 9.073338172045983e-05\n",
            "Generation 18: Best Fitness = 9.073338172045983e-05\n",
            "Generation 19: Best Fitness = 9.073338172045983e-05\n",
            "Generation 20: Best Fitness = 9.073338172045983e-05\n",
            "Generation 21: Best Fitness = 9.346264182477598e-05\n",
            "Generation 22: Best Fitness = 9.346264182477598e-05\n",
            "Generation 23: Best Fitness = 9.346264182477598e-05\n",
            "Generation 24: Best Fitness = 9.346264182477598e-05\n",
            "Generation 25: Best Fitness = 9.346264182477598e-05\n",
            "Generation 26: Best Fitness = 9.346264182477598e-05\n",
            "Generation 27: Best Fitness = 9.346264182477598e-05\n",
            "Generation 28: Best Fitness = 9.431356398951692e-05\n",
            "Generation 29: Best Fitness = 9.620469551468838e-05\n",
            "Generation 30: Best Fitness = 9.620469551468838e-05\n",
            "Generation 31: Best Fitness = 9.620469551468838e-05\n",
            "Generation 32: Best Fitness = 0.00010160782401833622\n",
            "Generation 33: Best Fitness = 0.00010419074009958263\n",
            "Generation 34: Best Fitness = 0.00010755114764124569\n",
            "Generation 35: Best Fitness = 0.00010755114764124569\n",
            "Generation 36: Best Fitness = 0.00011373045164666485\n",
            "Generation 37: Best Fitness = 0.0001197615118816739\n",
            "Generation 38: Best Fitness = 0.0001197615118816739\n",
            "Generation 39: Best Fitness = 0.0001197615118816739\n",
            "Generation 40: Best Fitness = 0.0001197615118816739\n",
            "Generation 41: Best Fitness = 0.0001197615118816739\n",
            "Generation 42: Best Fitness = 0.0001197615118816739\n",
            "Generation 43: Best Fitness = 0.0001197615118816739\n",
            "Generation 44: Best Fitness = 0.00011985630624674115\n",
            "Generation 45: Best Fitness = 0.00012166778550688519\n",
            "Generation 46: Best Fitness = 0.00012274738582564865\n",
            "Generation 47: Best Fitness = 0.00012318208404625466\n",
            "Generation 48: Best Fitness = 0.00012318208404625466\n",
            "Generation 49: Best Fitness = 0.00012427811373596836\n",
            "Generation 50: Best Fitness = 0.00012484071056324608\n",
            "Generation 51: Best Fitness = 0.0001251694664937366\n",
            "Generation 52: Best Fitness = 0.00012550025502490754\n",
            "Generation 53: Best Fitness = 0.00012569337328240145\n",
            "Generation 54: Best Fitness = 0.0001265326201361934\n",
            "Generation 55: Best Fitness = 0.00012740863205516764\n",
            "Generation 56: Best Fitness = 0.00012803399323877662\n",
            "Generation 57: Best Fitness = 0.00012803399323877662\n",
            "Generation 58: Best Fitness = 0.00012803399323877662\n",
            "Generation 59: Best Fitness = 0.00012803399323877662\n",
            "Generation 60: Best Fitness = 0.00012803399323877662\n",
            "Generation 61: Best Fitness = 0.00012803399323877662\n",
            "Generation 62: Best Fitness = 0.00012803399323877662\n",
            "Generation 63: Best Fitness = 0.0001281318665538704\n",
            "Generation 64: Best Fitness = 0.0001281318665538704\n",
            "Generation 65: Best Fitness = 0.0001281318665538704\n",
            "Generation 66: Best Fitness = 0.00012931121914200913\n",
            "Generation 67: Best Fitness = 0.00012931121914200913\n",
            "Generation 68: Best Fitness = 0.00012931121914200913\n",
            "Generation 69: Best Fitness = 0.00012931121914200913\n",
            "Generation 70: Best Fitness = 0.00013140554555718032\n",
            "Generation 71: Best Fitness = 0.00013140554555718032\n",
            "Generation 72: Best Fitness = 0.00013231715569873736\n",
            "Generation 73: Best Fitness = 0.00013231715569873736\n",
            "Generation 74: Best Fitness = 0.00013231715569873736\n",
            "Generation 75: Best Fitness = 0.00013231715569873736\n",
            "Generation 76: Best Fitness = 0.00013231715569873736\n",
            "Generation 77: Best Fitness = 0.00013231715569873736\n",
            "Generation 78: Best Fitness = 0.00013231715569873736\n",
            "Generation 79: Best Fitness = 0.00013231715569873736\n",
            "Generation 80: Best Fitness = 0.00013231715569873736\n",
            "Generation 81: Best Fitness = 0.00013231715569873736\n",
            "Generation 82: Best Fitness = 0.00013231715569873736\n",
            "Generation 83: Best Fitness = 0.0001325263998412134\n",
            "Generation 84: Best Fitness = 0.0001325263998412134\n",
            "Generation 85: Best Fitness = 0.0001325263998412134\n",
            "Generation 86: Best Fitness = 0.0001325263998412134\n",
            "Generation 87: Best Fitness = 0.0001325263998412134\n",
            "Generation 88: Best Fitness = 0.0001325263998412134\n",
            "Generation 89: Best Fitness = 0.0001325263998412134\n",
            "Generation 90: Best Fitness = 0.0001325263998412134\n",
            "Generation 91: Best Fitness = 0.0001325263998412134\n",
            "Generation 92: Best Fitness = 0.0001325263998412134\n",
            "Generation 93: Best Fitness = 0.0001325263998412134\n",
            "Generation 94: Best Fitness = 0.00013434765215212234\n",
            "Generation 95: Best Fitness = 0.00013434765215212234\n",
            "Generation 96: Best Fitness = 0.00013435864018081044\n",
            "Generation 97: Best Fitness = 0.00013435864018081044\n",
            "Generation 98: Best Fitness = 0.00013435864018081044\n",
            "Generation 99: Best Fitness = 0.00013435864018081044\n",
            "Generation 100: Best Fitness = 0.00013632590342644102\n",
            "Generation 101: Best Fitness = 0.00013632590342644102\n",
            "Generation 102: Best Fitness = 0.00013632590342644102\n",
            "Generation 103: Best Fitness = 0.00013710475636817055\n",
            "Generation 104: Best Fitness = 0.00013710475636817055\n",
            "Generation 105: Best Fitness = 0.00013922777000550487\n",
            "Generation 106: Best Fitness = 0.00013922777000550487\n",
            "Generation 107: Best Fitness = 0.00013922777000550487\n",
            "Generation 108: Best Fitness = 0.00013922777000550487\n",
            "Generation 109: Best Fitness = 0.00013922777000550487\n",
            "Generation 110: Best Fitness = 0.00013922777000550487\n",
            "Generation 111: Best Fitness = 0.00013922777000550487\n",
            "Generation 112: Best Fitness = 0.00013922777000550487\n",
            "Generation 113: Best Fitness = 0.00013922777000550487\n",
            "Generation 114: Best Fitness = 0.00013922777000550487\n",
            "Generation 115: Best Fitness = 0.00013922777000550487\n",
            "Generation 116: Best Fitness = 0.00013922777000550487\n",
            "Generation 117: Best Fitness = 0.00013922777000550487\n",
            "Generation 118: Best Fitness = 0.00013922777000550487\n",
            "Generation 119: Best Fitness = 0.00013922777000550487\n",
            "Generation 120: Best Fitness = 0.00013922777000550487\n",
            "Generation 121: Best Fitness = 0.00013922777000550487\n",
            "Generation 122: Best Fitness = 0.00013922777000550487\n",
            "Generation 123: Best Fitness = 0.00013922777000550487\n",
            "Generation 124: Best Fitness = 0.00013922777000550487\n",
            "Generation 125: Best Fitness = 0.00013922777000550487\n",
            "Generation 126: Best Fitness = 0.00013922777000550487\n",
            "Generation 127: Best Fitness = 0.00013922777000550487\n",
            "Generation 128: Best Fitness = 0.00013922777000550487\n",
            "Generation 129: Best Fitness = 0.00013922777000550487\n",
            "Generation 130: Best Fitness = 0.00013922777000550487\n",
            "Generation 131: Best Fitness = 0.00013922777000550487\n",
            "Generation 132: Best Fitness = 0.00013922777000550487\n",
            "Generation 133: Best Fitness = 0.00013922777000550487\n",
            "Generation 134: Best Fitness = 0.00013922777000550487\n",
            "Generation 135: Best Fitness = 0.00013922777000550487\n",
            "Generation 136: Best Fitness = 0.00013922777000550487\n",
            "Generation 137: Best Fitness = 0.00013922777000550487\n",
            "Generation 138: Best Fitness = 0.00013922777000550487\n",
            "Generation 139: Best Fitness = 0.00013922777000550487\n",
            "Generation 140: Best Fitness = 0.00013922777000550487\n",
            "Generation 141: Best Fitness = 0.00013922777000550487\n",
            "Generation 142: Best Fitness = 0.00014161054294829493\n",
            "Generation 143: Best Fitness = 0.00014161054294829493\n",
            "Generation 144: Best Fitness = 0.00014161054294829493\n",
            "Generation 145: Best Fitness = 0.00014161054294829493\n",
            "Generation 146: Best Fitness = 0.00014161054294829493\n",
            "Generation 147: Best Fitness = 0.0001416506366143126\n",
            "Generation 148: Best Fitness = 0.0001416506366143126\n",
            "Generation 149: Best Fitness = 0.0001416506366143126\n",
            "Generation 150: Best Fitness = 0.0001416506366143126\n",
            "Generation 151: Best Fitness = 0.0001416506366143126\n",
            "Generation 152: Best Fitness = 0.00014168499300117656\n",
            "Generation 153: Best Fitness = 0.00014168499300117656\n",
            "Generation 154: Best Fitness = 0.00014168499300117656\n",
            "Generation 155: Best Fitness = 0.00014168499300117656\n",
            "Generation 156: Best Fitness = 0.00014168499300117656\n",
            "Generation 157: Best Fitness = 0.00014168499300117656\n",
            "Generation 158: Best Fitness = 0.00014168499300117656\n",
            "Generation 159: Best Fitness = 0.00014168499300117656\n",
            "Generation 160: Best Fitness = 0.00014168499300117656\n",
            "Generation 161: Best Fitness = 0.00014168499300117656\n",
            "Generation 162: Best Fitness = 0.00014168499300117656\n",
            "Generation 163: Best Fitness = 0.00014168499300117656\n",
            "Generation 164: Best Fitness = 0.00014168499300117656\n",
            "Generation 165: Best Fitness = 0.00014168499300117656\n",
            "Generation 166: Best Fitness = 0.00014168499300117656\n",
            "Generation 167: Best Fitness = 0.00014168499300117656\n",
            "Generation 168: Best Fitness = 0.00014168499300117656\n",
            "Generation 169: Best Fitness = 0.00014168499300117656\n",
            "Generation 170: Best Fitness = 0.00014168499300117656\n",
            "Generation 171: Best Fitness = 0.00014168499300117656\n",
            "Generation 172: Best Fitness = 0.00014168499300117656\n",
            "Generation 173: Best Fitness = 0.00014168499300117656\n",
            "Generation 174: Best Fitness = 0.00014168499300117656\n",
            "Generation 175: Best Fitness = 0.00014168499300117656\n",
            "Generation 176: Best Fitness = 0.00014168499300117656\n",
            "Generation 177: Best Fitness = 0.00014168499300117656\n",
            "Generation 178: Best Fitness = 0.00014168499300117656\n",
            "Generation 179: Best Fitness = 0.00014168499300117656\n",
            "Generation 180: Best Fitness = 0.00014168499300117656\n",
            "Generation 181: Best Fitness = 0.00014168499300117656\n",
            "Generation 182: Best Fitness = 0.00014168499300117656\n",
            "Generation 183: Best Fitness = 0.00014168499300117656\n",
            "Generation 184: Best Fitness = 0.00014168499300117656\n",
            "Generation 185: Best Fitness = 0.00014168499300117656\n",
            "Generation 186: Best Fitness = 0.00014168499300117656\n",
            "Generation 187: Best Fitness = 0.00014168499300117656\n",
            "Generation 188: Best Fitness = 0.00014168499300117656\n",
            "Generation 189: Best Fitness = 0.00014168499300117656\n",
            "Generation 190: Best Fitness = 0.00014168499300117656\n",
            "Generation 191: Best Fitness = 0.00014168499300117656\n",
            "Generation 192: Best Fitness = 0.00014168499300117656\n",
            "Generation 193: Best Fitness = 0.00014168499300117656\n",
            "Generation 194: Best Fitness = 0.00014168499300117656\n",
            "Generation 195: Best Fitness = 0.00014168499300117656\n",
            "Generation 196: Best Fitness = 0.00014168499300117656\n",
            "Generation 197: Best Fitness = 0.00014168499300117656\n",
            "Generation 198: Best Fitness = 0.00014168499300117656\n",
            "Generation 199: Best Fitness = 0.00014168499300117656\n",
            "Generation 200: Best Fitness = 0.00014168499300117656\n",
            "Generation 201: Best Fitness = 0.00014168499300117656\n",
            "Stopping early at generation 202 due to convergence.\n",
            "Total time taken: 374.75908756256104 seconds\n",
            "Best Route: [16, 24, 21, 28, 20, 22, 18, 27, 13, 15, 29, 44, 30, 39, 34, 40, 31, 38, 41, 32, 23, 26, 19, 12, 3, 7, 5, 9, 14, 10, 11, 4, 2, 0, 6, 1, 8, 25, 17, 42, 36, 43, 35, 33, 37]\n",
            "Total Distance: 7059.6223490530965\n"
          ]
        }
      ],
      "source": [
        "best_route_1 = genetic_algorithm(locations_list_1)\n",
        "\n",
        "print(\"Best Route:\", best_route_1)\n",
        "print(\"Total Distance:\", calculate_total_distance(best_route_1, locations_list_1))"
      ]
    },
    {
      "cell_type": "code",
      "execution_count": 21,
      "metadata": {
        "colab": {
          "base_uri": "https://localhost:8080/",
          "height": 542
        },
        "id": "d2q2v1x4KLcY",
        "outputId": "8ad458b8-2df3-46bb-af6e-ede981f01f07"
      },
      "outputs": [
        {
          "data": {
            "application/vnd.plotly.v1+json": {
              "config": {
                "plotlyServerURL": "https://plot.ly"
              },
              "data": [
                {
                  "lat": [
                    -3.954403226588334,
                    -2.8609167263459345,
                    -3.215482213083625,
                    -0.21810798177671142,
                    -0.8535848457693831,
                    -0.9443420411800656,
                    -4.765532070534371,
                    -4.06625771962812,
                    -5.204605313367969,
                    -2.7278760424006605,
                    -0.5890806170144496,
                    3.8914186792490644,
                    3.855204250792176,
                    3.098315281021793,
                    2.4575827110961246,
                    1.9724453743571608,
                    1.4576905786322016,
                    1.2101248145667163,
                    0.27222891524377735,
                    -0.04782834419526749,
                    -0.9251075769609518,
                    -0.5517847073339055,
                    -1.2851825380259987,
                    -6.7968639755190425,
                    -6.15596182879079,
                    -6.93038230378835,
                    -7.148590877852885,
                    -8.29269812762099,
                    -10.012310200829864,
                    -9.855420304660887,
                    -8.894389015910503,
                    -8.546843766560196,
                    -7.473840446988154,
                    -7.895305463951782,
                    -8.019976296756461,
                    -9.66182318561962,
                    -9.209110001999044,
                    -5.028498090490002,
                    -4.355002012304489,
                    0.381440069616102,
                    1.533766805867235,
                    2.705638081905855,
                    4.809484980602941,
                    1.0422365405809333,
                    0.6656596422166005
                  ],
                  "lon": [
                    -1.984322603454718,
                    -3.2544034812139477,
                    -3.2365259185110515,
                    -0.5879375119901975,
                    -2.3199510155761867,
                    -2.4256805869672586,
                    -0.6936856896848422,
                    -4.95387916360203,
                    -5.103989012838639,
                    -3.786501514436931,
                    -4.02780746365417,
                    1.5711976756486803,
                    4.090508424145143,
                    4.036314425255448,
                    3.98687687719685,
                    3.197303837042656,
                    2.496269526387625,
                    2.1893190728993157,
                    3.8630309883460443,
                    2.2758443233585592,
                    -2.199818415788128,
                    -3.4979877157125765,
                    -5.013907681804419,
                    -8.800594899011251,
                    -9.254899936755185,
                    -10.09722381271272,
                    -9.436168853446098,
                    -9.57148693622848,
                    -9.194755357141009,
                    -7.114795047364867,
                    -6.667320557052279,
                    -7.584988701640769,
                    -5.989727258857778,
                    -5.147769983753383,
                    -6.0598857546213205,
                    -8.853851252544052,
                    -4.947174965616872,
                    -1.8093772525163951,
                    -0.3668496354632411,
                    2.4710525448690652,
                    0.18711376000152546,
                    0.8068453049946812,
                    1.0597897889435903,
                    1.511278789038895,
                    1.1327942118500296
                  ],
                  "marker": {
                    "color": "red",
                    "size": 10
                  },
                  "mode": "markers+text",
                  "text": [
                    "ID: 16",
                    "ID: 24",
                    "ID: 21",
                    "ID: 28",
                    "ID: 20",
                    "ID: 22",
                    "ID: 18",
                    "ID: 27",
                    "ID: 13",
                    "ID: 15",
                    "ID: 29",
                    "ID: 44",
                    "ID: 30",
                    "ID: 39",
                    "ID: 34",
                    "ID: 40",
                    "ID: 31",
                    "ID: 38",
                    "ID: 41",
                    "ID: 32",
                    "ID: 23",
                    "ID: 26",
                    "ID: 19",
                    "ID: 12",
                    "ID: 3",
                    "ID: 7",
                    "ID: 5",
                    "ID: 9",
                    "ID: 14",
                    "ID: 10",
                    "ID: 11",
                    "ID: 4",
                    "ID: 2",
                    "ID: 0",
                    "ID: 6",
                    "ID: 1",
                    "ID: 8",
                    "ID: 25",
                    "ID: 17",
                    "ID: 42",
                    "ID: 36",
                    "ID: 43",
                    "ID: 35",
                    "ID: 33",
                    "ID: 37"
                  ],
                  "textposition": "top right",
                  "type": "scattermapbox"
                },
                {
                  "lat": [
                    -3.954403226588334,
                    -2.8609167263459345,
                    -3.215482213083625,
                    -0.21810798177671142,
                    -0.8535848457693831,
                    -0.9443420411800656,
                    -4.765532070534371,
                    -4.06625771962812,
                    -5.204605313367969,
                    -2.7278760424006605,
                    -0.5890806170144496,
                    3.8914186792490644,
                    3.855204250792176,
                    3.098315281021793,
                    2.4575827110961246,
                    1.9724453743571608,
                    1.4576905786322016,
                    1.2101248145667163,
                    0.27222891524377735,
                    -0.04782834419526749,
                    -0.9251075769609518,
                    -0.5517847073339055,
                    -1.2851825380259987,
                    -6.7968639755190425,
                    -6.15596182879079,
                    -6.93038230378835,
                    -7.148590877852885,
                    -8.29269812762099,
                    -10.012310200829864,
                    -9.855420304660887,
                    -8.894389015910503,
                    -8.546843766560196,
                    -7.473840446988154,
                    -7.895305463951782,
                    -8.019976296756461,
                    -9.66182318561962,
                    -9.209110001999044,
                    -5.028498090490002,
                    -4.355002012304489,
                    0.381440069616102,
                    1.533766805867235,
                    2.705638081905855,
                    4.809484980602941,
                    1.0422365405809333,
                    0.6656596422166005
                  ],
                  "line": {
                    "color": "blue",
                    "width": 2
                  },
                  "lon": [
                    -1.984322603454718,
                    -3.2544034812139477,
                    -3.2365259185110515,
                    -0.5879375119901975,
                    -2.3199510155761867,
                    -2.4256805869672586,
                    -0.6936856896848422,
                    -4.95387916360203,
                    -5.103989012838639,
                    -3.786501514436931,
                    -4.02780746365417,
                    1.5711976756486803,
                    4.090508424145143,
                    4.036314425255448,
                    3.98687687719685,
                    3.197303837042656,
                    2.496269526387625,
                    2.1893190728993157,
                    3.8630309883460443,
                    2.2758443233585592,
                    -2.199818415788128,
                    -3.4979877157125765,
                    -5.013907681804419,
                    -8.800594899011251,
                    -9.254899936755185,
                    -10.09722381271272,
                    -9.436168853446098,
                    -9.57148693622848,
                    -9.194755357141009,
                    -7.114795047364867,
                    -6.667320557052279,
                    -7.584988701640769,
                    -5.989727258857778,
                    -5.147769983753383,
                    -6.0598857546213205,
                    -8.853851252544052,
                    -4.947174965616872,
                    -1.8093772525163951,
                    -0.3668496354632411,
                    2.4710525448690652,
                    0.18711376000152546,
                    0.8068453049946812,
                    1.0597897889435903,
                    1.511278789038895,
                    1.1327942118500296
                  ],
                  "mode": "lines",
                  "text": [
                    "Start",
                    "",
                    "",
                    "",
                    "",
                    "",
                    "",
                    "",
                    "",
                    "",
                    "",
                    "",
                    "",
                    "",
                    "",
                    "",
                    "",
                    "",
                    "",
                    "",
                    "",
                    "",
                    "",
                    "",
                    "",
                    "",
                    "",
                    "",
                    "",
                    "",
                    "",
                    "",
                    "",
                    "",
                    "",
                    "",
                    "",
                    "",
                    "",
                    "",
                    "",
                    "",
                    "",
                    "",
                    "End"
                  ],
                  "type": "scattermapbox"
                }
              ],
              "layout": {
                "mapbox": {
                  "center": {
                    "lat": -2.8251971364022257,
                    "lon": -2.646838409555171
                  },
                  "style": "stamen-terrain",
                  "zoom": 10
                },
                "margin": {
                  "b": 0,
                  "l": 0,
                  "r": 0,
                  "t": 0
                },
                "template": {
                  "data": {
                    "bar": [
                      {
                        "error_x": {
                          "color": "#2a3f5f"
                        },
                        "error_y": {
                          "color": "#2a3f5f"
                        },
                        "marker": {
                          "line": {
                            "color": "#E5ECF6",
                            "width": 0.5
                          },
                          "pattern": {
                            "fillmode": "overlay",
                            "size": 10,
                            "solidity": 0.2
                          }
                        },
                        "type": "bar"
                      }
                    ],
                    "barpolar": [
                      {
                        "marker": {
                          "line": {
                            "color": "#E5ECF6",
                            "width": 0.5
                          },
                          "pattern": {
                            "fillmode": "overlay",
                            "size": 10,
                            "solidity": 0.2
                          }
                        },
                        "type": "barpolar"
                      }
                    ],
                    "carpet": [
                      {
                        "aaxis": {
                          "endlinecolor": "#2a3f5f",
                          "gridcolor": "white",
                          "linecolor": "white",
                          "minorgridcolor": "white",
                          "startlinecolor": "#2a3f5f"
                        },
                        "baxis": {
                          "endlinecolor": "#2a3f5f",
                          "gridcolor": "white",
                          "linecolor": "white",
                          "minorgridcolor": "white",
                          "startlinecolor": "#2a3f5f"
                        },
                        "type": "carpet"
                      }
                    ],
                    "choropleth": [
                      {
                        "colorbar": {
                          "outlinewidth": 0,
                          "ticks": ""
                        },
                        "type": "choropleth"
                      }
                    ],
                    "contour": [
                      {
                        "colorbar": {
                          "outlinewidth": 0,
                          "ticks": ""
                        },
                        "colorscale": [
                          [
                            0,
                            "#0d0887"
                          ],
                          [
                            0.1111111111111111,
                            "#46039f"
                          ],
                          [
                            0.2222222222222222,
                            "#7201a8"
                          ],
                          [
                            0.3333333333333333,
                            "#9c179e"
                          ],
                          [
                            0.4444444444444444,
                            "#bd3786"
                          ],
                          [
                            0.5555555555555556,
                            "#d8576b"
                          ],
                          [
                            0.6666666666666666,
                            "#ed7953"
                          ],
                          [
                            0.7777777777777778,
                            "#fb9f3a"
                          ],
                          [
                            0.8888888888888888,
                            "#fdca26"
                          ],
                          [
                            1,
                            "#f0f921"
                          ]
                        ],
                        "type": "contour"
                      }
                    ],
                    "contourcarpet": [
                      {
                        "colorbar": {
                          "outlinewidth": 0,
                          "ticks": ""
                        },
                        "type": "contourcarpet"
                      }
                    ],
                    "heatmap": [
                      {
                        "colorbar": {
                          "outlinewidth": 0,
                          "ticks": ""
                        },
                        "colorscale": [
                          [
                            0,
                            "#0d0887"
                          ],
                          [
                            0.1111111111111111,
                            "#46039f"
                          ],
                          [
                            0.2222222222222222,
                            "#7201a8"
                          ],
                          [
                            0.3333333333333333,
                            "#9c179e"
                          ],
                          [
                            0.4444444444444444,
                            "#bd3786"
                          ],
                          [
                            0.5555555555555556,
                            "#d8576b"
                          ],
                          [
                            0.6666666666666666,
                            "#ed7953"
                          ],
                          [
                            0.7777777777777778,
                            "#fb9f3a"
                          ],
                          [
                            0.8888888888888888,
                            "#fdca26"
                          ],
                          [
                            1,
                            "#f0f921"
                          ]
                        ],
                        "type": "heatmap"
                      }
                    ],
                    "heatmapgl": [
                      {
                        "colorbar": {
                          "outlinewidth": 0,
                          "ticks": ""
                        },
                        "colorscale": [
                          [
                            0,
                            "#0d0887"
                          ],
                          [
                            0.1111111111111111,
                            "#46039f"
                          ],
                          [
                            0.2222222222222222,
                            "#7201a8"
                          ],
                          [
                            0.3333333333333333,
                            "#9c179e"
                          ],
                          [
                            0.4444444444444444,
                            "#bd3786"
                          ],
                          [
                            0.5555555555555556,
                            "#d8576b"
                          ],
                          [
                            0.6666666666666666,
                            "#ed7953"
                          ],
                          [
                            0.7777777777777778,
                            "#fb9f3a"
                          ],
                          [
                            0.8888888888888888,
                            "#fdca26"
                          ],
                          [
                            1,
                            "#f0f921"
                          ]
                        ],
                        "type": "heatmapgl"
                      }
                    ],
                    "histogram": [
                      {
                        "marker": {
                          "pattern": {
                            "fillmode": "overlay",
                            "size": 10,
                            "solidity": 0.2
                          }
                        },
                        "type": "histogram"
                      }
                    ],
                    "histogram2d": [
                      {
                        "colorbar": {
                          "outlinewidth": 0,
                          "ticks": ""
                        },
                        "colorscale": [
                          [
                            0,
                            "#0d0887"
                          ],
                          [
                            0.1111111111111111,
                            "#46039f"
                          ],
                          [
                            0.2222222222222222,
                            "#7201a8"
                          ],
                          [
                            0.3333333333333333,
                            "#9c179e"
                          ],
                          [
                            0.4444444444444444,
                            "#bd3786"
                          ],
                          [
                            0.5555555555555556,
                            "#d8576b"
                          ],
                          [
                            0.6666666666666666,
                            "#ed7953"
                          ],
                          [
                            0.7777777777777778,
                            "#fb9f3a"
                          ],
                          [
                            0.8888888888888888,
                            "#fdca26"
                          ],
                          [
                            1,
                            "#f0f921"
                          ]
                        ],
                        "type": "histogram2d"
                      }
                    ],
                    "histogram2dcontour": [
                      {
                        "colorbar": {
                          "outlinewidth": 0,
                          "ticks": ""
                        },
                        "colorscale": [
                          [
                            0,
                            "#0d0887"
                          ],
                          [
                            0.1111111111111111,
                            "#46039f"
                          ],
                          [
                            0.2222222222222222,
                            "#7201a8"
                          ],
                          [
                            0.3333333333333333,
                            "#9c179e"
                          ],
                          [
                            0.4444444444444444,
                            "#bd3786"
                          ],
                          [
                            0.5555555555555556,
                            "#d8576b"
                          ],
                          [
                            0.6666666666666666,
                            "#ed7953"
                          ],
                          [
                            0.7777777777777778,
                            "#fb9f3a"
                          ],
                          [
                            0.8888888888888888,
                            "#fdca26"
                          ],
                          [
                            1,
                            "#f0f921"
                          ]
                        ],
                        "type": "histogram2dcontour"
                      }
                    ],
                    "mesh3d": [
                      {
                        "colorbar": {
                          "outlinewidth": 0,
                          "ticks": ""
                        },
                        "type": "mesh3d"
                      }
                    ],
                    "parcoords": [
                      {
                        "line": {
                          "colorbar": {
                            "outlinewidth": 0,
                            "ticks": ""
                          }
                        },
                        "type": "parcoords"
                      }
                    ],
                    "pie": [
                      {
                        "automargin": true,
                        "type": "pie"
                      }
                    ],
                    "scatter": [
                      {
                        "fillpattern": {
                          "fillmode": "overlay",
                          "size": 10,
                          "solidity": 0.2
                        },
                        "type": "scatter"
                      }
                    ],
                    "scatter3d": [
                      {
                        "line": {
                          "colorbar": {
                            "outlinewidth": 0,
                            "ticks": ""
                          }
                        },
                        "marker": {
                          "colorbar": {
                            "outlinewidth": 0,
                            "ticks": ""
                          }
                        },
                        "type": "scatter3d"
                      }
                    ],
                    "scattercarpet": [
                      {
                        "marker": {
                          "colorbar": {
                            "outlinewidth": 0,
                            "ticks": ""
                          }
                        },
                        "type": "scattercarpet"
                      }
                    ],
                    "scattergeo": [
                      {
                        "marker": {
                          "colorbar": {
                            "outlinewidth": 0,
                            "ticks": ""
                          }
                        },
                        "type": "scattergeo"
                      }
                    ],
                    "scattergl": [
                      {
                        "marker": {
                          "colorbar": {
                            "outlinewidth": 0,
                            "ticks": ""
                          }
                        },
                        "type": "scattergl"
                      }
                    ],
                    "scattermapbox": [
                      {
                        "marker": {
                          "colorbar": {
                            "outlinewidth": 0,
                            "ticks": ""
                          }
                        },
                        "type": "scattermapbox"
                      }
                    ],
                    "scatterpolar": [
                      {
                        "marker": {
                          "colorbar": {
                            "outlinewidth": 0,
                            "ticks": ""
                          }
                        },
                        "type": "scatterpolar"
                      }
                    ],
                    "scatterpolargl": [
                      {
                        "marker": {
                          "colorbar": {
                            "outlinewidth": 0,
                            "ticks": ""
                          }
                        },
                        "type": "scatterpolargl"
                      }
                    ],
                    "scatterternary": [
                      {
                        "marker": {
                          "colorbar": {
                            "outlinewidth": 0,
                            "ticks": ""
                          }
                        },
                        "type": "scatterternary"
                      }
                    ],
                    "surface": [
                      {
                        "colorbar": {
                          "outlinewidth": 0,
                          "ticks": ""
                        },
                        "colorscale": [
                          [
                            0,
                            "#0d0887"
                          ],
                          [
                            0.1111111111111111,
                            "#46039f"
                          ],
                          [
                            0.2222222222222222,
                            "#7201a8"
                          ],
                          [
                            0.3333333333333333,
                            "#9c179e"
                          ],
                          [
                            0.4444444444444444,
                            "#bd3786"
                          ],
                          [
                            0.5555555555555556,
                            "#d8576b"
                          ],
                          [
                            0.6666666666666666,
                            "#ed7953"
                          ],
                          [
                            0.7777777777777778,
                            "#fb9f3a"
                          ],
                          [
                            0.8888888888888888,
                            "#fdca26"
                          ],
                          [
                            1,
                            "#f0f921"
                          ]
                        ],
                        "type": "surface"
                      }
                    ],
                    "table": [
                      {
                        "cells": {
                          "fill": {
                            "color": "#EBF0F8"
                          },
                          "line": {
                            "color": "white"
                          }
                        },
                        "header": {
                          "fill": {
                            "color": "#C8D4E3"
                          },
                          "line": {
                            "color": "white"
                          }
                        },
                        "type": "table"
                      }
                    ]
                  },
                  "layout": {
                    "annotationdefaults": {
                      "arrowcolor": "#2a3f5f",
                      "arrowhead": 0,
                      "arrowwidth": 1
                    },
                    "autotypenumbers": "strict",
                    "coloraxis": {
                      "colorbar": {
                        "outlinewidth": 0,
                        "ticks": ""
                      }
                    },
                    "colorscale": {
                      "diverging": [
                        [
                          0,
                          "#8e0152"
                        ],
                        [
                          0.1,
                          "#c51b7d"
                        ],
                        [
                          0.2,
                          "#de77ae"
                        ],
                        [
                          0.3,
                          "#f1b6da"
                        ],
                        [
                          0.4,
                          "#fde0ef"
                        ],
                        [
                          0.5,
                          "#f7f7f7"
                        ],
                        [
                          0.6,
                          "#e6f5d0"
                        ],
                        [
                          0.7,
                          "#b8e186"
                        ],
                        [
                          0.8,
                          "#7fbc41"
                        ],
                        [
                          0.9,
                          "#4d9221"
                        ],
                        [
                          1,
                          "#276419"
                        ]
                      ],
                      "sequential": [
                        [
                          0,
                          "#0d0887"
                        ],
                        [
                          0.1111111111111111,
                          "#46039f"
                        ],
                        [
                          0.2222222222222222,
                          "#7201a8"
                        ],
                        [
                          0.3333333333333333,
                          "#9c179e"
                        ],
                        [
                          0.4444444444444444,
                          "#bd3786"
                        ],
                        [
                          0.5555555555555556,
                          "#d8576b"
                        ],
                        [
                          0.6666666666666666,
                          "#ed7953"
                        ],
                        [
                          0.7777777777777778,
                          "#fb9f3a"
                        ],
                        [
                          0.8888888888888888,
                          "#fdca26"
                        ],
                        [
                          1,
                          "#f0f921"
                        ]
                      ],
                      "sequentialminus": [
                        [
                          0,
                          "#0d0887"
                        ],
                        [
                          0.1111111111111111,
                          "#46039f"
                        ],
                        [
                          0.2222222222222222,
                          "#7201a8"
                        ],
                        [
                          0.3333333333333333,
                          "#9c179e"
                        ],
                        [
                          0.4444444444444444,
                          "#bd3786"
                        ],
                        [
                          0.5555555555555556,
                          "#d8576b"
                        ],
                        [
                          0.6666666666666666,
                          "#ed7953"
                        ],
                        [
                          0.7777777777777778,
                          "#fb9f3a"
                        ],
                        [
                          0.8888888888888888,
                          "#fdca26"
                        ],
                        [
                          1,
                          "#f0f921"
                        ]
                      ]
                    },
                    "colorway": [
                      "#636efa",
                      "#EF553B",
                      "#00cc96",
                      "#ab63fa",
                      "#FFA15A",
                      "#19d3f3",
                      "#FF6692",
                      "#B6E880",
                      "#FF97FF",
                      "#FECB52"
                    ],
                    "font": {
                      "color": "#2a3f5f"
                    },
                    "geo": {
                      "bgcolor": "white",
                      "lakecolor": "white",
                      "landcolor": "#E5ECF6",
                      "showlakes": true,
                      "showland": true,
                      "subunitcolor": "white"
                    },
                    "hoverlabel": {
                      "align": "left"
                    },
                    "hovermode": "closest",
                    "mapbox": {
                      "style": "light"
                    },
                    "paper_bgcolor": "white",
                    "plot_bgcolor": "#E5ECF6",
                    "polar": {
                      "angularaxis": {
                        "gridcolor": "white",
                        "linecolor": "white",
                        "ticks": ""
                      },
                      "bgcolor": "#E5ECF6",
                      "radialaxis": {
                        "gridcolor": "white",
                        "linecolor": "white",
                        "ticks": ""
                      }
                    },
                    "scene": {
                      "xaxis": {
                        "backgroundcolor": "#E5ECF6",
                        "gridcolor": "white",
                        "gridwidth": 2,
                        "linecolor": "white",
                        "showbackground": true,
                        "ticks": "",
                        "zerolinecolor": "white"
                      },
                      "yaxis": {
                        "backgroundcolor": "#E5ECF6",
                        "gridcolor": "white",
                        "gridwidth": 2,
                        "linecolor": "white",
                        "showbackground": true,
                        "ticks": "",
                        "zerolinecolor": "white"
                      },
                      "zaxis": {
                        "backgroundcolor": "#E5ECF6",
                        "gridcolor": "white",
                        "gridwidth": 2,
                        "linecolor": "white",
                        "showbackground": true,
                        "ticks": "",
                        "zerolinecolor": "white"
                      }
                    },
                    "shapedefaults": {
                      "line": {
                        "color": "#2a3f5f"
                      }
                    },
                    "ternary": {
                      "aaxis": {
                        "gridcolor": "white",
                        "linecolor": "white",
                        "ticks": ""
                      },
                      "baxis": {
                        "gridcolor": "white",
                        "linecolor": "white",
                        "ticks": ""
                      },
                      "bgcolor": "#E5ECF6",
                      "caxis": {
                        "gridcolor": "white",
                        "linecolor": "white",
                        "ticks": ""
                      }
                    },
                    "title": {
                      "x": 0.05
                    },
                    "xaxis": {
                      "automargin": true,
                      "gridcolor": "white",
                      "linecolor": "white",
                      "ticks": "",
                      "title": {
                        "standoff": 15
                      },
                      "zerolinecolor": "white",
                      "zerolinewidth": 2
                    },
                    "yaxis": {
                      "automargin": true,
                      "gridcolor": "white",
                      "linecolor": "white",
                      "ticks": "",
                      "title": {
                        "standoff": 15
                      },
                      "zerolinecolor": "white",
                      "zerolinewidth": 2
                    }
                  }
                }
              }
            }
          },
          "metadata": {},
          "output_type": "display_data"
        }
      ],
      "source": [
        "# visualizing the best route\n",
        "plot_route(locations_1, best_route_1)"
      ]
    },
    {
      "cell_type": "code",
      "execution_count": 22,
      "metadata": {
        "colab": {
          "base_uri": "https://localhost:8080/"
        },
        "id": "AZgxCo9NK3tJ",
        "outputId": "2b63ca4e-8cd6-4c82-e72f-12f612d58b3e"
      },
      "outputs": [
        {
          "name": "stdout",
          "output_type": "stream",
          "text": [
            "Generation 1: Best Fitness = 0.00017877652650087213\n",
            "Generation 2: Best Fitness = 0.00017877652650087213\n",
            "Generation 3: Best Fitness = 0.00017877652650087213\n",
            "Generation 4: Best Fitness = 0.00017877652650087213\n",
            "Generation 5: Best Fitness = 0.00017877652650087213\n",
            "Generation 6: Best Fitness = 0.00018592954689081442\n",
            "Generation 7: Best Fitness = 0.00019297904880454135\n",
            "Generation 8: Best Fitness = 0.00019686872340341833\n",
            "Generation 9: Best Fitness = 0.00019974253613172296\n",
            "Generation 10: Best Fitness = 0.00019974253613172296\n",
            "Generation 11: Best Fitness = 0.00020759855053712167\n",
            "Generation 12: Best Fitness = 0.00020968492302846726\n",
            "Generation 13: Best Fitness = 0.00021597191023030286\n",
            "Generation 14: Best Fitness = 0.0002203317762843402\n",
            "Generation 15: Best Fitness = 0.0002203317762843402\n",
            "Generation 16: Best Fitness = 0.00022058933295287275\n",
            "Generation 17: Best Fitness = 0.00022058933295287275\n",
            "Generation 18: Best Fitness = 0.00023247056824735165\n",
            "Generation 19: Best Fitness = 0.00023247056824735165\n",
            "Generation 20: Best Fitness = 0.00023247056824735165\n",
            "Generation 21: Best Fitness = 0.00023247056824735165\n",
            "Generation 22: Best Fitness = 0.00023247056824735165\n",
            "Generation 23: Best Fitness = 0.00024040201720197438\n",
            "Generation 24: Best Fitness = 0.00024376461505509195\n",
            "Generation 25: Best Fitness = 0.00024376461505509195\n",
            "Generation 26: Best Fitness = 0.00024376461505509195\n",
            "Generation 27: Best Fitness = 0.00024376461505509195\n",
            "Generation 28: Best Fitness = 0.00024376461505509195\n",
            "Generation 29: Best Fitness = 0.00024376461505509195\n",
            "Generation 30: Best Fitness = 0.00024376461505509195\n",
            "Generation 31: Best Fitness = 0.0002540134346760584\n",
            "Generation 32: Best Fitness = 0.0002540134346760584\n",
            "Generation 33: Best Fitness = 0.0002540134346760584\n",
            "Generation 34: Best Fitness = 0.0002540134346760584\n",
            "Generation 35: Best Fitness = 0.0002576121137033472\n",
            "Generation 36: Best Fitness = 0.0002625633090693529\n",
            "Generation 37: Best Fitness = 0.0002625633090693529\n",
            "Generation 38: Best Fitness = 0.0002632741299662206\n",
            "Generation 39: Best Fitness = 0.0002632741299662206\n",
            "Generation 40: Best Fitness = 0.0002647924734285684\n",
            "Generation 41: Best Fitness = 0.0002656211951344022\n",
            "Generation 42: Best Fitness = 0.00027606393470926946\n",
            "Generation 43: Best Fitness = 0.00027606393470926946\n",
            "Generation 44: Best Fitness = 0.00027606393470926946\n",
            "Generation 45: Best Fitness = 0.0002803660696638677\n",
            "Generation 46: Best Fitness = 0.0002803660696638677\n",
            "Generation 47: Best Fitness = 0.0002803660696638677\n",
            "Generation 48: Best Fitness = 0.000287392501893782\n",
            "Generation 49: Best Fitness = 0.0002912050970811093\n",
            "Generation 50: Best Fitness = 0.000291663308512208\n",
            "Generation 51: Best Fitness = 0.0002968065145942181\n",
            "Generation 52: Best Fitness = 0.0003017350959782357\n",
            "Generation 53: Best Fitness = 0.00030275774385470604\n",
            "Generation 54: Best Fitness = 0.00030581509624781964\n",
            "Generation 55: Best Fitness = 0.00031949448616951315\n",
            "Generation 56: Best Fitness = 0.00032588774282953006\n",
            "Generation 57: Best Fitness = 0.0003289017179163222\n",
            "Generation 58: Best Fitness = 0.00033884436089817667\n",
            "Generation 59: Best Fitness = 0.0003389086444269142\n",
            "Generation 60: Best Fitness = 0.0003389086444269142\n",
            "Generation 61: Best Fitness = 0.0003389086444269142\n",
            "Generation 62: Best Fitness = 0.00034289576689984513\n",
            "Generation 63: Best Fitness = 0.00034290916723628246\n",
            "Generation 64: Best Fitness = 0.00034804665202683494\n",
            "Generation 65: Best Fitness = 0.00034804665202683494\n",
            "Generation 66: Best Fitness = 0.0003502665209012161\n",
            "Generation 67: Best Fitness = 0.00035045932704803705\n",
            "Generation 68: Best Fitness = 0.00035138374381592387\n",
            "Generation 69: Best Fitness = 0.0003527101785729531\n",
            "Generation 70: Best Fitness = 0.0003536303022796502\n",
            "Generation 71: Best Fitness = 0.0003538430698354673\n",
            "Generation 72: Best Fitness = 0.0003561212875060768\n",
            "Generation 73: Best Fitness = 0.0003561212875060768\n",
            "Generation 74: Best Fitness = 0.0003571194496557572\n",
            "Generation 75: Best Fitness = 0.0003571194496557572\n",
            "Generation 76: Best Fitness = 0.0003571194496557572\n",
            "Generation 77: Best Fitness = 0.0003571194496557572\n",
            "Generation 78: Best Fitness = 0.0003571194496557572\n",
            "Generation 79: Best Fitness = 0.0003571194496557572\n",
            "Generation 80: Best Fitness = 0.0003571194496557572\n",
            "Generation 81: Best Fitness = 0.0003571194496557572\n",
            "Generation 82: Best Fitness = 0.0003571194496557572\n",
            "Generation 83: Best Fitness = 0.0003571194496557572\n",
            "Generation 84: Best Fitness = 0.0003571194496557572\n",
            "Generation 85: Best Fitness = 0.0003647329147701074\n",
            "Generation 86: Best Fitness = 0.0003647329147701074\n",
            "Generation 87: Best Fitness = 0.0003647329147701074\n",
            "Generation 88: Best Fitness = 0.0003647329147701074\n",
            "Generation 89: Best Fitness = 0.0003647329147701074\n",
            "Generation 90: Best Fitness = 0.0003718982792135259\n",
            "Generation 91: Best Fitness = 0.0003756882892938972\n",
            "Generation 92: Best Fitness = 0.0003756882892938972\n",
            "Generation 93: Best Fitness = 0.0003756882892938972\n",
            "Generation 94: Best Fitness = 0.0003756882892938972\n",
            "Generation 95: Best Fitness = 0.0003756882892938972\n",
            "Generation 96: Best Fitness = 0.0003756882892938972\n",
            "Generation 97: Best Fitness = 0.0003756882892938972\n",
            "Generation 98: Best Fitness = 0.0003756882892938972\n",
            "Generation 99: Best Fitness = 0.0003756882892938972\n",
            "Generation 100: Best Fitness = 0.00037723317286672716\n",
            "Generation 101: Best Fitness = 0.00037723317286672716\n",
            "Generation 102: Best Fitness = 0.00037723317286672716\n",
            "Generation 103: Best Fitness = 0.00037723317286672716\n",
            "Generation 104: Best Fitness = 0.00037723317286672716\n",
            "Generation 105: Best Fitness = 0.00037723317286672716\n",
            "Generation 106: Best Fitness = 0.00037723317286672716\n",
            "Generation 107: Best Fitness = 0.00037723317286672716\n",
            "Generation 108: Best Fitness = 0.00037723317286672716\n",
            "Generation 109: Best Fitness = 0.00037723317286672716\n",
            "Generation 110: Best Fitness = 0.00037723317286672716\n",
            "Generation 111: Best Fitness = 0.00037723317286672716\n",
            "Generation 112: Best Fitness = 0.00037723317286672716\n",
            "Generation 113: Best Fitness = 0.00037723317286672716\n",
            "Generation 114: Best Fitness = 0.00037723317286672716\n",
            "Generation 115: Best Fitness = 0.00037723317286672716\n",
            "Generation 116: Best Fitness = 0.00037723317286672716\n",
            "Generation 117: Best Fitness = 0.00037723317286672716\n",
            "Generation 118: Best Fitness = 0.00037723317286672716\n",
            "Generation 119: Best Fitness = 0.00037723317286672716\n",
            "Generation 120: Best Fitness = 0.00037723317286672716\n",
            "Generation 121: Best Fitness = 0.00037723317286672716\n",
            "Generation 122: Best Fitness = 0.00037723317286672716\n",
            "Generation 123: Best Fitness = 0.00037723317286672716\n",
            "Generation 124: Best Fitness = 0.00037723317286672716\n",
            "Generation 125: Best Fitness = 0.00037723317286672716\n",
            "Generation 126: Best Fitness = 0.00037723317286672716\n",
            "Generation 127: Best Fitness = 0.00037723317286672716\n",
            "Generation 128: Best Fitness = 0.0003786446284947841\n",
            "Generation 129: Best Fitness = 0.0003786446284947841\n",
            "Generation 130: Best Fitness = 0.0003786446284947841\n",
            "Generation 131: Best Fitness = 0.0003786446284947841\n",
            "Generation 132: Best Fitness = 0.0003786446284947841\n",
            "Generation 133: Best Fitness = 0.0003786446284947841\n",
            "Generation 134: Best Fitness = 0.0003786446284947841\n",
            "Generation 135: Best Fitness = 0.0003786446284947841\n",
            "Generation 136: Best Fitness = 0.0003786446284947841\n",
            "Generation 137: Best Fitness = 0.0003786446284947841\n",
            "Generation 138: Best Fitness = 0.0003786446284947841\n",
            "Generation 139: Best Fitness = 0.0003786446284947841\n",
            "Generation 140: Best Fitness = 0.0003786446284947841\n",
            "Generation 141: Best Fitness = 0.0003786446284947841\n",
            "Generation 142: Best Fitness = 0.0003786446284947841\n",
            "Generation 143: Best Fitness = 0.0003786446284947841\n",
            "Generation 144: Best Fitness = 0.0003786446284947841\n",
            "Generation 145: Best Fitness = 0.0003786446284947841\n",
            "Generation 146: Best Fitness = 0.0003786446284947841\n",
            "Generation 147: Best Fitness = 0.0003786446284947841\n",
            "Generation 148: Best Fitness = 0.0003786446284947841\n",
            "Generation 149: Best Fitness = 0.0003787567646714835\n",
            "Generation 150: Best Fitness = 0.0003787567646714835\n",
            "Generation 151: Best Fitness = 0.0003787567646714835\n",
            "Generation 152: Best Fitness = 0.0003787567646714835\n",
            "Generation 153: Best Fitness = 0.0003787567646714835\n",
            "Generation 154: Best Fitness = 0.0003787567646714835\n",
            "Generation 155: Best Fitness = 0.0003787567646714835\n",
            "Generation 156: Best Fitness = 0.0003787567646714835\n",
            "Generation 157: Best Fitness = 0.0003787567646714835\n",
            "Generation 158: Best Fitness = 0.0003787567646714835\n",
            "Generation 159: Best Fitness = 0.00038141775267363403\n",
            "Generation 160: Best Fitness = 0.00038141775267363403\n",
            "Generation 161: Best Fitness = 0.00038141775267363403\n",
            "Generation 162: Best Fitness = 0.00038141775267363403\n",
            "Generation 163: Best Fitness = 0.00038141775267363403\n",
            "Generation 164: Best Fitness = 0.00038141775267363403\n",
            "Generation 165: Best Fitness = 0.00038141775267363403\n",
            "Generation 166: Best Fitness = 0.00038141775267363403\n",
            "Generation 167: Best Fitness = 0.00038141775267363403\n",
            "Generation 168: Best Fitness = 0.00038141775267363403\n",
            "Generation 169: Best Fitness = 0.00038141775267363403\n",
            "Generation 170: Best Fitness = 0.00038141775267363403\n",
            "Generation 171: Best Fitness = 0.00038141775267363403\n",
            "Generation 172: Best Fitness = 0.00038141775267363403\n",
            "Generation 173: Best Fitness = 0.00038141775267363403\n",
            "Generation 174: Best Fitness = 0.00038141775267363403\n",
            "Generation 175: Best Fitness = 0.00038141775267363403\n",
            "Generation 176: Best Fitness = 0.00038141775267363403\n",
            "Generation 177: Best Fitness = 0.00038141775267363403\n",
            "Generation 178: Best Fitness = 0.00038141775267363403\n",
            "Generation 179: Best Fitness = 0.00038141775267363403\n",
            "Generation 180: Best Fitness = 0.00038141775267363403\n",
            "Generation 181: Best Fitness = 0.00038141775267363403\n",
            "Generation 182: Best Fitness = 0.00038141775267363403\n",
            "Generation 183: Best Fitness = 0.00038141775267363403\n",
            "Generation 184: Best Fitness = 0.00038141775267363403\n",
            "Generation 185: Best Fitness = 0.00038141775267363403\n",
            "Generation 186: Best Fitness = 0.00038141775267363403\n",
            "Generation 187: Best Fitness = 0.00038141775267363403\n",
            "Generation 188: Best Fitness = 0.00038141775267363403\n",
            "Generation 189: Best Fitness = 0.00038141775267363403\n",
            "Generation 190: Best Fitness = 0.00038141775267363403\n",
            "Generation 191: Best Fitness = 0.00038141775267363403\n",
            "Generation 192: Best Fitness = 0.00038141775267363403\n",
            "Generation 193: Best Fitness = 0.00038141775267363403\n",
            "Generation 194: Best Fitness = 0.00038141775267363403\n",
            "Generation 195: Best Fitness = 0.00038141775267363403\n",
            "Generation 196: Best Fitness = 0.00038141775267363403\n",
            "Generation 197: Best Fitness = 0.00038141775267363403\n",
            "Generation 198: Best Fitness = 0.00038141775267363403\n",
            "Generation 199: Best Fitness = 0.00038141775267363403\n",
            "Generation 200: Best Fitness = 0.00038141775267363403\n",
            "Generation 201: Best Fitness = 0.00038141775267363403\n",
            "Generation 202: Best Fitness = 0.00038141775267363403\n",
            "Generation 203: Best Fitness = 0.00038141775267363403\n",
            "Generation 204: Best Fitness = 0.00038141775267363403\n",
            "Generation 205: Best Fitness = 0.00038848253534292136\n",
            "Generation 206: Best Fitness = 0.00038848253534292136\n",
            "Generation 207: Best Fitness = 0.00038848253534292136\n",
            "Generation 208: Best Fitness = 0.00038848253534292136\n",
            "Generation 209: Best Fitness = 0.00038848253534292136\n",
            "Generation 210: Best Fitness = 0.00038848253534292136\n",
            "Generation 211: Best Fitness = 0.00038848253534292136\n",
            "Generation 212: Best Fitness = 0.00038848253534292136\n",
            "Generation 213: Best Fitness = 0.00038848253534292136\n",
            "Generation 214: Best Fitness = 0.00038848253534292136\n",
            "Generation 215: Best Fitness = 0.00038848253534292136\n",
            "Generation 216: Best Fitness = 0.00038848253534292136\n",
            "Generation 217: Best Fitness = 0.00038848253534292136\n",
            "Generation 218: Best Fitness = 0.00039091022751764796\n",
            "Generation 219: Best Fitness = 0.00039091022751764796\n",
            "Generation 220: Best Fitness = 0.00039091022751764796\n",
            "Generation 221: Best Fitness = 0.00039091022751764796\n",
            "Generation 222: Best Fitness = 0.00039091022751764796\n",
            "Generation 223: Best Fitness = 0.00039091022751764796\n",
            "Generation 224: Best Fitness = 0.00039091022751764796\n",
            "Generation 225: Best Fitness = 0.00039091022751764796\n",
            "Generation 226: Best Fitness = 0.00039091022751764796\n",
            "Generation 227: Best Fitness = 0.00039091022751764796\n",
            "Generation 228: Best Fitness = 0.00039091022751764796\n",
            "Generation 229: Best Fitness = 0.00039091022751764796\n",
            "Generation 230: Best Fitness = 0.00039091022751764796\n",
            "Generation 231: Best Fitness = 0.00039091022751764796\n",
            "Generation 232: Best Fitness = 0.00039091022751764796\n",
            "Generation 233: Best Fitness = 0.00039091022751764796\n",
            "Generation 234: Best Fitness = 0.0003925676986427303\n",
            "Generation 235: Best Fitness = 0.0003925676986427303\n",
            "Generation 236: Best Fitness = 0.0003925676986427303\n",
            "Generation 237: Best Fitness = 0.0003925676986427303\n",
            "Generation 238: Best Fitness = 0.0003925676986427303\n",
            "Generation 239: Best Fitness = 0.0003925676986427303\n",
            "Generation 240: Best Fitness = 0.0003925676986427303\n",
            "Generation 241: Best Fitness = 0.0003925676986427303\n",
            "Generation 242: Best Fitness = 0.0003925676986427303\n",
            "Generation 243: Best Fitness = 0.0003925676986427303\n",
            "Generation 244: Best Fitness = 0.0003925676986427303\n",
            "Generation 245: Best Fitness = 0.0003925676986427303\n",
            "Generation 246: Best Fitness = 0.0003925676986427303\n",
            "Generation 247: Best Fitness = 0.0003925676986427303\n",
            "Generation 248: Best Fitness = 0.0003925676986427303\n",
            "Generation 249: Best Fitness = 0.0003925676986427303\n",
            "Generation 250: Best Fitness = 0.0003925676986427303\n",
            "Generation 251: Best Fitness = 0.0003925676986427303\n",
            "Generation 252: Best Fitness = 0.0003925676986427303\n",
            "Generation 253: Best Fitness = 0.0003925676986427303\n",
            "Generation 254: Best Fitness = 0.0003925676986427303\n",
            "Generation 255: Best Fitness = 0.0003925676986427303\n",
            "Generation 256: Best Fitness = 0.0003925676986427303\n",
            "Generation 257: Best Fitness = 0.00039386152036938047\n",
            "Generation 258: Best Fitness = 0.00039386152036938047\n",
            "Generation 259: Best Fitness = 0.00039386152036938047\n",
            "Generation 260: Best Fitness = 0.00039386152036938047\n",
            "Generation 261: Best Fitness = 0.00039386152036938047\n",
            "Generation 262: Best Fitness = 0.00039386152036938047\n",
            "Generation 263: Best Fitness = 0.00039386152036938047\n",
            "Generation 264: Best Fitness = 0.00039386152036938047\n",
            "Generation 265: Best Fitness = 0.00039386152036938047\n",
            "Generation 266: Best Fitness = 0.00039386152036938047\n",
            "Generation 267: Best Fitness = 0.00039386152036938047\n",
            "Generation 268: Best Fitness = 0.00039386152036938047\n",
            "Generation 269: Best Fitness = 0.00039386152036938047\n",
            "Generation 270: Best Fitness = 0.00039386152036938047\n",
            "Generation 271: Best Fitness = 0.00039386152036938047\n",
            "Generation 272: Best Fitness = 0.00039386152036938047\n",
            "Generation 273: Best Fitness = 0.00039386152036938047\n",
            "Generation 274: Best Fitness = 0.00039386152036938047\n",
            "Generation 275: Best Fitness = 0.00039386152036938047\n",
            "Generation 276: Best Fitness = 0.00039386152036938047\n",
            "Generation 277: Best Fitness = 0.00039386152036938047\n",
            "Generation 278: Best Fitness = 0.00039386152036938047\n",
            "Generation 279: Best Fitness = 0.00039386152036938047\n",
            "Generation 280: Best Fitness = 0.00039386152036938047\n",
            "Generation 281: Best Fitness = 0.00039386152036938047\n",
            "Generation 282: Best Fitness = 0.00039386152036938047\n",
            "Generation 283: Best Fitness = 0.00039386152036938047\n",
            "Generation 284: Best Fitness = 0.00039386152036938047\n",
            "Generation 285: Best Fitness = 0.00039386152036938047\n",
            "Generation 286: Best Fitness = 0.00039386152036938047\n",
            "Generation 287: Best Fitness = 0.00039386152036938047\n",
            "Generation 288: Best Fitness = 0.00039386152036938047\n",
            "Generation 289: Best Fitness = 0.00039386152036938047\n",
            "Generation 290: Best Fitness = 0.00039386152036938047\n",
            "Generation 291: Best Fitness = 0.00039386152036938047\n",
            "Generation 292: Best Fitness = 0.00039386152036938047\n",
            "Generation 293: Best Fitness = 0.00039386152036938047\n",
            "Generation 294: Best Fitness = 0.00039386152036938047\n",
            "Generation 295: Best Fitness = 0.00039386152036938047\n",
            "Generation 296: Best Fitness = 0.00039386152036938047\n",
            "Generation 297: Best Fitness = 0.00039386152036938047\n",
            "Generation 298: Best Fitness = 0.00039386152036938047\n",
            "Generation 299: Best Fitness = 0.00039386152036938047\n",
            "Generation 300: Best Fitness = 0.00039386152036938047\n",
            "Generation 301: Best Fitness = 0.00039386152036938047\n",
            "Generation 302: Best Fitness = 0.00039386152036938047\n",
            "Generation 303: Best Fitness = 0.00039386152036938047\n",
            "Generation 304: Best Fitness = 0.00039386152036938047\n",
            "Generation 305: Best Fitness = 0.00039386152036938047\n",
            "Generation 306: Best Fitness = 0.00039386152036938047\n",
            "Stopping early at generation 307 due to convergence.\n",
            "Total time taken: 422.8821005821228 seconds\n",
            "Best Route: [40, 13, 43, 1, 26, 34, 33, 2, 24, 14, 17, 22, 18, 4, 44, 12, 36, 41, 9, 38, 15, 30, 6, 35, 0, 29, 3, 16, 5, 19, 25, 11, 31, 23, 8, 20, 42, 10, 27, 28, 21, 32, 37, 7, 39]\n",
            "Total Distance: 2538.9634383733564\n"
          ]
        }
      ],
      "source": [
        "best_route_2 = genetic_algorithm(locations_list_2)\n",
        "\n",
        "print(\"Best Route:\", best_route_2)\n",
        "print(\"Total Distance:\", calculate_total_distance(best_route_2, locations_list_2))"
      ]
    },
    {
      "cell_type": "code",
      "execution_count": 23,
      "metadata": {
        "colab": {
          "base_uri": "https://localhost:8080/",
          "height": 542
        },
        "id": "gdowTQPMLwLD",
        "outputId": "e77cdd6e-7346-407b-9c30-bf2fd9dc48ea"
      },
      "outputs": [
        {
          "data": {
            "application/vnd.plotly.v1+json": {
              "config": {
                "plotlyServerURL": "https://plot.ly"
              },
              "data": [
                {
                  "lat": [
                    -0.4944806277533381,
                    1.2333206803252263,
                    2.7444413797793303,
                    -4.523945245495672,
                    1.5312008380559405,
                    -2.164504069043517,
                    -9.157005011178644,
                    0.18611433492602847,
                    6.1678704565932065,
                    -4.239080455275716,
                    9.066848433854641,
                    -2.500815820126383,
                    6.69222617702323,
                    4.906200001669905,
                    -9.029543547742605,
                    8.135742407083915,
                    9.151659665775282,
                    -1.894811661184887,
                    -3.3423731377674306,
                    -10.16612758538313,
                    9.224036077278733,
                    -8.925730455017739,
                    1.7300527360578313,
                    1.1447306708401404,
                    -2.753979360716267,
                    5.522761537791217,
                    7.8473909343153085,
                    -9.762683521105338,
                    2.5022616371803688,
                    8.793156653304985,
                    7.67568978899127,
                    -4.222942091613046,
                    4.538127022754425,
                    7.352788770463013,
                    3.2514044113995473,
                    1.9402285492199196,
                    -2.504611448890488,
                    2.7459326138349596,
                    -4.738674707495262,
                    6.0790717258450515,
                    7.744477179554376,
                    5.842695316079709,
                    -1.7520260727929398,
                    -9.850034533709039,
                    7.083385509307471
                  ],
                  "lon": [
                    -0.5967129351507138,
                    0.07280599163878376,
                    -6.598892180165091,
                    3.2548817322830423,
                    -9.238509889357582,
                    -6.78387070041849,
                    9.448942499652201,
                    -4.7657384240376395,
                    3.295071284991404,
                    -9.836569991963875,
                    6.945286837949128,
                    -3.818049720030952,
                    -3.604758634416097,
                    8.222080744909167,
                    1.790985803345144,
                    2.62540961305045,
                    4.869659080149722,
                    1.8623059708163743,
                    5.279051512854661,
                    -8.137818387542705,
                    8.948730240307192,
                    0.764522532861166,
                    -9.652557198559352,
                    4.071852350947189,
                    -7.353190221807237,
                    -6.0982319850693685,
                    2.51123872007802,
                    9.033026070798178,
                    -7.918646511571945,
                    3.517772427270228,
                    -3.646114923128415,
                    -5.227109407751568,
                    9.339998062191938,
                    8.266327345816627,
                    -5.777364723292004,
                    9.819406654449,
                    2.873688155473049,
                    1.233887869768865,
                    1.3540134001294295,
                    -2.7739439117199374,
                    5.017856439071197,
                    -5.004898593416249,
                    -4.787534099512482,
                    -6.591943773957334,
                    3.6709913482514756
                  ],
                  "marker": {
                    "color": "red",
                    "size": 10
                  },
                  "mode": "markers+text",
                  "text": [
                    "ID: 40",
                    "ID: 13",
                    "ID: 43",
                    "ID: 1",
                    "ID: 26",
                    "ID: 34",
                    "ID: 33",
                    "ID: 2",
                    "ID: 24",
                    "ID: 14",
                    "ID: 17",
                    "ID: 22",
                    "ID: 18",
                    "ID: 4",
                    "ID: 44",
                    "ID: 12",
                    "ID: 36",
                    "ID: 41",
                    "ID: 9",
                    "ID: 38",
                    "ID: 15",
                    "ID: 30",
                    "ID: 6",
                    "ID: 35",
                    "ID: 0",
                    "ID: 29",
                    "ID: 3",
                    "ID: 16",
                    "ID: 5",
                    "ID: 19",
                    "ID: 25",
                    "ID: 11",
                    "ID: 31",
                    "ID: 23",
                    "ID: 8",
                    "ID: 20",
                    "ID: 42",
                    "ID: 10",
                    "ID: 27",
                    "ID: 28",
                    "ID: 21",
                    "ID: 32",
                    "ID: 37",
                    "ID: 7",
                    "ID: 39"
                  ],
                  "textposition": "top right",
                  "type": "scattermapbox"
                },
                {
                  "lat": [
                    -0.4944806277533381,
                    1.2333206803252263,
                    2.7444413797793303,
                    -4.523945245495672,
                    1.5312008380559405,
                    -2.164504069043517,
                    -9.157005011178644,
                    0.18611433492602847,
                    6.1678704565932065,
                    -4.239080455275716,
                    9.066848433854641,
                    -2.500815820126383,
                    6.69222617702323,
                    4.906200001669905,
                    -9.029543547742605,
                    8.135742407083915,
                    9.151659665775282,
                    -1.894811661184887,
                    -3.3423731377674306,
                    -10.16612758538313,
                    9.224036077278733,
                    -8.925730455017739,
                    1.7300527360578313,
                    1.1447306708401404,
                    -2.753979360716267,
                    5.522761537791217,
                    7.8473909343153085,
                    -9.762683521105338,
                    2.5022616371803688,
                    8.793156653304985,
                    7.67568978899127,
                    -4.222942091613046,
                    4.538127022754425,
                    7.352788770463013,
                    3.2514044113995473,
                    1.9402285492199196,
                    -2.504611448890488,
                    2.7459326138349596,
                    -4.738674707495262,
                    6.0790717258450515,
                    7.744477179554376,
                    5.842695316079709,
                    -1.7520260727929398,
                    -9.850034533709039,
                    7.083385509307471
                  ],
                  "line": {
                    "color": "blue",
                    "width": 2
                  },
                  "lon": [
                    -0.5967129351507138,
                    0.07280599163878376,
                    -6.598892180165091,
                    3.2548817322830423,
                    -9.238509889357582,
                    -6.78387070041849,
                    9.448942499652201,
                    -4.7657384240376395,
                    3.295071284991404,
                    -9.836569991963875,
                    6.945286837949128,
                    -3.818049720030952,
                    -3.604758634416097,
                    8.222080744909167,
                    1.790985803345144,
                    2.62540961305045,
                    4.869659080149722,
                    1.8623059708163743,
                    5.279051512854661,
                    -8.137818387542705,
                    8.948730240307192,
                    0.764522532861166,
                    -9.652557198559352,
                    4.071852350947189,
                    -7.353190221807237,
                    -6.0982319850693685,
                    2.51123872007802,
                    9.033026070798178,
                    -7.918646511571945,
                    3.517772427270228,
                    -3.646114923128415,
                    -5.227109407751568,
                    9.339998062191938,
                    8.266327345816627,
                    -5.777364723292004,
                    9.819406654449,
                    2.873688155473049,
                    1.233887869768865,
                    1.3540134001294295,
                    -2.7739439117199374,
                    5.017856439071197,
                    -5.004898593416249,
                    -4.787534099512482,
                    -6.591943773957334,
                    3.6709913482514756
                  ],
                  "mode": "lines",
                  "text": [
                    "Start",
                    "",
                    "",
                    "",
                    "",
                    "",
                    "",
                    "",
                    "",
                    "",
                    "",
                    "",
                    "",
                    "",
                    "",
                    "",
                    "",
                    "",
                    "",
                    "",
                    "",
                    "",
                    "",
                    "",
                    "",
                    "",
                    "",
                    "",
                    "",
                    "",
                    "",
                    "",
                    "",
                    "",
                    "",
                    "",
                    "",
                    "",
                    "",
                    "",
                    "",
                    "",
                    "",
                    "",
                    "End"
                  ],
                  "type": "scattermapbox"
                }
              ],
              "layout": {
                "mapbox": {
                  "center": {
                    "lat": 1.0846765812669688,
                    "lon": -0.0027258560847867484
                  },
                  "style": "stamen-terrain",
                  "zoom": 10
                },
                "margin": {
                  "b": 0,
                  "l": 0,
                  "r": 0,
                  "t": 0
                },
                "template": {
                  "data": {
                    "bar": [
                      {
                        "error_x": {
                          "color": "#2a3f5f"
                        },
                        "error_y": {
                          "color": "#2a3f5f"
                        },
                        "marker": {
                          "line": {
                            "color": "#E5ECF6",
                            "width": 0.5
                          },
                          "pattern": {
                            "fillmode": "overlay",
                            "size": 10,
                            "solidity": 0.2
                          }
                        },
                        "type": "bar"
                      }
                    ],
                    "barpolar": [
                      {
                        "marker": {
                          "line": {
                            "color": "#E5ECF6",
                            "width": 0.5
                          },
                          "pattern": {
                            "fillmode": "overlay",
                            "size": 10,
                            "solidity": 0.2
                          }
                        },
                        "type": "barpolar"
                      }
                    ],
                    "carpet": [
                      {
                        "aaxis": {
                          "endlinecolor": "#2a3f5f",
                          "gridcolor": "white",
                          "linecolor": "white",
                          "minorgridcolor": "white",
                          "startlinecolor": "#2a3f5f"
                        },
                        "baxis": {
                          "endlinecolor": "#2a3f5f",
                          "gridcolor": "white",
                          "linecolor": "white",
                          "minorgridcolor": "white",
                          "startlinecolor": "#2a3f5f"
                        },
                        "type": "carpet"
                      }
                    ],
                    "choropleth": [
                      {
                        "colorbar": {
                          "outlinewidth": 0,
                          "ticks": ""
                        },
                        "type": "choropleth"
                      }
                    ],
                    "contour": [
                      {
                        "colorbar": {
                          "outlinewidth": 0,
                          "ticks": ""
                        },
                        "colorscale": [
                          [
                            0,
                            "#0d0887"
                          ],
                          [
                            0.1111111111111111,
                            "#46039f"
                          ],
                          [
                            0.2222222222222222,
                            "#7201a8"
                          ],
                          [
                            0.3333333333333333,
                            "#9c179e"
                          ],
                          [
                            0.4444444444444444,
                            "#bd3786"
                          ],
                          [
                            0.5555555555555556,
                            "#d8576b"
                          ],
                          [
                            0.6666666666666666,
                            "#ed7953"
                          ],
                          [
                            0.7777777777777778,
                            "#fb9f3a"
                          ],
                          [
                            0.8888888888888888,
                            "#fdca26"
                          ],
                          [
                            1,
                            "#f0f921"
                          ]
                        ],
                        "type": "contour"
                      }
                    ],
                    "contourcarpet": [
                      {
                        "colorbar": {
                          "outlinewidth": 0,
                          "ticks": ""
                        },
                        "type": "contourcarpet"
                      }
                    ],
                    "heatmap": [
                      {
                        "colorbar": {
                          "outlinewidth": 0,
                          "ticks": ""
                        },
                        "colorscale": [
                          [
                            0,
                            "#0d0887"
                          ],
                          [
                            0.1111111111111111,
                            "#46039f"
                          ],
                          [
                            0.2222222222222222,
                            "#7201a8"
                          ],
                          [
                            0.3333333333333333,
                            "#9c179e"
                          ],
                          [
                            0.4444444444444444,
                            "#bd3786"
                          ],
                          [
                            0.5555555555555556,
                            "#d8576b"
                          ],
                          [
                            0.6666666666666666,
                            "#ed7953"
                          ],
                          [
                            0.7777777777777778,
                            "#fb9f3a"
                          ],
                          [
                            0.8888888888888888,
                            "#fdca26"
                          ],
                          [
                            1,
                            "#f0f921"
                          ]
                        ],
                        "type": "heatmap"
                      }
                    ],
                    "heatmapgl": [
                      {
                        "colorbar": {
                          "outlinewidth": 0,
                          "ticks": ""
                        },
                        "colorscale": [
                          [
                            0,
                            "#0d0887"
                          ],
                          [
                            0.1111111111111111,
                            "#46039f"
                          ],
                          [
                            0.2222222222222222,
                            "#7201a8"
                          ],
                          [
                            0.3333333333333333,
                            "#9c179e"
                          ],
                          [
                            0.4444444444444444,
                            "#bd3786"
                          ],
                          [
                            0.5555555555555556,
                            "#d8576b"
                          ],
                          [
                            0.6666666666666666,
                            "#ed7953"
                          ],
                          [
                            0.7777777777777778,
                            "#fb9f3a"
                          ],
                          [
                            0.8888888888888888,
                            "#fdca26"
                          ],
                          [
                            1,
                            "#f0f921"
                          ]
                        ],
                        "type": "heatmapgl"
                      }
                    ],
                    "histogram": [
                      {
                        "marker": {
                          "pattern": {
                            "fillmode": "overlay",
                            "size": 10,
                            "solidity": 0.2
                          }
                        },
                        "type": "histogram"
                      }
                    ],
                    "histogram2d": [
                      {
                        "colorbar": {
                          "outlinewidth": 0,
                          "ticks": ""
                        },
                        "colorscale": [
                          [
                            0,
                            "#0d0887"
                          ],
                          [
                            0.1111111111111111,
                            "#46039f"
                          ],
                          [
                            0.2222222222222222,
                            "#7201a8"
                          ],
                          [
                            0.3333333333333333,
                            "#9c179e"
                          ],
                          [
                            0.4444444444444444,
                            "#bd3786"
                          ],
                          [
                            0.5555555555555556,
                            "#d8576b"
                          ],
                          [
                            0.6666666666666666,
                            "#ed7953"
                          ],
                          [
                            0.7777777777777778,
                            "#fb9f3a"
                          ],
                          [
                            0.8888888888888888,
                            "#fdca26"
                          ],
                          [
                            1,
                            "#f0f921"
                          ]
                        ],
                        "type": "histogram2d"
                      }
                    ],
                    "histogram2dcontour": [
                      {
                        "colorbar": {
                          "outlinewidth": 0,
                          "ticks": ""
                        },
                        "colorscale": [
                          [
                            0,
                            "#0d0887"
                          ],
                          [
                            0.1111111111111111,
                            "#46039f"
                          ],
                          [
                            0.2222222222222222,
                            "#7201a8"
                          ],
                          [
                            0.3333333333333333,
                            "#9c179e"
                          ],
                          [
                            0.4444444444444444,
                            "#bd3786"
                          ],
                          [
                            0.5555555555555556,
                            "#d8576b"
                          ],
                          [
                            0.6666666666666666,
                            "#ed7953"
                          ],
                          [
                            0.7777777777777778,
                            "#fb9f3a"
                          ],
                          [
                            0.8888888888888888,
                            "#fdca26"
                          ],
                          [
                            1,
                            "#f0f921"
                          ]
                        ],
                        "type": "histogram2dcontour"
                      }
                    ],
                    "mesh3d": [
                      {
                        "colorbar": {
                          "outlinewidth": 0,
                          "ticks": ""
                        },
                        "type": "mesh3d"
                      }
                    ],
                    "parcoords": [
                      {
                        "line": {
                          "colorbar": {
                            "outlinewidth": 0,
                            "ticks": ""
                          }
                        },
                        "type": "parcoords"
                      }
                    ],
                    "pie": [
                      {
                        "automargin": true,
                        "type": "pie"
                      }
                    ],
                    "scatter": [
                      {
                        "fillpattern": {
                          "fillmode": "overlay",
                          "size": 10,
                          "solidity": 0.2
                        },
                        "type": "scatter"
                      }
                    ],
                    "scatter3d": [
                      {
                        "line": {
                          "colorbar": {
                            "outlinewidth": 0,
                            "ticks": ""
                          }
                        },
                        "marker": {
                          "colorbar": {
                            "outlinewidth": 0,
                            "ticks": ""
                          }
                        },
                        "type": "scatter3d"
                      }
                    ],
                    "scattercarpet": [
                      {
                        "marker": {
                          "colorbar": {
                            "outlinewidth": 0,
                            "ticks": ""
                          }
                        },
                        "type": "scattercarpet"
                      }
                    ],
                    "scattergeo": [
                      {
                        "marker": {
                          "colorbar": {
                            "outlinewidth": 0,
                            "ticks": ""
                          }
                        },
                        "type": "scattergeo"
                      }
                    ],
                    "scattergl": [
                      {
                        "marker": {
                          "colorbar": {
                            "outlinewidth": 0,
                            "ticks": ""
                          }
                        },
                        "type": "scattergl"
                      }
                    ],
                    "scattermapbox": [
                      {
                        "marker": {
                          "colorbar": {
                            "outlinewidth": 0,
                            "ticks": ""
                          }
                        },
                        "type": "scattermapbox"
                      }
                    ],
                    "scatterpolar": [
                      {
                        "marker": {
                          "colorbar": {
                            "outlinewidth": 0,
                            "ticks": ""
                          }
                        },
                        "type": "scatterpolar"
                      }
                    ],
                    "scatterpolargl": [
                      {
                        "marker": {
                          "colorbar": {
                            "outlinewidth": 0,
                            "ticks": ""
                          }
                        },
                        "type": "scatterpolargl"
                      }
                    ],
                    "scatterternary": [
                      {
                        "marker": {
                          "colorbar": {
                            "outlinewidth": 0,
                            "ticks": ""
                          }
                        },
                        "type": "scatterternary"
                      }
                    ],
                    "surface": [
                      {
                        "colorbar": {
                          "outlinewidth": 0,
                          "ticks": ""
                        },
                        "colorscale": [
                          [
                            0,
                            "#0d0887"
                          ],
                          [
                            0.1111111111111111,
                            "#46039f"
                          ],
                          [
                            0.2222222222222222,
                            "#7201a8"
                          ],
                          [
                            0.3333333333333333,
                            "#9c179e"
                          ],
                          [
                            0.4444444444444444,
                            "#bd3786"
                          ],
                          [
                            0.5555555555555556,
                            "#d8576b"
                          ],
                          [
                            0.6666666666666666,
                            "#ed7953"
                          ],
                          [
                            0.7777777777777778,
                            "#fb9f3a"
                          ],
                          [
                            0.8888888888888888,
                            "#fdca26"
                          ],
                          [
                            1,
                            "#f0f921"
                          ]
                        ],
                        "type": "surface"
                      }
                    ],
                    "table": [
                      {
                        "cells": {
                          "fill": {
                            "color": "#EBF0F8"
                          },
                          "line": {
                            "color": "white"
                          }
                        },
                        "header": {
                          "fill": {
                            "color": "#C8D4E3"
                          },
                          "line": {
                            "color": "white"
                          }
                        },
                        "type": "table"
                      }
                    ]
                  },
                  "layout": {
                    "annotationdefaults": {
                      "arrowcolor": "#2a3f5f",
                      "arrowhead": 0,
                      "arrowwidth": 1
                    },
                    "autotypenumbers": "strict",
                    "coloraxis": {
                      "colorbar": {
                        "outlinewidth": 0,
                        "ticks": ""
                      }
                    },
                    "colorscale": {
                      "diverging": [
                        [
                          0,
                          "#8e0152"
                        ],
                        [
                          0.1,
                          "#c51b7d"
                        ],
                        [
                          0.2,
                          "#de77ae"
                        ],
                        [
                          0.3,
                          "#f1b6da"
                        ],
                        [
                          0.4,
                          "#fde0ef"
                        ],
                        [
                          0.5,
                          "#f7f7f7"
                        ],
                        [
                          0.6,
                          "#e6f5d0"
                        ],
                        [
                          0.7,
                          "#b8e186"
                        ],
                        [
                          0.8,
                          "#7fbc41"
                        ],
                        [
                          0.9,
                          "#4d9221"
                        ],
                        [
                          1,
                          "#276419"
                        ]
                      ],
                      "sequential": [
                        [
                          0,
                          "#0d0887"
                        ],
                        [
                          0.1111111111111111,
                          "#46039f"
                        ],
                        [
                          0.2222222222222222,
                          "#7201a8"
                        ],
                        [
                          0.3333333333333333,
                          "#9c179e"
                        ],
                        [
                          0.4444444444444444,
                          "#bd3786"
                        ],
                        [
                          0.5555555555555556,
                          "#d8576b"
                        ],
                        [
                          0.6666666666666666,
                          "#ed7953"
                        ],
                        [
                          0.7777777777777778,
                          "#fb9f3a"
                        ],
                        [
                          0.8888888888888888,
                          "#fdca26"
                        ],
                        [
                          1,
                          "#f0f921"
                        ]
                      ],
                      "sequentialminus": [
                        [
                          0,
                          "#0d0887"
                        ],
                        [
                          0.1111111111111111,
                          "#46039f"
                        ],
                        [
                          0.2222222222222222,
                          "#7201a8"
                        ],
                        [
                          0.3333333333333333,
                          "#9c179e"
                        ],
                        [
                          0.4444444444444444,
                          "#bd3786"
                        ],
                        [
                          0.5555555555555556,
                          "#d8576b"
                        ],
                        [
                          0.6666666666666666,
                          "#ed7953"
                        ],
                        [
                          0.7777777777777778,
                          "#fb9f3a"
                        ],
                        [
                          0.8888888888888888,
                          "#fdca26"
                        ],
                        [
                          1,
                          "#f0f921"
                        ]
                      ]
                    },
                    "colorway": [
                      "#636efa",
                      "#EF553B",
                      "#00cc96",
                      "#ab63fa",
                      "#FFA15A",
                      "#19d3f3",
                      "#FF6692",
                      "#B6E880",
                      "#FF97FF",
                      "#FECB52"
                    ],
                    "font": {
                      "color": "#2a3f5f"
                    },
                    "geo": {
                      "bgcolor": "white",
                      "lakecolor": "white",
                      "landcolor": "#E5ECF6",
                      "showlakes": true,
                      "showland": true,
                      "subunitcolor": "white"
                    },
                    "hoverlabel": {
                      "align": "left"
                    },
                    "hovermode": "closest",
                    "mapbox": {
                      "style": "light"
                    },
                    "paper_bgcolor": "white",
                    "plot_bgcolor": "#E5ECF6",
                    "polar": {
                      "angularaxis": {
                        "gridcolor": "white",
                        "linecolor": "white",
                        "ticks": ""
                      },
                      "bgcolor": "#E5ECF6",
                      "radialaxis": {
                        "gridcolor": "white",
                        "linecolor": "white",
                        "ticks": ""
                      }
                    },
                    "scene": {
                      "xaxis": {
                        "backgroundcolor": "#E5ECF6",
                        "gridcolor": "white",
                        "gridwidth": 2,
                        "linecolor": "white",
                        "showbackground": true,
                        "ticks": "",
                        "zerolinecolor": "white"
                      },
                      "yaxis": {
                        "backgroundcolor": "#E5ECF6",
                        "gridcolor": "white",
                        "gridwidth": 2,
                        "linecolor": "white",
                        "showbackground": true,
                        "ticks": "",
                        "zerolinecolor": "white"
                      },
                      "zaxis": {
                        "backgroundcolor": "#E5ECF6",
                        "gridcolor": "white",
                        "gridwidth": 2,
                        "linecolor": "white",
                        "showbackground": true,
                        "ticks": "",
                        "zerolinecolor": "white"
                      }
                    },
                    "shapedefaults": {
                      "line": {
                        "color": "#2a3f5f"
                      }
                    },
                    "ternary": {
                      "aaxis": {
                        "gridcolor": "white",
                        "linecolor": "white",
                        "ticks": ""
                      },
                      "baxis": {
                        "gridcolor": "white",
                        "linecolor": "white",
                        "ticks": ""
                      },
                      "bgcolor": "#E5ECF6",
                      "caxis": {
                        "gridcolor": "white",
                        "linecolor": "white",
                        "ticks": ""
                      }
                    },
                    "title": {
                      "x": 0.05
                    },
                    "xaxis": {
                      "automargin": true,
                      "gridcolor": "white",
                      "linecolor": "white",
                      "ticks": "",
                      "title": {
                        "standoff": 15
                      },
                      "zerolinecolor": "white",
                      "zerolinewidth": 2
                    },
                    "yaxis": {
                      "automargin": true,
                      "gridcolor": "white",
                      "linecolor": "white",
                      "ticks": "",
                      "title": {
                        "standoff": 15
                      },
                      "zerolinecolor": "white",
                      "zerolinewidth": 2
                    }
                  }
                }
              }
            }
          },
          "metadata": {},
          "output_type": "display_data"
        }
      ],
      "source": [
        "# visualizing the best route\n",
        "plot_route(locations_2, best_route_2)"
      ]
    },
    {
      "cell_type": "code",
      "execution_count": 24,
      "metadata": {
        "colab": {
          "base_uri": "https://localhost:8080/"
        },
        "id": "QGcxQd5gL1Fb",
        "outputId": "78e35681-6093-4d4f-be98-d2054ddfe00d"
      },
      "outputs": [
        {
          "name": "stdout",
          "output_type": "stream",
          "text": [
            "Generation 1: Best Fitness = 3.744970455915048e-05\n",
            "Generation 2: Best Fitness = 3.767642320249205e-05\n",
            "Generation 3: Best Fitness = 3.800010027439909e-05\n",
            "Generation 4: Best Fitness = 4.083411129178108e-05\n",
            "Generation 5: Best Fitness = 4.083411129178108e-05\n",
            "Generation 6: Best Fitness = 4.111721122370834e-05\n",
            "Generation 7: Best Fitness = 4.291809771847317e-05\n",
            "Generation 8: Best Fitness = 4.291809771847317e-05\n",
            "Generation 9: Best Fitness = 4.450080198092235e-05\n",
            "Generation 10: Best Fitness = 4.4878044761501905e-05\n",
            "Generation 11: Best Fitness = 4.4878044761501905e-05\n",
            "Generation 12: Best Fitness = 4.547654422824835e-05\n",
            "Generation 13: Best Fitness = 4.793473329323071e-05\n",
            "Generation 14: Best Fitness = 4.793473329323071e-05\n",
            "Generation 15: Best Fitness = 5.036797345007211e-05\n",
            "Generation 16: Best Fitness = 5.036797345007211e-05\n",
            "Generation 17: Best Fitness = 5.036797345007211e-05\n",
            "Generation 18: Best Fitness = 5.036797345007211e-05\n",
            "Generation 19: Best Fitness = 5.036797345007211e-05\n",
            "Generation 20: Best Fitness = 5.036797345007211e-05\n",
            "Generation 21: Best Fitness = 5.036797345007211e-05\n",
            "Generation 22: Best Fitness = 5.036797345007211e-05\n",
            "Generation 23: Best Fitness = 5.1625783736955564e-05\n",
            "Generation 24: Best Fitness = 5.30061157712893e-05\n",
            "Generation 25: Best Fitness = 5.3352748941896104e-05\n",
            "Generation 26: Best Fitness = 5.355295606723966e-05\n",
            "Generation 27: Best Fitness = 5.355295606723966e-05\n",
            "Generation 28: Best Fitness = 5.615607864756857e-05\n",
            "Generation 29: Best Fitness = 5.785269769664766e-05\n",
            "Generation 30: Best Fitness = 5.785269769664766e-05\n",
            "Generation 31: Best Fitness = 5.785269769664766e-05\n",
            "Generation 32: Best Fitness = 5.785269769664766e-05\n",
            "Generation 33: Best Fitness = 5.785269769664766e-05\n",
            "Generation 34: Best Fitness = 5.785269769664766e-05\n",
            "Generation 35: Best Fitness = 5.785269769664766e-05\n",
            "Generation 36: Best Fitness = 5.785269769664766e-05\n",
            "Generation 37: Best Fitness = 5.994623249180669e-05\n",
            "Generation 38: Best Fitness = 6.031060523495585e-05\n",
            "Generation 39: Best Fitness = 6.031060523495585e-05\n",
            "Generation 40: Best Fitness = 6.184045003372061e-05\n",
            "Generation 41: Best Fitness = 6.289056979482367e-05\n",
            "Generation 42: Best Fitness = 6.289056979482367e-05\n",
            "Generation 43: Best Fitness = 6.289056979482367e-05\n",
            "Generation 44: Best Fitness = 6.454918590942966e-05\n",
            "Generation 45: Best Fitness = 6.524625704426392e-05\n",
            "Generation 46: Best Fitness = 6.531178630814274e-05\n",
            "Generation 47: Best Fitness = 6.531178630814274e-05\n",
            "Generation 48: Best Fitness = 6.743290488770071e-05\n",
            "Generation 49: Best Fitness = 6.743290488770071e-05\n",
            "Generation 50: Best Fitness = 6.963936052724821e-05\n",
            "Generation 51: Best Fitness = 6.999352945813081e-05\n",
            "Generation 52: Best Fitness = 6.999352945813081e-05\n",
            "Generation 53: Best Fitness = 7.128277772675124e-05\n",
            "Generation 54: Best Fitness = 7.29740678951601e-05\n",
            "Generation 55: Best Fitness = 7.553417543753035e-05\n",
            "Generation 56: Best Fitness = 7.558045625171897e-05\n",
            "Generation 57: Best Fitness = 7.558045625171897e-05\n",
            "Generation 58: Best Fitness = 7.709232371312118e-05\n",
            "Generation 59: Best Fitness = 7.71631909596349e-05\n",
            "Generation 60: Best Fitness = 7.73409733897755e-05\n",
            "Generation 61: Best Fitness = 7.908618251981484e-05\n",
            "Generation 62: Best Fitness = 7.908618251981484e-05\n",
            "Generation 63: Best Fitness = 7.969554549247246e-05\n",
            "Generation 64: Best Fitness = 8.0224507799456e-05\n",
            "Generation 65: Best Fitness = 8.0224507799456e-05\n",
            "Generation 66: Best Fitness = 8.075932551611212e-05\n",
            "Generation 67: Best Fitness = 8.075932551611212e-05\n",
            "Generation 68: Best Fitness = 8.087895228162445e-05\n",
            "Generation 69: Best Fitness = 8.12697981778449e-05\n",
            "Generation 70: Best Fitness = 8.149686879390996e-05\n",
            "Generation 71: Best Fitness = 8.18937242937617e-05\n",
            "Generation 72: Best Fitness = 8.18937242937617e-05\n",
            "Generation 73: Best Fitness = 8.18937242937617e-05\n",
            "Generation 74: Best Fitness = 8.18937242937617e-05\n",
            "Generation 75: Best Fitness = 8.18937242937617e-05\n",
            "Generation 76: Best Fitness = 8.18937242937617e-05\n",
            "Generation 77: Best Fitness = 8.377778064087183e-05\n",
            "Generation 78: Best Fitness = 8.377778064087183e-05\n",
            "Generation 79: Best Fitness = 8.377778064087183e-05\n",
            "Generation 80: Best Fitness = 8.377778064087183e-05\n",
            "Generation 81: Best Fitness = 8.377778064087183e-05\n",
            "Generation 82: Best Fitness = 8.377778064087183e-05\n",
            "Generation 83: Best Fitness = 8.377778064087183e-05\n",
            "Generation 84: Best Fitness = 8.377778064087183e-05\n",
            "Generation 85: Best Fitness = 8.377778064087183e-05\n",
            "Generation 86: Best Fitness = 8.377778064087183e-05\n",
            "Generation 87: Best Fitness = 8.377778064087183e-05\n",
            "Generation 88: Best Fitness = 8.377778064087183e-05\n",
            "Generation 89: Best Fitness = 8.377778064087183e-05\n",
            "Generation 90: Best Fitness = 8.377778064087183e-05\n",
            "Generation 91: Best Fitness = 8.377778064087183e-05\n",
            "Generation 92: Best Fitness = 8.377778064087183e-05\n",
            "Generation 93: Best Fitness = 8.377778064087183e-05\n",
            "Generation 94: Best Fitness = 8.377778064087183e-05\n",
            "Generation 95: Best Fitness = 8.377778064087183e-05\n",
            "Generation 96: Best Fitness = 8.377778064087183e-05\n",
            "Generation 97: Best Fitness = 8.377778064087183e-05\n",
            "Generation 98: Best Fitness = 8.377778064087183e-05\n",
            "Generation 99: Best Fitness = 8.377778064087183e-05\n",
            "Generation 100: Best Fitness = 8.377778064087183e-05\n",
            "Generation 101: Best Fitness = 8.377778064087183e-05\n",
            "Generation 102: Best Fitness = 8.377778064087183e-05\n",
            "Generation 103: Best Fitness = 8.377778064087183e-05\n",
            "Generation 104: Best Fitness = 8.377778064087183e-05\n",
            "Generation 105: Best Fitness = 8.377778064087183e-05\n",
            "Generation 106: Best Fitness = 8.377778064087183e-05\n",
            "Generation 107: Best Fitness = 8.377778064087183e-05\n",
            "Generation 108: Best Fitness = 8.377778064087183e-05\n",
            "Generation 109: Best Fitness = 8.377778064087183e-05\n",
            "Generation 110: Best Fitness = 8.377778064087183e-05\n",
            "Generation 111: Best Fitness = 8.377778064087183e-05\n",
            "Generation 112: Best Fitness = 8.377778064087183e-05\n",
            "Generation 113: Best Fitness = 8.377778064087183e-05\n",
            "Generation 114: Best Fitness = 8.399361895038688e-05\n",
            "Generation 115: Best Fitness = 8.455251356476835e-05\n",
            "Generation 116: Best Fitness = 8.455251356476835e-05\n",
            "Generation 117: Best Fitness = 8.455251356476835e-05\n",
            "Generation 118: Best Fitness = 8.455251356476835e-05\n",
            "Generation 119: Best Fitness = 8.455251356476835e-05\n",
            "Generation 120: Best Fitness = 8.455251356476835e-05\n",
            "Generation 121: Best Fitness = 8.455251356476835e-05\n",
            "Generation 122: Best Fitness = 8.455251356476835e-05\n",
            "Generation 123: Best Fitness = 8.455251356476835e-05\n",
            "Generation 124: Best Fitness = 8.455251356476835e-05\n",
            "Generation 125: Best Fitness = 8.455251356476835e-05\n",
            "Generation 126: Best Fitness = 8.455251356476835e-05\n",
            "Generation 127: Best Fitness = 8.455251356476835e-05\n",
            "Generation 128: Best Fitness = 8.455251356476835e-05\n",
            "Generation 129: Best Fitness = 8.455251356476835e-05\n",
            "Generation 130: Best Fitness = 8.455251356476835e-05\n",
            "Generation 131: Best Fitness = 8.455251356476835e-05\n",
            "Generation 132: Best Fitness = 8.455251356476835e-05\n",
            "Generation 133: Best Fitness = 8.455251356476835e-05\n",
            "Generation 134: Best Fitness = 8.455251356476835e-05\n",
            "Generation 135: Best Fitness = 8.455251356476835e-05\n",
            "Generation 136: Best Fitness = 8.455251356476835e-05\n",
            "Generation 137: Best Fitness = 8.455251356476835e-05\n",
            "Generation 138: Best Fitness = 8.455251356476835e-05\n",
            "Generation 139: Best Fitness = 8.455251356476835e-05\n",
            "Generation 140: Best Fitness = 8.455251356476835e-05\n",
            "Generation 141: Best Fitness = 8.455251356476835e-05\n",
            "Generation 142: Best Fitness = 8.455251356476835e-05\n",
            "Generation 143: Best Fitness = 8.455251356476835e-05\n",
            "Generation 144: Best Fitness = 8.455251356476835e-05\n",
            "Generation 145: Best Fitness = 8.455251356476835e-05\n",
            "Generation 146: Best Fitness = 8.455251356476835e-05\n",
            "Generation 147: Best Fitness = 8.455251356476835e-05\n",
            "Generation 148: Best Fitness = 8.455251356476835e-05\n",
            "Generation 149: Best Fitness = 8.455251356476835e-05\n",
            "Generation 150: Best Fitness = 8.455251356476835e-05\n",
            "Generation 151: Best Fitness = 8.455251356476835e-05\n",
            "Generation 152: Best Fitness = 8.455251356476835e-05\n",
            "Generation 153: Best Fitness = 8.455251356476835e-05\n",
            "Generation 154: Best Fitness = 8.455251356476835e-05\n",
            "Generation 155: Best Fitness = 8.455251356476835e-05\n",
            "Generation 156: Best Fitness = 8.455251356476835e-05\n",
            "Generation 157: Best Fitness = 8.455251356476835e-05\n",
            "Generation 158: Best Fitness = 8.455251356476835e-05\n",
            "Generation 159: Best Fitness = 8.455251356476835e-05\n",
            "Generation 160: Best Fitness = 8.455251356476835e-05\n",
            "Generation 161: Best Fitness = 8.455251356476835e-05\n",
            "Generation 162: Best Fitness = 8.58240419649571e-05\n",
            "Generation 163: Best Fitness = 8.58240419649571e-05\n",
            "Generation 164: Best Fitness = 8.58240419649571e-05\n",
            "Generation 165: Best Fitness = 8.58240419649571e-05\n",
            "Generation 166: Best Fitness = 8.58240419649571e-05\n",
            "Generation 167: Best Fitness = 8.58240419649571e-05\n",
            "Generation 168: Best Fitness = 8.58240419649571e-05\n",
            "Generation 169: Best Fitness = 8.58240419649571e-05\n",
            "Generation 170: Best Fitness = 8.58240419649571e-05\n",
            "Generation 171: Best Fitness = 8.58240419649571e-05\n",
            "Generation 172: Best Fitness = 8.58240419649571e-05\n",
            "Generation 173: Best Fitness = 8.58240419649571e-05\n",
            "Generation 174: Best Fitness = 8.58240419649571e-05\n",
            "Generation 175: Best Fitness = 8.58240419649571e-05\n",
            "Generation 176: Best Fitness = 8.58240419649571e-05\n",
            "Generation 177: Best Fitness = 8.58240419649571e-05\n",
            "Generation 178: Best Fitness = 8.58240419649571e-05\n",
            "Generation 179: Best Fitness = 8.58240419649571e-05\n",
            "Generation 180: Best Fitness = 8.58240419649571e-05\n",
            "Generation 181: Best Fitness = 8.58240419649571e-05\n",
            "Generation 182: Best Fitness = 8.58240419649571e-05\n",
            "Generation 183: Best Fitness = 8.58240419649571e-05\n",
            "Generation 184: Best Fitness = 8.58240419649571e-05\n",
            "Generation 185: Best Fitness = 8.58240419649571e-05\n",
            "Generation 186: Best Fitness = 8.58240419649571e-05\n",
            "Generation 187: Best Fitness = 8.58240419649571e-05\n",
            "Generation 188: Best Fitness = 8.58240419649571e-05\n",
            "Generation 189: Best Fitness = 8.58240419649571e-05\n",
            "Generation 190: Best Fitness = 8.58240419649571e-05\n",
            "Generation 191: Best Fitness = 8.58240419649571e-05\n",
            "Generation 192: Best Fitness = 8.58240419649571e-05\n",
            "Generation 193: Best Fitness = 8.58240419649571e-05\n",
            "Generation 194: Best Fitness = 8.58240419649571e-05\n",
            "Generation 195: Best Fitness = 8.58240419649571e-05\n",
            "Generation 196: Best Fitness = 8.58240419649571e-05\n",
            "Generation 197: Best Fitness = 8.58240419649571e-05\n",
            "Generation 198: Best Fitness = 8.58240419649571e-05\n",
            "Generation 199: Best Fitness = 8.58240419649571e-05\n",
            "Generation 200: Best Fitness = 8.58240419649571e-05\n",
            "Generation 201: Best Fitness = 8.58240419649571e-05\n",
            "Generation 202: Best Fitness = 8.58240419649571e-05\n",
            "Generation 203: Best Fitness = 8.58240419649571e-05\n",
            "Generation 204: Best Fitness = 8.58240419649571e-05\n",
            "Generation 205: Best Fitness = 8.58240419649571e-05\n",
            "Generation 206: Best Fitness = 8.58240419649571e-05\n",
            "Generation 207: Best Fitness = 8.58240419649571e-05\n",
            "Generation 208: Best Fitness = 8.58240419649571e-05\n",
            "Generation 209: Best Fitness = 8.58240419649571e-05\n",
            "Generation 210: Best Fitness = 8.58240419649571e-05\n",
            "Generation 211: Best Fitness = 8.58240419649571e-05\n",
            "Stopping early at generation 212 due to convergence.\n",
            "Total time taken: 287.35945081710815 seconds\n",
            "Best Route: [11, 0, 2, 43, 32, 25, 29, 8, 34, 37, 22, 27, 41, 35, 44, 30, 7, 38, 14, 6, 26, 5, 28, 18, 10, 13, 40, 9, 16, 33, 1, 42, 24, 39, 36, 4, 20, 31, 23, 15, 17, 21, 19, 3, 12]\n",
            "Total Distance: 11651.74672626478\n"
          ]
        }
      ],
      "source": [
        "best_route_3 = genetic_algorithm(locations_list_3)\n",
        "\n",
        "print(\"Best Route:\", best_route_3)\n",
        "print(\"Total Distance:\", calculate_total_distance(best_route_3, locations_list_3))"
      ]
    },
    {
      "cell_type": "code",
      "execution_count": 25,
      "metadata": {
        "colab": {
          "base_uri": "https://localhost:8080/",
          "height": 542
        },
        "id": "kl6JpBmIL6QP",
        "outputId": "118635cd-6bf8-4fae-f3f5-fae1483e77e4"
      },
      "outputs": [
        {
          "data": {
            "application/vnd.plotly.v1+json": {
              "config": {
                "plotlyServerURL": "https://plot.ly"
              },
              "data": [
                {
                  "lat": [
                    -0.8305999171433899,
                    -0.48906740468239573,
                    -1.6160574594653876,
                    2.255534763476132,
                    1.7573026890919479,
                    -1.2838501336261572,
                    -1.2355112054393056,
                    -0.6711241165758495,
                    0.8090192550696548,
                    1.912614849103486,
                    -0.21781474194890016,
                    -1.593462171232373,
                    1.2681343211822167,
                    0.6021744723653083,
                    1.3491336980197395,
                    0.47213561730882336,
                    1.4929641485641065,
                    1.2761326035222424,
                    -0.6546384571307035,
                    0.7223187477868496,
                    1.6344022801800284,
                    -1.398397842733491,
                    -1.7996592431113956,
                    0.05697905938004166,
                    -1.5822521522084125,
                    1.9342657999200237,
                    0.8464372592231437,
                    1.6845220751635446,
                    -1.8282344585600458,
                    -0.9267768631354871,
                    2.2270497989300146,
                    -1.4615970042662139,
                    -2.398282145248486,
                    -0.006870403172857142,
                    1.1498518747093596,
                    1.693969726466754,
                    -1.7863783479031121,
                    -0.11729637196614118,
                    -0.6919144807059435,
                    0.7575222779520845,
                    -0.9533482677388494,
                    1.7371993328528812,
                    -1.5027057473867296,
                    -2.0510395085160575,
                    1.4408415432674695
                  ],
                  "lon": [
                    1.0929305654651003,
                    0.6187696630853476,
                    -2.2043329708477883,
                    0.6664925522929378,
                    1.6811877333652019,
                    0.6802099735614139,
                    0.23851498177543196,
                    1.5364091685715522,
                    -1.2028507076604578,
                    0.8211210698440587,
                    -1.60759288346952,
                    2.322768984470084,
                    -0.35182028888941264,
                    0.45818048508343023,
                    -1.3814481778757144,
                    0.9105528360225321,
                    1.1399566339804825,
                    0.9906225324988854,
                    -0.43296728908265614,
                    0.8913632653191171,
                    -0.13191855371572347,
                    1.1644206749836554,
                    2.057537250911585,
                    -1.394540164049719,
                    1.9366690928260084,
                    0.2421970744714642,
                    -0.13431765034020526,
                    -0.029481016415244254,
                    0.5858197120532419,
                    -1.394163133078902,
                    -0.050238806840839256,
                    1.9586071783063435,
                    -0.506539515755423,
                    0.8926302142308598,
                    -1.0269949996972658,
                    -2.125057482283297,
                    1.8172004610715926,
                    1.3855952315561861,
                    1.618042644669803,
                    1.152892875880797,
                    -1.2702213025721043,
                    2.0423724947943764,
                    0.8687890178033246,
                    0.5510027239591887,
                    -1.1847913258046607
                  ],
                  "marker": {
                    "color": "red",
                    "size": 10
                  },
                  "mode": "markers+text",
                  "text": [
                    "ID: 11",
                    "ID: 0",
                    "ID: 2",
                    "ID: 43",
                    "ID: 32",
                    "ID: 25",
                    "ID: 29",
                    "ID: 8",
                    "ID: 34",
                    "ID: 37",
                    "ID: 22",
                    "ID: 27",
                    "ID: 41",
                    "ID: 35",
                    "ID: 44",
                    "ID: 30",
                    "ID: 7",
                    "ID: 38",
                    "ID: 14",
                    "ID: 6",
                    "ID: 26",
                    "ID: 5",
                    "ID: 28",
                    "ID: 18",
                    "ID: 10",
                    "ID: 13",
                    "ID: 40",
                    "ID: 9",
                    "ID: 16",
                    "ID: 33",
                    "ID: 1",
                    "ID: 42",
                    "ID: 24",
                    "ID: 39",
                    "ID: 36",
                    "ID: 4",
                    "ID: 20",
                    "ID: 31",
                    "ID: 23",
                    "ID: 15",
                    "ID: 17",
                    "ID: 21",
                    "ID: 19",
                    "ID: 3",
                    "ID: 12"
                  ],
                  "textposition": "top right",
                  "type": "scattermapbox"
                },
                {
                  "lat": [
                    -0.8305999171433899,
                    -0.48906740468239573,
                    -1.6160574594653876,
                    2.255534763476132,
                    1.7573026890919479,
                    -1.2838501336261572,
                    -1.2355112054393056,
                    -0.6711241165758495,
                    0.8090192550696548,
                    1.912614849103486,
                    -0.21781474194890016,
                    -1.593462171232373,
                    1.2681343211822167,
                    0.6021744723653083,
                    1.3491336980197395,
                    0.47213561730882336,
                    1.4929641485641065,
                    1.2761326035222424,
                    -0.6546384571307035,
                    0.7223187477868496,
                    1.6344022801800284,
                    -1.398397842733491,
                    -1.7996592431113956,
                    0.05697905938004166,
                    -1.5822521522084125,
                    1.9342657999200237,
                    0.8464372592231437,
                    1.6845220751635446,
                    -1.8282344585600458,
                    -0.9267768631354871,
                    2.2270497989300146,
                    -1.4615970042662139,
                    -2.398282145248486,
                    -0.006870403172857142,
                    1.1498518747093596,
                    1.693969726466754,
                    -1.7863783479031121,
                    -0.11729637196614118,
                    -0.6919144807059435,
                    0.7575222779520845,
                    -0.9533482677388494,
                    1.7371993328528812,
                    -1.5027057473867296,
                    -2.0510395085160575,
                    1.4408415432674695
                  ],
                  "line": {
                    "color": "blue",
                    "width": 2
                  },
                  "lon": [
                    1.0929305654651003,
                    0.6187696630853476,
                    -2.2043329708477883,
                    0.6664925522929378,
                    1.6811877333652019,
                    0.6802099735614139,
                    0.23851498177543196,
                    1.5364091685715522,
                    -1.2028507076604578,
                    0.8211210698440587,
                    -1.60759288346952,
                    2.322768984470084,
                    -0.35182028888941264,
                    0.45818048508343023,
                    -1.3814481778757144,
                    0.9105528360225321,
                    1.1399566339804825,
                    0.9906225324988854,
                    -0.43296728908265614,
                    0.8913632653191171,
                    -0.13191855371572347,
                    1.1644206749836554,
                    2.057537250911585,
                    -1.394540164049719,
                    1.9366690928260084,
                    0.2421970744714642,
                    -0.13431765034020526,
                    -0.029481016415244254,
                    0.5858197120532419,
                    -1.394163133078902,
                    -0.050238806840839256,
                    1.9586071783063435,
                    -0.506539515755423,
                    0.8926302142308598,
                    -1.0269949996972658,
                    -2.125057482283297,
                    1.8172004610715926,
                    1.3855952315561861,
                    1.618042644669803,
                    1.152892875880797,
                    -1.2702213025721043,
                    2.0423724947943764,
                    0.8687890178033246,
                    0.5510027239591887,
                    -1.1847913258046607
                  ],
                  "mode": "lines",
                  "text": [
                    "Start",
                    "",
                    "",
                    "",
                    "",
                    "",
                    "",
                    "",
                    "",
                    "",
                    "",
                    "",
                    "",
                    "",
                    "",
                    "",
                    "",
                    "",
                    "",
                    "",
                    "",
                    "",
                    "",
                    "",
                    "",
                    "",
                    "",
                    "",
                    "",
                    "",
                    "",
                    "",
                    "",
                    "",
                    "",
                    "",
                    "",
                    "",
                    "",
                    "",
                    "",
                    "",
                    "",
                    "",
                    "End"
                  ],
                  "type": "scattermapbox"
                }
              ],
              "layout": {
                "mapbox": {
                  "center": {
                    "lat": 0.04408061665862596,
                    "lon": 0.3531906849883349
                  },
                  "style": "stamen-terrain",
                  "zoom": 10
                },
                "margin": {
                  "b": 0,
                  "l": 0,
                  "r": 0,
                  "t": 0
                },
                "template": {
                  "data": {
                    "bar": [
                      {
                        "error_x": {
                          "color": "#2a3f5f"
                        },
                        "error_y": {
                          "color": "#2a3f5f"
                        },
                        "marker": {
                          "line": {
                            "color": "#E5ECF6",
                            "width": 0.5
                          },
                          "pattern": {
                            "fillmode": "overlay",
                            "size": 10,
                            "solidity": 0.2
                          }
                        },
                        "type": "bar"
                      }
                    ],
                    "barpolar": [
                      {
                        "marker": {
                          "line": {
                            "color": "#E5ECF6",
                            "width": 0.5
                          },
                          "pattern": {
                            "fillmode": "overlay",
                            "size": 10,
                            "solidity": 0.2
                          }
                        },
                        "type": "barpolar"
                      }
                    ],
                    "carpet": [
                      {
                        "aaxis": {
                          "endlinecolor": "#2a3f5f",
                          "gridcolor": "white",
                          "linecolor": "white",
                          "minorgridcolor": "white",
                          "startlinecolor": "#2a3f5f"
                        },
                        "baxis": {
                          "endlinecolor": "#2a3f5f",
                          "gridcolor": "white",
                          "linecolor": "white",
                          "minorgridcolor": "white",
                          "startlinecolor": "#2a3f5f"
                        },
                        "type": "carpet"
                      }
                    ],
                    "choropleth": [
                      {
                        "colorbar": {
                          "outlinewidth": 0,
                          "ticks": ""
                        },
                        "type": "choropleth"
                      }
                    ],
                    "contour": [
                      {
                        "colorbar": {
                          "outlinewidth": 0,
                          "ticks": ""
                        },
                        "colorscale": [
                          [
                            0,
                            "#0d0887"
                          ],
                          [
                            0.1111111111111111,
                            "#46039f"
                          ],
                          [
                            0.2222222222222222,
                            "#7201a8"
                          ],
                          [
                            0.3333333333333333,
                            "#9c179e"
                          ],
                          [
                            0.4444444444444444,
                            "#bd3786"
                          ],
                          [
                            0.5555555555555556,
                            "#d8576b"
                          ],
                          [
                            0.6666666666666666,
                            "#ed7953"
                          ],
                          [
                            0.7777777777777778,
                            "#fb9f3a"
                          ],
                          [
                            0.8888888888888888,
                            "#fdca26"
                          ],
                          [
                            1,
                            "#f0f921"
                          ]
                        ],
                        "type": "contour"
                      }
                    ],
                    "contourcarpet": [
                      {
                        "colorbar": {
                          "outlinewidth": 0,
                          "ticks": ""
                        },
                        "type": "contourcarpet"
                      }
                    ],
                    "heatmap": [
                      {
                        "colorbar": {
                          "outlinewidth": 0,
                          "ticks": ""
                        },
                        "colorscale": [
                          [
                            0,
                            "#0d0887"
                          ],
                          [
                            0.1111111111111111,
                            "#46039f"
                          ],
                          [
                            0.2222222222222222,
                            "#7201a8"
                          ],
                          [
                            0.3333333333333333,
                            "#9c179e"
                          ],
                          [
                            0.4444444444444444,
                            "#bd3786"
                          ],
                          [
                            0.5555555555555556,
                            "#d8576b"
                          ],
                          [
                            0.6666666666666666,
                            "#ed7953"
                          ],
                          [
                            0.7777777777777778,
                            "#fb9f3a"
                          ],
                          [
                            0.8888888888888888,
                            "#fdca26"
                          ],
                          [
                            1,
                            "#f0f921"
                          ]
                        ],
                        "type": "heatmap"
                      }
                    ],
                    "heatmapgl": [
                      {
                        "colorbar": {
                          "outlinewidth": 0,
                          "ticks": ""
                        },
                        "colorscale": [
                          [
                            0,
                            "#0d0887"
                          ],
                          [
                            0.1111111111111111,
                            "#46039f"
                          ],
                          [
                            0.2222222222222222,
                            "#7201a8"
                          ],
                          [
                            0.3333333333333333,
                            "#9c179e"
                          ],
                          [
                            0.4444444444444444,
                            "#bd3786"
                          ],
                          [
                            0.5555555555555556,
                            "#d8576b"
                          ],
                          [
                            0.6666666666666666,
                            "#ed7953"
                          ],
                          [
                            0.7777777777777778,
                            "#fb9f3a"
                          ],
                          [
                            0.8888888888888888,
                            "#fdca26"
                          ],
                          [
                            1,
                            "#f0f921"
                          ]
                        ],
                        "type": "heatmapgl"
                      }
                    ],
                    "histogram": [
                      {
                        "marker": {
                          "pattern": {
                            "fillmode": "overlay",
                            "size": 10,
                            "solidity": 0.2
                          }
                        },
                        "type": "histogram"
                      }
                    ],
                    "histogram2d": [
                      {
                        "colorbar": {
                          "outlinewidth": 0,
                          "ticks": ""
                        },
                        "colorscale": [
                          [
                            0,
                            "#0d0887"
                          ],
                          [
                            0.1111111111111111,
                            "#46039f"
                          ],
                          [
                            0.2222222222222222,
                            "#7201a8"
                          ],
                          [
                            0.3333333333333333,
                            "#9c179e"
                          ],
                          [
                            0.4444444444444444,
                            "#bd3786"
                          ],
                          [
                            0.5555555555555556,
                            "#d8576b"
                          ],
                          [
                            0.6666666666666666,
                            "#ed7953"
                          ],
                          [
                            0.7777777777777778,
                            "#fb9f3a"
                          ],
                          [
                            0.8888888888888888,
                            "#fdca26"
                          ],
                          [
                            1,
                            "#f0f921"
                          ]
                        ],
                        "type": "histogram2d"
                      }
                    ],
                    "histogram2dcontour": [
                      {
                        "colorbar": {
                          "outlinewidth": 0,
                          "ticks": ""
                        },
                        "colorscale": [
                          [
                            0,
                            "#0d0887"
                          ],
                          [
                            0.1111111111111111,
                            "#46039f"
                          ],
                          [
                            0.2222222222222222,
                            "#7201a8"
                          ],
                          [
                            0.3333333333333333,
                            "#9c179e"
                          ],
                          [
                            0.4444444444444444,
                            "#bd3786"
                          ],
                          [
                            0.5555555555555556,
                            "#d8576b"
                          ],
                          [
                            0.6666666666666666,
                            "#ed7953"
                          ],
                          [
                            0.7777777777777778,
                            "#fb9f3a"
                          ],
                          [
                            0.8888888888888888,
                            "#fdca26"
                          ],
                          [
                            1,
                            "#f0f921"
                          ]
                        ],
                        "type": "histogram2dcontour"
                      }
                    ],
                    "mesh3d": [
                      {
                        "colorbar": {
                          "outlinewidth": 0,
                          "ticks": ""
                        },
                        "type": "mesh3d"
                      }
                    ],
                    "parcoords": [
                      {
                        "line": {
                          "colorbar": {
                            "outlinewidth": 0,
                            "ticks": ""
                          }
                        },
                        "type": "parcoords"
                      }
                    ],
                    "pie": [
                      {
                        "automargin": true,
                        "type": "pie"
                      }
                    ],
                    "scatter": [
                      {
                        "fillpattern": {
                          "fillmode": "overlay",
                          "size": 10,
                          "solidity": 0.2
                        },
                        "type": "scatter"
                      }
                    ],
                    "scatter3d": [
                      {
                        "line": {
                          "colorbar": {
                            "outlinewidth": 0,
                            "ticks": ""
                          }
                        },
                        "marker": {
                          "colorbar": {
                            "outlinewidth": 0,
                            "ticks": ""
                          }
                        },
                        "type": "scatter3d"
                      }
                    ],
                    "scattercarpet": [
                      {
                        "marker": {
                          "colorbar": {
                            "outlinewidth": 0,
                            "ticks": ""
                          }
                        },
                        "type": "scattercarpet"
                      }
                    ],
                    "scattergeo": [
                      {
                        "marker": {
                          "colorbar": {
                            "outlinewidth": 0,
                            "ticks": ""
                          }
                        },
                        "type": "scattergeo"
                      }
                    ],
                    "scattergl": [
                      {
                        "marker": {
                          "colorbar": {
                            "outlinewidth": 0,
                            "ticks": ""
                          }
                        },
                        "type": "scattergl"
                      }
                    ],
                    "scattermapbox": [
                      {
                        "marker": {
                          "colorbar": {
                            "outlinewidth": 0,
                            "ticks": ""
                          }
                        },
                        "type": "scattermapbox"
                      }
                    ],
                    "scatterpolar": [
                      {
                        "marker": {
                          "colorbar": {
                            "outlinewidth": 0,
                            "ticks": ""
                          }
                        },
                        "type": "scatterpolar"
                      }
                    ],
                    "scatterpolargl": [
                      {
                        "marker": {
                          "colorbar": {
                            "outlinewidth": 0,
                            "ticks": ""
                          }
                        },
                        "type": "scatterpolargl"
                      }
                    ],
                    "scatterternary": [
                      {
                        "marker": {
                          "colorbar": {
                            "outlinewidth": 0,
                            "ticks": ""
                          }
                        },
                        "type": "scatterternary"
                      }
                    ],
                    "surface": [
                      {
                        "colorbar": {
                          "outlinewidth": 0,
                          "ticks": ""
                        },
                        "colorscale": [
                          [
                            0,
                            "#0d0887"
                          ],
                          [
                            0.1111111111111111,
                            "#46039f"
                          ],
                          [
                            0.2222222222222222,
                            "#7201a8"
                          ],
                          [
                            0.3333333333333333,
                            "#9c179e"
                          ],
                          [
                            0.4444444444444444,
                            "#bd3786"
                          ],
                          [
                            0.5555555555555556,
                            "#d8576b"
                          ],
                          [
                            0.6666666666666666,
                            "#ed7953"
                          ],
                          [
                            0.7777777777777778,
                            "#fb9f3a"
                          ],
                          [
                            0.8888888888888888,
                            "#fdca26"
                          ],
                          [
                            1,
                            "#f0f921"
                          ]
                        ],
                        "type": "surface"
                      }
                    ],
                    "table": [
                      {
                        "cells": {
                          "fill": {
                            "color": "#EBF0F8"
                          },
                          "line": {
                            "color": "white"
                          }
                        },
                        "header": {
                          "fill": {
                            "color": "#C8D4E3"
                          },
                          "line": {
                            "color": "white"
                          }
                        },
                        "type": "table"
                      }
                    ]
                  },
                  "layout": {
                    "annotationdefaults": {
                      "arrowcolor": "#2a3f5f",
                      "arrowhead": 0,
                      "arrowwidth": 1
                    },
                    "autotypenumbers": "strict",
                    "coloraxis": {
                      "colorbar": {
                        "outlinewidth": 0,
                        "ticks": ""
                      }
                    },
                    "colorscale": {
                      "diverging": [
                        [
                          0,
                          "#8e0152"
                        ],
                        [
                          0.1,
                          "#c51b7d"
                        ],
                        [
                          0.2,
                          "#de77ae"
                        ],
                        [
                          0.3,
                          "#f1b6da"
                        ],
                        [
                          0.4,
                          "#fde0ef"
                        ],
                        [
                          0.5,
                          "#f7f7f7"
                        ],
                        [
                          0.6,
                          "#e6f5d0"
                        ],
                        [
                          0.7,
                          "#b8e186"
                        ],
                        [
                          0.8,
                          "#7fbc41"
                        ],
                        [
                          0.9,
                          "#4d9221"
                        ],
                        [
                          1,
                          "#276419"
                        ]
                      ],
                      "sequential": [
                        [
                          0,
                          "#0d0887"
                        ],
                        [
                          0.1111111111111111,
                          "#46039f"
                        ],
                        [
                          0.2222222222222222,
                          "#7201a8"
                        ],
                        [
                          0.3333333333333333,
                          "#9c179e"
                        ],
                        [
                          0.4444444444444444,
                          "#bd3786"
                        ],
                        [
                          0.5555555555555556,
                          "#d8576b"
                        ],
                        [
                          0.6666666666666666,
                          "#ed7953"
                        ],
                        [
                          0.7777777777777778,
                          "#fb9f3a"
                        ],
                        [
                          0.8888888888888888,
                          "#fdca26"
                        ],
                        [
                          1,
                          "#f0f921"
                        ]
                      ],
                      "sequentialminus": [
                        [
                          0,
                          "#0d0887"
                        ],
                        [
                          0.1111111111111111,
                          "#46039f"
                        ],
                        [
                          0.2222222222222222,
                          "#7201a8"
                        ],
                        [
                          0.3333333333333333,
                          "#9c179e"
                        ],
                        [
                          0.4444444444444444,
                          "#bd3786"
                        ],
                        [
                          0.5555555555555556,
                          "#d8576b"
                        ],
                        [
                          0.6666666666666666,
                          "#ed7953"
                        ],
                        [
                          0.7777777777777778,
                          "#fb9f3a"
                        ],
                        [
                          0.8888888888888888,
                          "#fdca26"
                        ],
                        [
                          1,
                          "#f0f921"
                        ]
                      ]
                    },
                    "colorway": [
                      "#636efa",
                      "#EF553B",
                      "#00cc96",
                      "#ab63fa",
                      "#FFA15A",
                      "#19d3f3",
                      "#FF6692",
                      "#B6E880",
                      "#FF97FF",
                      "#FECB52"
                    ],
                    "font": {
                      "color": "#2a3f5f"
                    },
                    "geo": {
                      "bgcolor": "white",
                      "lakecolor": "white",
                      "landcolor": "#E5ECF6",
                      "showlakes": true,
                      "showland": true,
                      "subunitcolor": "white"
                    },
                    "hoverlabel": {
                      "align": "left"
                    },
                    "hovermode": "closest",
                    "mapbox": {
                      "style": "light"
                    },
                    "paper_bgcolor": "white",
                    "plot_bgcolor": "#E5ECF6",
                    "polar": {
                      "angularaxis": {
                        "gridcolor": "white",
                        "linecolor": "white",
                        "ticks": ""
                      },
                      "bgcolor": "#E5ECF6",
                      "radialaxis": {
                        "gridcolor": "white",
                        "linecolor": "white",
                        "ticks": ""
                      }
                    },
                    "scene": {
                      "xaxis": {
                        "backgroundcolor": "#E5ECF6",
                        "gridcolor": "white",
                        "gridwidth": 2,
                        "linecolor": "white",
                        "showbackground": true,
                        "ticks": "",
                        "zerolinecolor": "white"
                      },
                      "yaxis": {
                        "backgroundcolor": "#E5ECF6",
                        "gridcolor": "white",
                        "gridwidth": 2,
                        "linecolor": "white",
                        "showbackground": true,
                        "ticks": "",
                        "zerolinecolor": "white"
                      },
                      "zaxis": {
                        "backgroundcolor": "#E5ECF6",
                        "gridcolor": "white",
                        "gridwidth": 2,
                        "linecolor": "white",
                        "showbackground": true,
                        "ticks": "",
                        "zerolinecolor": "white"
                      }
                    },
                    "shapedefaults": {
                      "line": {
                        "color": "#2a3f5f"
                      }
                    },
                    "ternary": {
                      "aaxis": {
                        "gridcolor": "white",
                        "linecolor": "white",
                        "ticks": ""
                      },
                      "baxis": {
                        "gridcolor": "white",
                        "linecolor": "white",
                        "ticks": ""
                      },
                      "bgcolor": "#E5ECF6",
                      "caxis": {
                        "gridcolor": "white",
                        "linecolor": "white",
                        "ticks": ""
                      }
                    },
                    "title": {
                      "x": 0.05
                    },
                    "xaxis": {
                      "automargin": true,
                      "gridcolor": "white",
                      "linecolor": "white",
                      "ticks": "",
                      "title": {
                        "standoff": 15
                      },
                      "zerolinecolor": "white",
                      "zerolinewidth": 2
                    },
                    "yaxis": {
                      "automargin": true,
                      "gridcolor": "white",
                      "linecolor": "white",
                      "ticks": "",
                      "title": {
                        "standoff": 15
                      },
                      "zerolinecolor": "white",
                      "zerolinewidth": 2
                    }
                  }
                }
              }
            }
          },
          "metadata": {},
          "output_type": "display_data"
        }
      ],
      "source": [
        "# visualizing the best route\n",
        "plot_route(locations_3, best_route_3)"
      ]
    },
    {
      "cell_type": "markdown",
      "metadata": {},
      "source": [
        "\n",
        "# Result Summary\n",
        "\n",
        "\n",
        "## Algorithm Performance Analysis\n",
        "\n",
        "### 1. Genetic Algorithm (GA)\n",
        "\n",
        "#### Strengths:\n",
        "- **Global Search Capability**: GA is effective in exploring a wide solution space, making it less likely to get trapped in local optima compared to some other optimization methods.\n",
        "- **Adaptability**: The algorithm can easily adapt to changes in the problem constraints, such as varying delivery windows or additional locations, allowing for flexible route planning.\n",
        "- **Parallelism**: GA can be implemented in parallel, which can significantly reduce computation time, especially for larger datasets with many delivery points.\n",
        "- **Robustness**: The algorithm performs well across different datasets, demonstrating its versatility in handling various delivery scenarios, including sparse and congested locations.\n",
        "\n",
        "#### Limitations:\n",
        "- **Computationally Intensive**: GA can require significant computational resources, particularly for larger datasets, as it involves multiple generations and evaluations of potential solutions.\n",
        "- **Parameter Sensitivity**: The performance of GA is highly dependent on the choice of parameters (e.g., population size, mutation rate), which may require extensive tuning to achieve optimal results.\n",
        "- **Convergence Speed**: While GA is good at exploring the solution space, it may converge slowly, especially if the initial population is not diverse enough.\n",
        "\n",
        "### 2. Ant Colony Optimization (ACO)\n",
        "\n",
        "#### Strengths:\n",
        "- **Effective for Dynamic Environments**: ACO is particularly well-suited for dynamic routing problems, as it can adapt to changes in traffic conditions and delivery requirements in real-time.\n",
        "- **Positive Feedback Mechanism**: The pheromone updating process allows ACO to reinforce successful routes, leading to the emergence of optimal or near-optimal solutions over time.\n",
        "- **Good for Large Problems**: ACO can efficiently handle large datasets with many delivery points, making it a suitable choice for complex routing scenarios.\n",
        "\n",
        "#### Limitations:\n",
        "- **Convergence Issues**: ACO can sometimes converge prematurely to suboptimal solutions, especially if the pheromone evaporation rate is not appropriately set.\n",
        "- **Computational Overhead**: The algorithm requires multiple iterations to build up pheromone trails, which can lead to longer execution times compared to other methods, particularly in congested environments.\n",
        "- **Parameter Tuning**: Similar to GA, ACO's performance is sensitive to the choice of parameters (e.g., pheromone importance, evaporation rate), which may require careful tuning to achieve the best results.\n",
        "\n",
        "### 3. Heuristic Nearest Neighbor (NN) Algorithm\n",
        "\n",
        "#### Strengths:\n",
        "- **Simplicity and Ease of Implementation**: The NN algorithm is straightforward to understand and implement, making it accessible for quick route optimization tasks.\n",
        "- **Fast Execution Time**: Due to its greedy approach, the NN algorithm can quickly generate a route, making it suitable for scenarios where time is a critical factor.\n",
        "- **Good for Small Datasets**: For smaller sets of delivery points, the NN algorithm can produce reasonably efficient routes without the need for complex computations.\n",
        "\n",
        "#### Limitations:\n",
        "- **Local Optima**: The NN algorithm is prone to getting stuck in local optima. It makes decisions based solely on the nearest neighbor, which may not lead to the best overall route.\n",
        "- **Lack of Global Perspective**: The greedy nature of the algorithm means it does not consider the overall route structure, potentially resulting in longer total distances compared to more sophisticated algorithms.\n",
        "- **Sensitivity to Starting Point**: The final route can vary significantly based on the initial starting point chosen, leading to inconsistent results across different runs.\n",
        "- **Inefficiency in Complex Scenarios**: In cases with many delivery points or complex constraints (e.g., time windows, traffic conditions), the NN algorithm may not perform well, as it does not adaptively optimize the route based on these factors.\n",
        "\n"
      ]
    },
    {
      "cell_type": "markdown",
      "metadata": {},
      "source": []
    }
  ],
  "metadata": {
    "colab": {
      "provenance": []
    },
    "kernelspec": {
      "display_name": "Python 3",
      "name": "python3"
    },
    "language_info": {
      "codemirror_mode": {
        "name": "ipython",
        "version": 3
      },
      "file_extension": ".py",
      "mimetype": "text/x-python",
      "name": "python",
      "nbconvert_exporter": "python",
      "pygments_lexer": "ipython3",
      "version": "3.11.7"
    }
  },
  "nbformat": 4,
  "nbformat_minor": 0
}
